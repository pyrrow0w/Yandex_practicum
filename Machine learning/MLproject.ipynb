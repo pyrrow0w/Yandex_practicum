{
 "cells": [
  {
   "cell_type": "code",
   "execution_count": 1,
   "metadata": {},
   "outputs": [],
   "source": [
    "import pandas as pd\n",
    "import matplotlib.pyplot as plt\n",
    "import seaborn as sns\n",
    "from sklearn.model_selection import train_test_split\n",
    "from sklearn.linear_model import LogisticRegression\n",
    "from sklearn.ensemble import RandomForestClassifier\n",
    "from sklearn.metrics import accuracy_score, precision_score, recall_score, f1_score\n",
    "from sklearn.preprocessing import StandardScaler\n",
    "from scipy.cluster.hierarchy import dendrogram, linkage\n",
    "from sklearn.cluster import KMeans\n",
    "from sklearn.metrics import roc_auc_score\n",
    "from sklearn.metrics import silhouette_score"
   ]
  },
  {
   "cell_type": "markdown",
   "metadata": {},
   "source": [
    "# Оглавление"
   ]
  },
  {
   "cell_type": "markdown",
   "metadata": {},
   "source": [
    "1. [Введение](#introduction)\n",
    "\n",
    "\n",
    "2. [Работа с данными](#workwithdata)\n",
    "    \n",
    "    2.1 [Обзор датасета](#datasetrewiev)\n",
    "    \n",
    "    2.2 [Исследовательский анализ данных](#EDA)\n",
    "    \n",
    "\n",
    "3. [Модель прогнозирования оттока](#churnpredictionmodel)\n",
    "\n",
    "    3.1 [Обучение модели логистической регрессией](#logisticregression)\n",
    "    \n",
    "    3.2 [Обучение модели случайным лесом](#randomforest)\n",
    "    \n",
    "    3.3 [Сравнение моделей](#comparison)\n",
    "    \n",
    "    \n",
    "4. [Кластеризация](#clustering)\n",
    "\n",
    "\n",
    "5. [Выводы и рекомендации](#conclusions)\n",
    "\n",
    "\n",
    "6. [Альтернативный вариант](#altmethod)"
   ]
  },
  {
   "cell_type": "markdown",
   "metadata": {},
   "source": [
    "## Введение \n",
    "<a id=\"introduction\"></a>"
   ]
  },
  {
   "cell_type": "markdown",
   "metadata": {},
   "source": [
    "Сеть фитнес-центров \"Культурист-датасаентист\" разрабатывает стратегию взаимодействия с клиентами, целью которой является уменьшение оттока потребителей услуг.\n",
    "\n",
    "Заказчику необходимы аналитические данные, для подготовки которых необходимо решить следующие задачи:\n",
    "\n",
    "    - получить исходные данные для работы, открыть их, провести исследовательский анализ данных (EDA);\n",
    "    \n",
    "    - построить модель бинарной классификации для прогнозирования оттока клиентов;\n",
    "    \n",
    "    - произвести кластеризацию клиентов сети;\n",
    "    \n",
    "    - выделить основные группы среди клиентов;\n",
    "    \n",
    "    - предложить меры по снижению оттока клиентов, а также рекомендации по особенностям взаимодействия с клиентами из полученных групп."
   ]
  },
  {
   "cell_type": "markdown",
   "metadata": {},
   "source": [
    "## Работа с данными \n",
    "<a id=\"workwithdata\"></a>"
   ]
  },
  {
   "cell_type": "markdown",
   "metadata": {},
   "source": [
    "### Обзор датасета \n",
    "<a id=\"datasetrewiev\"></a>"
   ]
  },
  {
   "cell_type": "markdown",
   "metadata": {},
   "source": [
    "Заказчик предоставил для работы csv-файл. Прочитаем файл и изучим его структуру."
   ]
  },
  {
   "cell_type": "code",
   "execution_count": 2,
   "metadata": {},
   "outputs": [],
   "source": [
    "fitness_data = pd.read_csv('/datasets/gym_churn.csv')"
   ]
  },
  {
   "cell_type": "code",
   "execution_count": 3,
   "metadata": {},
   "outputs": [
    {
     "name": "stdout",
     "output_type": "stream",
     "text": [
      "<class 'pandas.core.frame.DataFrame'>\n",
      "RangeIndex: 4000 entries, 0 to 3999\n",
      "Data columns (total 14 columns):\n",
      " #   Column                             Non-Null Count  Dtype  \n",
      "---  ------                             --------------  -----  \n",
      " 0   gender                             4000 non-null   int64  \n",
      " 1   Near_Location                      4000 non-null   int64  \n",
      " 2   Partner                            4000 non-null   int64  \n",
      " 3   Promo_friends                      4000 non-null   int64  \n",
      " 4   Phone                              4000 non-null   int64  \n",
      " 5   Contract_period                    4000 non-null   int64  \n",
      " 6   Group_visits                       4000 non-null   int64  \n",
      " 7   Age                                4000 non-null   int64  \n",
      " 8   Avg_additional_charges_total       4000 non-null   float64\n",
      " 9   Month_to_end_contract              4000 non-null   float64\n",
      " 10  Lifetime                           4000 non-null   int64  \n",
      " 11  Avg_class_frequency_total          4000 non-null   float64\n",
      " 12  Avg_class_frequency_current_month  4000 non-null   float64\n",
      " 13  Churn                              4000 non-null   int64  \n",
      "dtypes: float64(4), int64(10)\n",
      "memory usage: 437.6 KB\n"
     ]
    },
    {
     "data": {
      "text/html": [
       "<div>\n",
       "<style scoped>\n",
       "    .dataframe tbody tr th:only-of-type {\n",
       "        vertical-align: middle;\n",
       "    }\n",
       "\n",
       "    .dataframe tbody tr th {\n",
       "        vertical-align: top;\n",
       "    }\n",
       "\n",
       "    .dataframe thead th {\n",
       "        text-align: right;\n",
       "    }\n",
       "</style>\n",
       "<table border=\"1\" class=\"dataframe\">\n",
       "  <thead>\n",
       "    <tr style=\"text-align: right;\">\n",
       "      <th></th>\n",
       "      <th>gender</th>\n",
       "      <th>Near_Location</th>\n",
       "      <th>Partner</th>\n",
       "      <th>Promo_friends</th>\n",
       "      <th>Phone</th>\n",
       "      <th>Contract_period</th>\n",
       "      <th>Group_visits</th>\n",
       "      <th>Age</th>\n",
       "      <th>Avg_additional_charges_total</th>\n",
       "      <th>Month_to_end_contract</th>\n",
       "      <th>Lifetime</th>\n",
       "      <th>Avg_class_frequency_total</th>\n",
       "      <th>Avg_class_frequency_current_month</th>\n",
       "      <th>Churn</th>\n",
       "    </tr>\n",
       "  </thead>\n",
       "  <tbody>\n",
       "    <tr>\n",
       "      <th>0</th>\n",
       "      <td>1</td>\n",
       "      <td>1</td>\n",
       "      <td>1</td>\n",
       "      <td>1</td>\n",
       "      <td>0</td>\n",
       "      <td>6</td>\n",
       "      <td>1</td>\n",
       "      <td>29</td>\n",
       "      <td>14.227470</td>\n",
       "      <td>5.0</td>\n",
       "      <td>3</td>\n",
       "      <td>0.020398</td>\n",
       "      <td>0.000000</td>\n",
       "      <td>0</td>\n",
       "    </tr>\n",
       "    <tr>\n",
       "      <th>1</th>\n",
       "      <td>0</td>\n",
       "      <td>1</td>\n",
       "      <td>0</td>\n",
       "      <td>0</td>\n",
       "      <td>1</td>\n",
       "      <td>12</td>\n",
       "      <td>1</td>\n",
       "      <td>31</td>\n",
       "      <td>113.202938</td>\n",
       "      <td>12.0</td>\n",
       "      <td>7</td>\n",
       "      <td>1.922936</td>\n",
       "      <td>1.910244</td>\n",
       "      <td>0</td>\n",
       "    </tr>\n",
       "    <tr>\n",
       "      <th>2</th>\n",
       "      <td>0</td>\n",
       "      <td>1</td>\n",
       "      <td>1</td>\n",
       "      <td>0</td>\n",
       "      <td>1</td>\n",
       "      <td>1</td>\n",
       "      <td>0</td>\n",
       "      <td>28</td>\n",
       "      <td>129.448479</td>\n",
       "      <td>1.0</td>\n",
       "      <td>2</td>\n",
       "      <td>1.859098</td>\n",
       "      <td>1.736502</td>\n",
       "      <td>0</td>\n",
       "    </tr>\n",
       "    <tr>\n",
       "      <th>3</th>\n",
       "      <td>0</td>\n",
       "      <td>1</td>\n",
       "      <td>1</td>\n",
       "      <td>1</td>\n",
       "      <td>1</td>\n",
       "      <td>12</td>\n",
       "      <td>1</td>\n",
       "      <td>33</td>\n",
       "      <td>62.669863</td>\n",
       "      <td>12.0</td>\n",
       "      <td>2</td>\n",
       "      <td>3.205633</td>\n",
       "      <td>3.357215</td>\n",
       "      <td>0</td>\n",
       "    </tr>\n",
       "    <tr>\n",
       "      <th>4</th>\n",
       "      <td>1</td>\n",
       "      <td>1</td>\n",
       "      <td>1</td>\n",
       "      <td>1</td>\n",
       "      <td>1</td>\n",
       "      <td>1</td>\n",
       "      <td>0</td>\n",
       "      <td>26</td>\n",
       "      <td>198.362265</td>\n",
       "      <td>1.0</td>\n",
       "      <td>3</td>\n",
       "      <td>1.113884</td>\n",
       "      <td>1.120078</td>\n",
       "      <td>0</td>\n",
       "    </tr>\n",
       "  </tbody>\n",
       "</table>\n",
       "</div>"
      ],
      "text/plain": [
       "   gender  Near_Location  Partner  Promo_friends  Phone  Contract_period  \\\n",
       "0       1              1        1              1      0                6   \n",
       "1       0              1        0              0      1               12   \n",
       "2       0              1        1              0      1                1   \n",
       "3       0              1        1              1      1               12   \n",
       "4       1              1        1              1      1                1   \n",
       "\n",
       "   Group_visits  Age  Avg_additional_charges_total  Month_to_end_contract  \\\n",
       "0             1   29                     14.227470                    5.0   \n",
       "1             1   31                    113.202938                   12.0   \n",
       "2             0   28                    129.448479                    1.0   \n",
       "3             1   33                     62.669863                   12.0   \n",
       "4             0   26                    198.362265                    1.0   \n",
       "\n",
       "   Lifetime  Avg_class_frequency_total  Avg_class_frequency_current_month  \\\n",
       "0         3                   0.020398                           0.000000   \n",
       "1         7                   1.922936                           1.910244   \n",
       "2         2                   1.859098                           1.736502   \n",
       "3         2                   3.205633                           3.357215   \n",
       "4         3                   1.113884                           1.120078   \n",
       "\n",
       "   Churn  \n",
       "0      0  \n",
       "1      0  \n",
       "2      0  \n",
       "3      0  \n",
       "4      0  "
      ]
     },
     "execution_count": 3,
     "metadata": {},
     "output_type": "execute_result"
    }
   ],
   "source": [
    "fitness_data.info()\n",
    "fitness_data.head()"
   ]
  },
  {
   "cell_type": "markdown",
   "metadata": {},
   "source": [
    "Таблица состоит из 14 столбцов и 4000 строк. Пропущенные значения отсутствуют. Проверим наличие дубликатов."
   ]
  },
  {
   "cell_type": "code",
   "execution_count": 4,
   "metadata": {},
   "outputs": [
    {
     "data": {
      "text/plain": [
       "0"
      ]
     },
     "execution_count": 4,
     "metadata": {},
     "output_type": "execute_result"
    }
   ],
   "source": [
    "fitness_data.duplicated().sum()"
   ]
  },
  {
   "cell_type": "markdown",
   "metadata": {},
   "source": [
    "Дубликаты в таблице отсутствуют."
   ]
  },
  {
   "cell_type": "markdown",
   "metadata": {},
   "source": [
    "Датасет представляет из себя таблицу с признаками и целевым показателем. Таблица состоит из 14 столбцов и 4000 строк. В таблице присутствуют катигориальные признаки. В данных не обнаружены пропуски и дубликаты. Исходный данные подходят для работы.  "
   ]
  },
  {
   "cell_type": "markdown",
   "metadata": {},
   "source": [
    "### Исследовательский анализ данных \n",
    "<a id=\"EDA\"></a>"
   ]
  },
  {
   "cell_type": "markdown",
   "metadata": {},
   "source": [
    "Изучим значения данных в таблице."
   ]
  },
  {
   "cell_type": "code",
   "execution_count": 5,
   "metadata": {},
   "outputs": [
    {
     "data": {
      "text/html": [
       "<div>\n",
       "<style scoped>\n",
       "    .dataframe tbody tr th:only-of-type {\n",
       "        vertical-align: middle;\n",
       "    }\n",
       "\n",
       "    .dataframe tbody tr th {\n",
       "        vertical-align: top;\n",
       "    }\n",
       "\n",
       "    .dataframe thead th {\n",
       "        text-align: right;\n",
       "    }\n",
       "</style>\n",
       "<table border=\"1\" class=\"dataframe\">\n",
       "  <thead>\n",
       "    <tr style=\"text-align: right;\">\n",
       "      <th></th>\n",
       "      <th>gender</th>\n",
       "      <th>Near_Location</th>\n",
       "      <th>Partner</th>\n",
       "      <th>Promo_friends</th>\n",
       "      <th>Phone</th>\n",
       "      <th>Contract_period</th>\n",
       "      <th>Group_visits</th>\n",
       "      <th>Age</th>\n",
       "      <th>Avg_additional_charges_total</th>\n",
       "      <th>Month_to_end_contract</th>\n",
       "      <th>Lifetime</th>\n",
       "      <th>Avg_class_frequency_total</th>\n",
       "      <th>Avg_class_frequency_current_month</th>\n",
       "      <th>Churn</th>\n",
       "    </tr>\n",
       "  </thead>\n",
       "  <tbody>\n",
       "    <tr>\n",
       "      <th>count</th>\n",
       "      <td>4000.000000</td>\n",
       "      <td>4000.000000</td>\n",
       "      <td>4000.000000</td>\n",
       "      <td>4000.000000</td>\n",
       "      <td>4000.000000</td>\n",
       "      <td>4000.000000</td>\n",
       "      <td>4000.000000</td>\n",
       "      <td>4000.000000</td>\n",
       "      <td>4000.000000</td>\n",
       "      <td>4000.000000</td>\n",
       "      <td>4000.000000</td>\n",
       "      <td>4000.000000</td>\n",
       "      <td>4000.000000</td>\n",
       "      <td>4000.000000</td>\n",
       "    </tr>\n",
       "    <tr>\n",
       "      <th>mean</th>\n",
       "      <td>0.510250</td>\n",
       "      <td>0.845250</td>\n",
       "      <td>0.486750</td>\n",
       "      <td>0.308500</td>\n",
       "      <td>0.903500</td>\n",
       "      <td>4.681250</td>\n",
       "      <td>0.412250</td>\n",
       "      <td>29.184250</td>\n",
       "      <td>146.943728</td>\n",
       "      <td>4.322750</td>\n",
       "      <td>3.724750</td>\n",
       "      <td>1.879020</td>\n",
       "      <td>1.767052</td>\n",
       "      <td>0.265250</td>\n",
       "    </tr>\n",
       "    <tr>\n",
       "      <th>std</th>\n",
       "      <td>0.499957</td>\n",
       "      <td>0.361711</td>\n",
       "      <td>0.499887</td>\n",
       "      <td>0.461932</td>\n",
       "      <td>0.295313</td>\n",
       "      <td>4.549706</td>\n",
       "      <td>0.492301</td>\n",
       "      <td>3.258367</td>\n",
       "      <td>96.355602</td>\n",
       "      <td>4.191297</td>\n",
       "      <td>3.749267</td>\n",
       "      <td>0.972245</td>\n",
       "      <td>1.052906</td>\n",
       "      <td>0.441521</td>\n",
       "    </tr>\n",
       "    <tr>\n",
       "      <th>min</th>\n",
       "      <td>0.000000</td>\n",
       "      <td>0.000000</td>\n",
       "      <td>0.000000</td>\n",
       "      <td>0.000000</td>\n",
       "      <td>0.000000</td>\n",
       "      <td>1.000000</td>\n",
       "      <td>0.000000</td>\n",
       "      <td>18.000000</td>\n",
       "      <td>0.148205</td>\n",
       "      <td>1.000000</td>\n",
       "      <td>0.000000</td>\n",
       "      <td>0.000000</td>\n",
       "      <td>0.000000</td>\n",
       "      <td>0.000000</td>\n",
       "    </tr>\n",
       "    <tr>\n",
       "      <th>25%</th>\n",
       "      <td>0.000000</td>\n",
       "      <td>1.000000</td>\n",
       "      <td>0.000000</td>\n",
       "      <td>0.000000</td>\n",
       "      <td>1.000000</td>\n",
       "      <td>1.000000</td>\n",
       "      <td>0.000000</td>\n",
       "      <td>27.000000</td>\n",
       "      <td>68.868830</td>\n",
       "      <td>1.000000</td>\n",
       "      <td>1.000000</td>\n",
       "      <td>1.180875</td>\n",
       "      <td>0.963003</td>\n",
       "      <td>0.000000</td>\n",
       "    </tr>\n",
       "    <tr>\n",
       "      <th>50%</th>\n",
       "      <td>1.000000</td>\n",
       "      <td>1.000000</td>\n",
       "      <td>0.000000</td>\n",
       "      <td>0.000000</td>\n",
       "      <td>1.000000</td>\n",
       "      <td>1.000000</td>\n",
       "      <td>0.000000</td>\n",
       "      <td>29.000000</td>\n",
       "      <td>136.220159</td>\n",
       "      <td>1.000000</td>\n",
       "      <td>3.000000</td>\n",
       "      <td>1.832768</td>\n",
       "      <td>1.719574</td>\n",
       "      <td>0.000000</td>\n",
       "    </tr>\n",
       "    <tr>\n",
       "      <th>75%</th>\n",
       "      <td>1.000000</td>\n",
       "      <td>1.000000</td>\n",
       "      <td>1.000000</td>\n",
       "      <td>1.000000</td>\n",
       "      <td>1.000000</td>\n",
       "      <td>6.000000</td>\n",
       "      <td>1.000000</td>\n",
       "      <td>31.000000</td>\n",
       "      <td>210.949625</td>\n",
       "      <td>6.000000</td>\n",
       "      <td>5.000000</td>\n",
       "      <td>2.536078</td>\n",
       "      <td>2.510336</td>\n",
       "      <td>1.000000</td>\n",
       "    </tr>\n",
       "    <tr>\n",
       "      <th>max</th>\n",
       "      <td>1.000000</td>\n",
       "      <td>1.000000</td>\n",
       "      <td>1.000000</td>\n",
       "      <td>1.000000</td>\n",
       "      <td>1.000000</td>\n",
       "      <td>12.000000</td>\n",
       "      <td>1.000000</td>\n",
       "      <td>41.000000</td>\n",
       "      <td>552.590740</td>\n",
       "      <td>12.000000</td>\n",
       "      <td>31.000000</td>\n",
       "      <td>6.023668</td>\n",
       "      <td>6.146783</td>\n",
       "      <td>1.000000</td>\n",
       "    </tr>\n",
       "  </tbody>\n",
       "</table>\n",
       "</div>"
      ],
      "text/plain": [
       "            gender  Near_Location      Partner  Promo_friends        Phone  \\\n",
       "count  4000.000000    4000.000000  4000.000000    4000.000000  4000.000000   \n",
       "mean      0.510250       0.845250     0.486750       0.308500     0.903500   \n",
       "std       0.499957       0.361711     0.499887       0.461932     0.295313   \n",
       "min       0.000000       0.000000     0.000000       0.000000     0.000000   \n",
       "25%       0.000000       1.000000     0.000000       0.000000     1.000000   \n",
       "50%       1.000000       1.000000     0.000000       0.000000     1.000000   \n",
       "75%       1.000000       1.000000     1.000000       1.000000     1.000000   \n",
       "max       1.000000       1.000000     1.000000       1.000000     1.000000   \n",
       "\n",
       "       Contract_period  Group_visits          Age  \\\n",
       "count      4000.000000   4000.000000  4000.000000   \n",
       "mean          4.681250      0.412250    29.184250   \n",
       "std           4.549706      0.492301     3.258367   \n",
       "min           1.000000      0.000000    18.000000   \n",
       "25%           1.000000      0.000000    27.000000   \n",
       "50%           1.000000      0.000000    29.000000   \n",
       "75%           6.000000      1.000000    31.000000   \n",
       "max          12.000000      1.000000    41.000000   \n",
       "\n",
       "       Avg_additional_charges_total  Month_to_end_contract     Lifetime  \\\n",
       "count                   4000.000000            4000.000000  4000.000000   \n",
       "mean                     146.943728               4.322750     3.724750   \n",
       "std                       96.355602               4.191297     3.749267   \n",
       "min                        0.148205               1.000000     0.000000   \n",
       "25%                       68.868830               1.000000     1.000000   \n",
       "50%                      136.220159               1.000000     3.000000   \n",
       "75%                      210.949625               6.000000     5.000000   \n",
       "max                      552.590740              12.000000    31.000000   \n",
       "\n",
       "       Avg_class_frequency_total  Avg_class_frequency_current_month  \\\n",
       "count                4000.000000                        4000.000000   \n",
       "mean                    1.879020                           1.767052   \n",
       "std                     0.972245                           1.052906   \n",
       "min                     0.000000                           0.000000   \n",
       "25%                     1.180875                           0.963003   \n",
       "50%                     1.832768                           1.719574   \n",
       "75%                     2.536078                           2.510336   \n",
       "max                     6.023668                           6.146783   \n",
       "\n",
       "             Churn  \n",
       "count  4000.000000  \n",
       "mean      0.265250  \n",
       "std       0.441521  \n",
       "min       0.000000  \n",
       "25%       0.000000  \n",
       "50%       0.000000  \n",
       "75%       1.000000  \n",
       "max       1.000000  "
      ]
     },
     "execution_count": 5,
     "metadata": {},
     "output_type": "execute_result"
    }
   ],
   "source": [
    "fitness_data.describe()"
   ]
  },
  {
   "cell_type": "markdown",
   "metadata": {},
   "source": [
    "Из данных в таблице видно, что выборка по признаку половой принадлежности, признаку Partner является сбалансированной."
   ]
  },
  {
   "cell_type": "markdown",
   "metadata": {},
   "source": [
    "Посмотрим на средние значения признаков для двух целевых групп: тех кто ушел и тех кто остался."
   ]
  },
  {
   "cell_type": "code",
   "execution_count": 6,
   "metadata": {},
   "outputs": [
    {
     "data": {
      "text/html": [
       "<div>\n",
       "<style scoped>\n",
       "    .dataframe tbody tr th:only-of-type {\n",
       "        vertical-align: middle;\n",
       "    }\n",
       "\n",
       "    .dataframe tbody tr th {\n",
       "        vertical-align: top;\n",
       "    }\n",
       "\n",
       "    .dataframe thead th {\n",
       "        text-align: right;\n",
       "    }\n",
       "</style>\n",
       "<table border=\"1\" class=\"dataframe\">\n",
       "  <thead>\n",
       "    <tr style=\"text-align: right;\">\n",
       "      <th></th>\n",
       "      <th>gender</th>\n",
       "      <th>Near_Location</th>\n",
       "      <th>Partner</th>\n",
       "      <th>Promo_friends</th>\n",
       "      <th>Phone</th>\n",
       "      <th>Contract_period</th>\n",
       "      <th>Group_visits</th>\n",
       "      <th>Age</th>\n",
       "      <th>Avg_additional_charges_total</th>\n",
       "      <th>Month_to_end_contract</th>\n",
       "      <th>Lifetime</th>\n",
       "      <th>Avg_class_frequency_total</th>\n",
       "      <th>Avg_class_frequency_current_month</th>\n",
       "    </tr>\n",
       "    <tr>\n",
       "      <th>Churn</th>\n",
       "      <th></th>\n",
       "      <th></th>\n",
       "      <th></th>\n",
       "      <th></th>\n",
       "      <th></th>\n",
       "      <th></th>\n",
       "      <th></th>\n",
       "      <th></th>\n",
       "      <th></th>\n",
       "      <th></th>\n",
       "      <th></th>\n",
       "      <th></th>\n",
       "      <th></th>\n",
       "    </tr>\n",
       "  </thead>\n",
       "  <tbody>\n",
       "    <tr>\n",
       "      <th>0</th>\n",
       "      <td>0.510037</td>\n",
       "      <td>0.873086</td>\n",
       "      <td>0.534195</td>\n",
       "      <td>0.353522</td>\n",
       "      <td>0.903709</td>\n",
       "      <td>5.747193</td>\n",
       "      <td>0.464103</td>\n",
       "      <td>29.976523</td>\n",
       "      <td>158.445715</td>\n",
       "      <td>5.283089</td>\n",
       "      <td>4.711807</td>\n",
       "      <td>2.024876</td>\n",
       "      <td>2.027882</td>\n",
       "    </tr>\n",
       "    <tr>\n",
       "      <th>1</th>\n",
       "      <td>0.510839</td>\n",
       "      <td>0.768143</td>\n",
       "      <td>0.355325</td>\n",
       "      <td>0.183789</td>\n",
       "      <td>0.902922</td>\n",
       "      <td>1.728558</td>\n",
       "      <td>0.268615</td>\n",
       "      <td>26.989632</td>\n",
       "      <td>115.082899</td>\n",
       "      <td>1.662582</td>\n",
       "      <td>0.990575</td>\n",
       "      <td>1.474995</td>\n",
       "      <td>1.044546</td>\n",
       "    </tr>\n",
       "  </tbody>\n",
       "</table>\n",
       "</div>"
      ],
      "text/plain": [
       "         gender  Near_Location   Partner  Promo_friends     Phone  \\\n",
       "Churn                                                               \n",
       "0      0.510037       0.873086  0.534195       0.353522  0.903709   \n",
       "1      0.510839       0.768143  0.355325       0.183789  0.902922   \n",
       "\n",
       "       Contract_period  Group_visits        Age  Avg_additional_charges_total  \\\n",
       "Churn                                                                           \n",
       "0             5.747193      0.464103  29.976523                    158.445715   \n",
       "1             1.728558      0.268615  26.989632                    115.082899   \n",
       "\n",
       "       Month_to_end_contract  Lifetime  Avg_class_frequency_total  \\\n",
       "Churn                                                               \n",
       "0                   5.283089  4.711807                   2.024876   \n",
       "1                   1.662582  0.990575                   1.474995   \n",
       "\n",
       "       Avg_class_frequency_current_month  \n",
       "Churn                                     \n",
       "0                               2.027882  \n",
       "1                               1.044546  "
      ]
     },
     "execution_count": 6,
     "metadata": {},
     "output_type": "execute_result"
    }
   ],
   "source": [
    "fitness_data.groupby('Churn').mean()"
   ]
  },
  {
   "cell_type": "markdown",
   "metadata": {},
   "source": [
    "Наблюдаются существенные отличия в столбцах длительность действующего абонемента и срок до окончания текущего абонемента. Так же предварительно можно сказать, что между этими показателями будет существовать высокая корреляция, т.к. срок до окончания зависит от среднего срока купленного абонемента. \n",
    "\n",
    "Большая разница заметна в признаке время с начала посещений фитнесс-клуба. Столбцы посещений групповых занятий и суммарная выручка от других услуг указывают на различия между группами.\n",
    "\n",
    "Можно сделать предварительные выводы о том, что больше склонны к оттоку клиенты, не являющиеся сотрудниками организации-партнера, купившие месячный абонемент, впервые пришедшие в данный фитнесс-центр. Такие клиенты реже посещают групповые занятия и меньше тратят денег на сопутствующие услуги и товары.  "
   ]
  },
  {
   "cell_type": "markdown",
   "metadata": {},
   "source": [
    "Построим распределения значений признаков для оттекших и оставшихся клиентов"
   ]
  },
  {
   "cell_type": "code",
   "execution_count": 7,
   "metadata": {},
   "outputs": [
    {
     "data": {
      "image/png": "[encoded data removed]",
      "text/plain": [
       "<Figure size 1080x1080 with 14 Axes>"
      ]
     },
     "metadata": {
      "needs_background": "light"
     },
     "output_type": "display_data"
    }
   ],
   "source": [
    "plt.figure(figsize=(15,15))\n",
    "for x,y in enumerate(fitness_data.columns):\n",
    "    plt.subplot(4,4,x+1)\n",
    "    plt.hist(fitness_data.query('Churn == 0')[y], color = 'palegreen', histtype='bar', ec='black', bins=10)\n",
    "    plt.hist(fitness_data.query('Churn == 1')[y], color = 'lemonchiffon', histtype='bar', ec='black', bins=10)\n",
    "    plt.title(y)\n",
    "    plt.grid(color='black', alpha = 0.1, axis = 'y')\n",
    "    plt.xlabel('value')\n",
    "    plt.ylabel('count')\n",
    "    sns.despine()\n",
    "    plt.tick_params(direction='inout')\n",
    "    plt.tight_layout()"
   ]
  },
  {
   "cell_type": "markdown",
   "metadata": {},
   "source": [
    "Построим и отобразим матрицу корреляций"
   ]
  },
  {
   "cell_type": "code",
   "execution_count": 8,
   "metadata": {},
   "outputs": [
    {
     "data": {
      "text/html": [
       "<div>\n",
       "<style scoped>\n",
       "    .dataframe tbody tr th:only-of-type {\n",
       "        vertical-align: middle;\n",
       "    }\n",
       "\n",
       "    .dataframe tbody tr th {\n",
       "        vertical-align: top;\n",
       "    }\n",
       "\n",
       "    .dataframe thead th {\n",
       "        text-align: right;\n",
       "    }\n",
       "</style>\n",
       "<table border=\"1\" class=\"dataframe\">\n",
       "  <thead>\n",
       "    <tr style=\"text-align: right;\">\n",
       "      <th></th>\n",
       "      <th>gender</th>\n",
       "      <th>Near_Location</th>\n",
       "      <th>Partner</th>\n",
       "      <th>Promo_friends</th>\n",
       "      <th>Phone</th>\n",
       "      <th>Contract_period</th>\n",
       "      <th>Group_visits</th>\n",
       "      <th>Age</th>\n",
       "      <th>Avg_additional_charges_total</th>\n",
       "      <th>Month_to_end_contract</th>\n",
       "      <th>Lifetime</th>\n",
       "      <th>Avg_class_frequency_total</th>\n",
       "      <th>Avg_class_frequency_current_month</th>\n",
       "      <th>Churn</th>\n",
       "    </tr>\n",
       "  </thead>\n",
       "  <tbody>\n",
       "    <tr>\n",
       "      <th>gender</th>\n",
       "      <td>1.000000</td>\n",
       "      <td>0.006699</td>\n",
       "      <td>-0.010463</td>\n",
       "      <td>-0.005033</td>\n",
       "      <td>-0.008542</td>\n",
       "      <td>0.000502</td>\n",
       "      <td>0.017879</td>\n",
       "      <td>0.013807</td>\n",
       "      <td>-0.009334</td>\n",
       "      <td>-0.001281</td>\n",
       "      <td>0.013579</td>\n",
       "      <td>0.014620</td>\n",
       "      <td>0.009156</td>\n",
       "      <td>0.000708</td>\n",
       "    </tr>\n",
       "    <tr>\n",
       "      <th>Near_Location</th>\n",
       "      <td>0.006699</td>\n",
       "      <td>1.000000</td>\n",
       "      <td>-0.005119</td>\n",
       "      <td>0.210964</td>\n",
       "      <td>-0.015763</td>\n",
       "      <td>0.150233</td>\n",
       "      <td>0.154728</td>\n",
       "      <td>0.058358</td>\n",
       "      <td>0.040761</td>\n",
       "      <td>0.143961</td>\n",
       "      <td>0.070921</td>\n",
       "      <td>0.043127</td>\n",
       "      <td>0.062664</td>\n",
       "      <td>-0.128098</td>\n",
       "    </tr>\n",
       "    <tr>\n",
       "      <th>Partner</th>\n",
       "      <td>-0.010463</td>\n",
       "      <td>-0.005119</td>\n",
       "      <td>1.000000</td>\n",
       "      <td>0.451960</td>\n",
       "      <td>0.009970</td>\n",
       "      <td>0.306166</td>\n",
       "      <td>0.022710</td>\n",
       "      <td>0.047480</td>\n",
       "      <td>0.022941</td>\n",
       "      <td>0.294632</td>\n",
       "      <td>0.061229</td>\n",
       "      <td>0.024938</td>\n",
       "      <td>0.045561</td>\n",
       "      <td>-0.157986</td>\n",
       "    </tr>\n",
       "    <tr>\n",
       "      <th>Promo_friends</th>\n",
       "      <td>-0.005033</td>\n",
       "      <td>0.210964</td>\n",
       "      <td>0.451960</td>\n",
       "      <td>1.000000</td>\n",
       "      <td>0.001982</td>\n",
       "      <td>0.244552</td>\n",
       "      <td>0.120170</td>\n",
       "      <td>0.050113</td>\n",
       "      <td>0.036898</td>\n",
       "      <td>0.239553</td>\n",
       "      <td>0.072721</td>\n",
       "      <td>0.028063</td>\n",
       "      <td>0.053768</td>\n",
       "      <td>-0.162233</td>\n",
       "    </tr>\n",
       "    <tr>\n",
       "      <th>Phone</th>\n",
       "      <td>-0.008542</td>\n",
       "      <td>-0.015763</td>\n",
       "      <td>0.009970</td>\n",
       "      <td>0.001982</td>\n",
       "      <td>1.000000</td>\n",
       "      <td>-0.006893</td>\n",
       "      <td>-0.010099</td>\n",
       "      <td>-0.011403</td>\n",
       "      <td>0.009279</td>\n",
       "      <td>-0.011196</td>\n",
       "      <td>-0.018801</td>\n",
       "      <td>0.008340</td>\n",
       "      <td>0.013375</td>\n",
       "      <td>-0.001177</td>\n",
       "    </tr>\n",
       "    <tr>\n",
       "      <th>Contract_period</th>\n",
       "      <td>0.000502</td>\n",
       "      <td>0.150233</td>\n",
       "      <td>0.306166</td>\n",
       "      <td>0.244552</td>\n",
       "      <td>-0.006893</td>\n",
       "      <td>1.000000</td>\n",
       "      <td>0.169991</td>\n",
       "      <td>0.138249</td>\n",
       "      <td>0.111445</td>\n",
       "      <td>0.973064</td>\n",
       "      <td>0.170725</td>\n",
       "      <td>0.096211</td>\n",
       "      <td>0.159407</td>\n",
       "      <td>-0.389984</td>\n",
       "    </tr>\n",
       "    <tr>\n",
       "      <th>Group_visits</th>\n",
       "      <td>0.017879</td>\n",
       "      <td>0.154728</td>\n",
       "      <td>0.022710</td>\n",
       "      <td>0.120170</td>\n",
       "      <td>-0.010099</td>\n",
       "      <td>0.169991</td>\n",
       "      <td>1.000000</td>\n",
       "      <td>0.080934</td>\n",
       "      <td>0.032079</td>\n",
       "      <td>0.163703</td>\n",
       "      <td>0.075853</td>\n",
       "      <td>0.056695</td>\n",
       "      <td>0.075923</td>\n",
       "      <td>-0.175325</td>\n",
       "    </tr>\n",
       "    <tr>\n",
       "      <th>Age</th>\n",
       "      <td>0.013807</td>\n",
       "      <td>0.058358</td>\n",
       "      <td>0.047480</td>\n",
       "      <td>0.050113</td>\n",
       "      <td>-0.011403</td>\n",
       "      <td>0.138249</td>\n",
       "      <td>0.080934</td>\n",
       "      <td>1.000000</td>\n",
       "      <td>0.080240</td>\n",
       "      <td>0.134511</td>\n",
       "      <td>0.164693</td>\n",
       "      <td>0.119953</td>\n",
       "      <td>0.183095</td>\n",
       "      <td>-0.404735</td>\n",
       "    </tr>\n",
       "    <tr>\n",
       "      <th>Avg_additional_charges_total</th>\n",
       "      <td>-0.009334</td>\n",
       "      <td>0.040761</td>\n",
       "      <td>0.022941</td>\n",
       "      <td>0.036898</td>\n",
       "      <td>0.009279</td>\n",
       "      <td>0.111445</td>\n",
       "      <td>0.032079</td>\n",
       "      <td>0.080240</td>\n",
       "      <td>1.000000</td>\n",
       "      <td>0.113958</td>\n",
       "      <td>0.079028</td>\n",
       "      <td>0.044426</td>\n",
       "      <td>0.079570</td>\n",
       "      <td>-0.198697</td>\n",
       "    </tr>\n",
       "    <tr>\n",
       "      <th>Month_to_end_contract</th>\n",
       "      <td>-0.001281</td>\n",
       "      <td>0.143961</td>\n",
       "      <td>0.294632</td>\n",
       "      <td>0.239553</td>\n",
       "      <td>-0.011196</td>\n",
       "      <td>0.973064</td>\n",
       "      <td>0.163703</td>\n",
       "      <td>0.134511</td>\n",
       "      <td>0.113958</td>\n",
       "      <td>1.000000</td>\n",
       "      <td>0.161078</td>\n",
       "      <td>0.085387</td>\n",
       "      <td>0.147605</td>\n",
       "      <td>-0.381393</td>\n",
       "    </tr>\n",
       "    <tr>\n",
       "      <th>Lifetime</th>\n",
       "      <td>0.013579</td>\n",
       "      <td>0.070921</td>\n",
       "      <td>0.061229</td>\n",
       "      <td>0.072721</td>\n",
       "      <td>-0.018801</td>\n",
       "      <td>0.170725</td>\n",
       "      <td>0.075853</td>\n",
       "      <td>0.164693</td>\n",
       "      <td>0.079028</td>\n",
       "      <td>0.161078</td>\n",
       "      <td>1.000000</td>\n",
       "      <td>0.112338</td>\n",
       "      <td>0.181975</td>\n",
       "      <td>-0.438220</td>\n",
       "    </tr>\n",
       "    <tr>\n",
       "      <th>Avg_class_frequency_total</th>\n",
       "      <td>0.014620</td>\n",
       "      <td>0.043127</td>\n",
       "      <td>0.024938</td>\n",
       "      <td>0.028063</td>\n",
       "      <td>0.008340</td>\n",
       "      <td>0.096211</td>\n",
       "      <td>0.056695</td>\n",
       "      <td>0.119953</td>\n",
       "      <td>0.044426</td>\n",
       "      <td>0.085387</td>\n",
       "      <td>0.112338</td>\n",
       "      <td>1.000000</td>\n",
       "      <td>0.952739</td>\n",
       "      <td>-0.249715</td>\n",
       "    </tr>\n",
       "    <tr>\n",
       "      <th>Avg_class_frequency_current_month</th>\n",
       "      <td>0.009156</td>\n",
       "      <td>0.062664</td>\n",
       "      <td>0.045561</td>\n",
       "      <td>0.053768</td>\n",
       "      <td>0.013375</td>\n",
       "      <td>0.159407</td>\n",
       "      <td>0.075923</td>\n",
       "      <td>0.183095</td>\n",
       "      <td>0.079570</td>\n",
       "      <td>0.147605</td>\n",
       "      <td>0.181975</td>\n",
       "      <td>0.952739</td>\n",
       "      <td>1.000000</td>\n",
       "      <td>-0.412348</td>\n",
       "    </tr>\n",
       "    <tr>\n",
       "      <th>Churn</th>\n",
       "      <td>0.000708</td>\n",
       "      <td>-0.128098</td>\n",
       "      <td>-0.157986</td>\n",
       "      <td>-0.162233</td>\n",
       "      <td>-0.001177</td>\n",
       "      <td>-0.389984</td>\n",
       "      <td>-0.175325</td>\n",
       "      <td>-0.404735</td>\n",
       "      <td>-0.198697</td>\n",
       "      <td>-0.381393</td>\n",
       "      <td>-0.438220</td>\n",
       "      <td>-0.249715</td>\n",
       "      <td>-0.412348</td>\n",
       "      <td>1.000000</td>\n",
       "    </tr>\n",
       "  </tbody>\n",
       "</table>\n",
       "</div>"
      ],
      "text/plain": [
       "                                     gender  Near_Location   Partner  \\\n",
       "gender                             1.000000       0.006699 -0.010463   \n",
       "Near_Location                      0.006699       1.000000 -0.005119   \n",
       "Partner                           -0.010463      -0.005119  1.000000   \n",
       "Promo_friends                     -0.005033       0.210964  0.451960   \n",
       "Phone                             -0.008542      -0.015763  0.009970   \n",
       "Contract_period                    0.000502       0.150233  0.306166   \n",
       "Group_visits                       0.017879       0.154728  0.022710   \n",
       "Age                                0.013807       0.058358  0.047480   \n",
       "Avg_additional_charges_total      -0.009334       0.040761  0.022941   \n",
       "Month_to_end_contract             -0.001281       0.143961  0.294632   \n",
       "Lifetime                           0.013579       0.070921  0.061229   \n",
       "Avg_class_frequency_total          0.014620       0.043127  0.024938   \n",
       "Avg_class_frequency_current_month  0.009156       0.062664  0.045561   \n",
       "Churn                              0.000708      -0.128098 -0.157986   \n",
       "\n",
       "                                   Promo_friends     Phone  Contract_period  \\\n",
       "gender                                 -0.005033 -0.008542         0.000502   \n",
       "Near_Location                           0.210964 -0.015763         0.150233   \n",
       "Partner                                 0.451960  0.009970         0.306166   \n",
       "Promo_friends                           1.000000  0.001982         0.244552   \n",
       "Phone                                   0.001982  1.000000        -0.006893   \n",
       "Contract_period                         0.244552 -0.006893         1.000000   \n",
       "Group_visits                            0.120170 -0.010099         0.169991   \n",
       "Age                                     0.050113 -0.011403         0.138249   \n",
       "Avg_additional_charges_total            0.036898  0.009279         0.111445   \n",
       "Month_to_end_contract                   0.239553 -0.011196         0.973064   \n",
       "Lifetime                                0.072721 -0.018801         0.170725   \n",
       "Avg_class_frequency_total               0.028063  0.008340         0.096211   \n",
       "Avg_class_frequency_current_month       0.053768  0.013375         0.159407   \n",
       "Churn                                  -0.162233 -0.001177        -0.389984   \n",
       "\n",
       "                                   Group_visits       Age  \\\n",
       "gender                                 0.017879  0.013807   \n",
       "Near_Location                          0.154728  0.058358   \n",
       "Partner                                0.022710  0.047480   \n",
       "Promo_friends                          0.120170  0.050113   \n",
       "Phone                                 -0.010099 -0.011403   \n",
       "Contract_period                        0.169991  0.138249   \n",
       "Group_visits                           1.000000  0.080934   \n",
       "Age                                    0.080934  1.000000   \n",
       "Avg_additional_charges_total           0.032079  0.080240   \n",
       "Month_to_end_contract                  0.163703  0.134511   \n",
       "Lifetime                               0.075853  0.164693   \n",
       "Avg_class_frequency_total              0.056695  0.119953   \n",
       "Avg_class_frequency_current_month      0.075923  0.183095   \n",
       "Churn                                 -0.175325 -0.404735   \n",
       "\n",
       "                                   Avg_additional_charges_total  \\\n",
       "gender                                                -0.009334   \n",
       "Near_Location                                          0.040761   \n",
       "Partner                                                0.022941   \n",
       "Promo_friends                                          0.036898   \n",
       "Phone                                                  0.009279   \n",
       "Contract_period                                        0.111445   \n",
       "Group_visits                                           0.032079   \n",
       "Age                                                    0.080240   \n",
       "Avg_additional_charges_total                           1.000000   \n",
       "Month_to_end_contract                                  0.113958   \n",
       "Lifetime                                               0.079028   \n",
       "Avg_class_frequency_total                              0.044426   \n",
       "Avg_class_frequency_current_month                      0.079570   \n",
       "Churn                                                 -0.198697   \n",
       "\n",
       "                                   Month_to_end_contract  Lifetime  \\\n",
       "gender                                         -0.001281  0.013579   \n",
       "Near_Location                                   0.143961  0.070921   \n",
       "Partner                                         0.294632  0.061229   \n",
       "Promo_friends                                   0.239553  0.072721   \n",
       "Phone                                          -0.011196 -0.018801   \n",
       "Contract_period                                 0.973064  0.170725   \n",
       "Group_visits                                    0.163703  0.075853   \n",
       "Age                                             0.134511  0.164693   \n",
       "Avg_additional_charges_total                    0.113958  0.079028   \n",
       "Month_to_end_contract                           1.000000  0.161078   \n",
       "Lifetime                                        0.161078  1.000000   \n",
       "Avg_class_frequency_total                       0.085387  0.112338   \n",
       "Avg_class_frequency_current_month               0.147605  0.181975   \n",
       "Churn                                          -0.381393 -0.438220   \n",
       "\n",
       "                                   Avg_class_frequency_total  \\\n",
       "gender                                              0.014620   \n",
       "Near_Location                                       0.043127   \n",
       "Partner                                             0.024938   \n",
       "Promo_friends                                       0.028063   \n",
       "Phone                                               0.008340   \n",
       "Contract_period                                     0.096211   \n",
       "Group_visits                                        0.056695   \n",
       "Age                                                 0.119953   \n",
       "Avg_additional_charges_total                        0.044426   \n",
       "Month_to_end_contract                               0.085387   \n",
       "Lifetime                                            0.112338   \n",
       "Avg_class_frequency_total                           1.000000   \n",
       "Avg_class_frequency_current_month                   0.952739   \n",
       "Churn                                              -0.249715   \n",
       "\n",
       "                                   Avg_class_frequency_current_month     Churn  \n",
       "gender                                                      0.009156  0.000708  \n",
       "Near_Location                                               0.062664 -0.128098  \n",
       "Partner                                                     0.045561 -0.157986  \n",
       "Promo_friends                                               0.053768 -0.162233  \n",
       "Phone                                                       0.013375 -0.001177  \n",
       "Contract_period                                             0.159407 -0.389984  \n",
       "Group_visits                                                0.075923 -0.175325  \n",
       "Age                                                         0.183095 -0.404735  \n",
       "Avg_additional_charges_total                                0.079570 -0.198697  \n",
       "Month_to_end_contract                                       0.147605 -0.381393  \n",
       "Lifetime                                                    0.181975 -0.438220  \n",
       "Avg_class_frequency_total                                   0.952739 -0.249715  \n",
       "Avg_class_frequency_current_month                           1.000000 -0.412348  \n",
       "Churn                                                      -0.412348  1.000000  "
      ]
     },
     "execution_count": 8,
     "metadata": {},
     "output_type": "execute_result"
    }
   ],
   "source": [
    "fitness_data.corr()"
   ]
  },
  {
   "cell_type": "code",
   "execution_count": 9,
   "metadata": {},
   "outputs": [
    {
     "data": {
      "image/png": "[encoded data removed]",
      "text/plain": [
       "<Figure size 1080x1080 with 2 Axes>"
      ]
     },
     "metadata": {
      "needs_background": "light"
     },
     "output_type": "display_data"
    }
   ],
   "source": [
    "plt.figure(figsize=(15,15))\n",
    "sns.heatmap(fitness_data.corr(), annot=True, square=True, cmap=\"YlGn\", linecolor='black',linewidths=0.2)\n",
    "plt.show()"
   ]
  },
  {
   "cell_type": "markdown",
   "metadata": {},
   "source": [
    "Как и предполагалось между величинами количества месяцев до окончания абонемента и продолжительностью абонемента существует сильная корреляция.\n",
    "\n",
    "Так же высокое значение корреляции обнаружилось между признаками среднего количества посещений групповых занятий в текущем месяце и среднего количества посещений групповых занятий за все время.\n",
    "\n",
    "Корреляция целевого признака с остальными слабая."
   ]
  },
  {
   "cell_type": "markdown",
   "metadata": {},
   "source": [
    "## Модель прогнозирования оттока клиентов\n",
    "<a id=\"churnpredictionmodel\"></a>"
   ]
  },
  {
   "cell_type": "markdown",
   "metadata": {},
   "source": [
    "Построим модель бинарной классификации, где целевой признак - факт оттока клиента в следующем месяце.\n",
    "\n",
    "Разобъем выборку на обучающую и валидационную части."
   ]
  },
  {
   "cell_type": "code",
   "execution_count": 10,
   "metadata": {},
   "outputs": [],
   "source": [
    "X = fitness_data.drop('Churn', axis=1)\n",
    "y = fitness_data['Churn']"
   ]
  },
  {
   "cell_type": "code",
   "execution_count": 11,
   "metadata": {},
   "outputs": [],
   "source": [
    "X_train, X_test, y_train, y_test = train_test_split(X, y, test_size = 0.2, random_state = 0)"
   ]
  },
  {
   "cell_type": "markdown",
   "metadata": {},
   "source": [
    "### Обучение модели логистической регрессией\n",
    "<a id=\"logisticregression\"></a>"
   ]
  },
  {
   "cell_type": "code",
   "execution_count": 12,
   "metadata": {},
   "outputs": [],
   "source": [
    "#Задаем модель\n",
    "model_lr = LogisticRegression(solver='liblinear', random_state = 0)\n",
    "#Обучаем модель\n",
    "model_lr.fit(X_train, y_train)\n",
    "#Рассчитываем прогнозируемые значения\n",
    "lr_predict = model_lr.predict(X_test)\n",
    "#Рассчитываем вектор вероятностей отнесения к классу 1\n",
    "lr_proba = model_lr.predict_proba(X_test)[:,1]"
   ]
  },
  {
   "cell_type": "markdown",
   "metadata": {},
   "source": [
    "### Обучение модели случайным лесом\n",
    "<a id=\"randomforest\"></a>"
   ]
  },
  {
   "cell_type": "code",
   "execution_count": 13,
   "metadata": {},
   "outputs": [],
   "source": [
    "# Зададим алгоритм для модели\n",
    "model_rf = RandomForestClassifier(n_estimators = 100, random_state = 0) # Ваш код здесь\n",
    "# Обучаем модель\n",
    "model_rf.fit(X_train, y_train)\n",
    "#Рассчитываем прогнозируемые значения\n",
    "rf_predict = model_rf.predict(X_test)\n",
    "#Рассчитываем вектор вероятностей отнесения к классу 1\n",
    "rf_proba = model_rf.predict_proba(X_test)[:,1]"
   ]
  },
  {
   "cell_type": "markdown",
   "metadata": {},
   "source": [
    "### Сравнение моделей\n",
    "<a id=\"comparison\"></a>"
   ]
  },
  {
   "cell_type": "markdown",
   "metadata": {},
   "source": [
    "Выведем метрики accuracy, precision и recall для построенных моделей."
   ]
  },
  {
   "cell_type": "code",
   "execution_count": 14,
   "metadata": {},
   "outputs": [
    {
     "name": "stdout",
     "output_type": "stream",
     "text": [
      "Сравнение метрик\n",
      "Linear regression accuracy 0.93 | Random forest accuracy 0.92\n",
      "Linear regression precision 0.86 | Random forest precision 0.84\n",
      "Linear regression recall 0.83 | Random forest recall 0.82\n"
     ]
    }
   ],
   "source": [
    "print('Сравнение метрик')\n",
    "print('Linear regression accuracy {:.2f} | Random forest accuracy {:.2f}'\n",
    "      .format(accuracy_score(y_test, lr_predict), accuracy_score(y_test, rf_predict)))\n",
    "print('Linear regression precision {:.2f} | Random forest precision {:.2f}'\n",
    "      .format(precision_score(y_test, lr_predict), precision_score(y_test, rf_predict)))\n",
    "print('Linear regression recall {:.2f} | Random forest recall {:.2f}'\n",
    "      .format(recall_score(y_test, lr_predict), recall_score(y_test, rf_predict)))"
   ]
  },
  {
   "cell_type": "markdown",
   "metadata": {},
   "source": [
    "По результатам сравнения лучше себя демонстрирует модель линейной регрессии , у которой все три показателя имеют более высокие значения. Модель, построенная на основе алгоритма линейной регрессии, показывает более высокую долю правильных ответов, так же выше оценки полноты и точности."
   ]
  },
  {
   "cell_type": "markdown",
   "metadata": {},
   "source": [
    "## Кластеризация клиентов\n",
    "<a id='clustering'></a>"
   ]
  },
  {
   "cell_type": "markdown",
   "metadata": {},
   "source": [
    "Проведем стандартизацию выборки."
   ]
  },
  {
   "cell_type": "code",
   "execution_count": 15,
   "metadata": {},
   "outputs": [],
   "source": [
    "sc = StandardScaler()\n",
    "X_sc = sc.fit_transform(X)\n",
    "\n",
    "linked = linkage(X_sc, method = 'ward') "
   ]
  },
  {
   "cell_type": "markdown",
   "metadata": {},
   "source": [
    "Нарисуем дендрограмму на основе нормализованных данных."
   ]
  },
  {
   "cell_type": "code",
   "execution_count": 16,
   "metadata": {},
   "outputs": [
    {
     "data": {
      "image/png": "[encoded data removed]",
      "text/plain": [
       "<Figure size 1080x720 with 1 Axes>"
      ]
     },
     "metadata": {
      "needs_background": "light"
     },
     "output_type": "display_data"
    }
   ],
   "source": [
    "plt.figure(figsize=(15, 10))  \n",
    "dendrogram(linked, orientation='top')\n",
    "plt.title('Clustering for Bodybuilder-Datascientist GYM')\n",
    "plt.show() "
   ]
  },
  {
   "cell_type": "markdown",
   "metadata": {},
   "source": [
    "На дендрограмме выделяется 4 класса. Можно предположить, что в нашей выборке присутствует 4 класса, но для обучения модели по алгоритму K-means выберем цифру 5, из условий проекта."
   ]
  },
  {
   "cell_type": "code",
   "execution_count": 17,
   "metadata": {},
   "outputs": [],
   "source": [
    "#Зададим алгоритм\n",
    "km = KMeans(n_clusters = 5, random_state=0)\n",
    "#Прогнозируем кластеры для наблюдений\n",
    "labels = km.fit_predict(X_sc)\n",
    "#Сохраняем значения кластеров в датасет\n",
    "fitness_data['cluster_km'] = labels"
   ]
  },
  {
   "cell_type": "markdown",
   "metadata": {},
   "source": [
    "Сгруппируем таблицу по средним значениям признаков для каждого кластера"
   ]
  },
  {
   "cell_type": "code",
   "execution_count": 18,
   "metadata": {},
   "outputs": [
    {
     "data": {
      "text/html": [
       "<div>\n",
       "<style scoped>\n",
       "    .dataframe tbody tr th:only-of-type {\n",
       "        vertical-align: middle;\n",
       "    }\n",
       "\n",
       "    .dataframe tbody tr th {\n",
       "        vertical-align: top;\n",
       "    }\n",
       "\n",
       "    .dataframe thead th {\n",
       "        text-align: right;\n",
       "    }\n",
       "</style>\n",
       "<table border=\"1\" class=\"dataframe\">\n",
       "  <thead>\n",
       "    <tr style=\"text-align: right;\">\n",
       "      <th></th>\n",
       "      <th>gender</th>\n",
       "      <th>Near_Location</th>\n",
       "      <th>Partner</th>\n",
       "      <th>Promo_friends</th>\n",
       "      <th>Phone</th>\n",
       "      <th>Contract_period</th>\n",
       "      <th>Group_visits</th>\n",
       "      <th>Age</th>\n",
       "      <th>Avg_additional_charges_total</th>\n",
       "      <th>Month_to_end_contract</th>\n",
       "      <th>Lifetime</th>\n",
       "      <th>Avg_class_frequency_total</th>\n",
       "      <th>Avg_class_frequency_current_month</th>\n",
       "      <th>Churn</th>\n",
       "    </tr>\n",
       "    <tr>\n",
       "      <th>cluster_km</th>\n",
       "      <th></th>\n",
       "      <th></th>\n",
       "      <th></th>\n",
       "      <th></th>\n",
       "      <th></th>\n",
       "      <th></th>\n",
       "      <th></th>\n",
       "      <th></th>\n",
       "      <th></th>\n",
       "      <th></th>\n",
       "      <th></th>\n",
       "      <th></th>\n",
       "      <th></th>\n",
       "      <th></th>\n",
       "    </tr>\n",
       "  </thead>\n",
       "  <tbody>\n",
       "    <tr>\n",
       "      <th>0</th>\n",
       "      <td>0.502970</td>\n",
       "      <td>0.959406</td>\n",
       "      <td>0.783168</td>\n",
       "      <td>0.574257</td>\n",
       "      <td>1.000000</td>\n",
       "      <td>10.889109</td>\n",
       "      <td>0.542574</td>\n",
       "      <td>29.982178</td>\n",
       "      <td>160.761016</td>\n",
       "      <td>9.954455</td>\n",
       "      <td>4.736634</td>\n",
       "      <td>1.982055</td>\n",
       "      <td>1.974789</td>\n",
       "      <td>0.027723</td>\n",
       "    </tr>\n",
       "    <tr>\n",
       "      <th>1</th>\n",
       "      <td>0.522078</td>\n",
       "      <td>0.862338</td>\n",
       "      <td>0.470130</td>\n",
       "      <td>0.306494</td>\n",
       "      <td>0.000000</td>\n",
       "      <td>4.787013</td>\n",
       "      <td>0.425974</td>\n",
       "      <td>29.301299</td>\n",
       "      <td>143.957664</td>\n",
       "      <td>4.475325</td>\n",
       "      <td>3.924675</td>\n",
       "      <td>1.847220</td>\n",
       "      <td>1.716369</td>\n",
       "      <td>0.267532</td>\n",
       "    </tr>\n",
       "    <tr>\n",
       "      <th>2</th>\n",
       "      <td>0.495050</td>\n",
       "      <td>0.000000</td>\n",
       "      <td>0.463366</td>\n",
       "      <td>0.079208</td>\n",
       "      <td>1.000000</td>\n",
       "      <td>2.352475</td>\n",
       "      <td>0.215842</td>\n",
       "      <td>28.477228</td>\n",
       "      <td>135.457501</td>\n",
       "      <td>2.198020</td>\n",
       "      <td>2.809901</td>\n",
       "      <td>1.660461</td>\n",
       "      <td>1.477324</td>\n",
       "      <td>0.443564</td>\n",
       "    </tr>\n",
       "    <tr>\n",
       "      <th>3</th>\n",
       "      <td>0.485737</td>\n",
       "      <td>1.000000</td>\n",
       "      <td>0.350238</td>\n",
       "      <td>0.240095</td>\n",
       "      <td>1.000000</td>\n",
       "      <td>1.948494</td>\n",
       "      <td>0.341521</td>\n",
       "      <td>28.167987</td>\n",
       "      <td>131.622204</td>\n",
       "      <td>1.856577</td>\n",
       "      <td>2.440571</td>\n",
       "      <td>1.247634</td>\n",
       "      <td>1.012983</td>\n",
       "      <td>0.514263</td>\n",
       "    </tr>\n",
       "    <tr>\n",
       "      <th>4</th>\n",
       "      <td>0.559666</td>\n",
       "      <td>0.976134</td>\n",
       "      <td>0.356802</td>\n",
       "      <td>0.230310</td>\n",
       "      <td>0.998807</td>\n",
       "      <td>2.669451</td>\n",
       "      <td>0.473747</td>\n",
       "      <td>30.125298</td>\n",
       "      <td>161.657905</td>\n",
       "      <td>2.459427</td>\n",
       "      <td>4.898568</td>\n",
       "      <td>2.852002</td>\n",
       "      <td>2.850161</td>\n",
       "      <td>0.068019</td>\n",
       "    </tr>\n",
       "  </tbody>\n",
       "</table>\n",
       "</div>"
      ],
      "text/plain": [
       "              gender  Near_Location   Partner  Promo_friends     Phone  \\\n",
       "cluster_km                                                               \n",
       "0           0.502970       0.959406  0.783168       0.574257  1.000000   \n",
       "1           0.522078       0.862338  0.470130       0.306494  0.000000   \n",
       "2           0.495050       0.000000  0.463366       0.079208  1.000000   \n",
       "3           0.485737       1.000000  0.350238       0.240095  1.000000   \n",
       "4           0.559666       0.976134  0.356802       0.230310  0.998807   \n",
       "\n",
       "            Contract_period  Group_visits        Age  \\\n",
       "cluster_km                                             \n",
       "0                 10.889109      0.542574  29.982178   \n",
       "1                  4.787013      0.425974  29.301299   \n",
       "2                  2.352475      0.215842  28.477228   \n",
       "3                  1.948494      0.341521  28.167987   \n",
       "4                  2.669451      0.473747  30.125298   \n",
       "\n",
       "            Avg_additional_charges_total  Month_to_end_contract  Lifetime  \\\n",
       "cluster_km                                                                  \n",
       "0                             160.761016               9.954455  4.736634   \n",
       "1                             143.957664               4.475325  3.924675   \n",
       "2                             135.457501               2.198020  2.809901   \n",
       "3                             131.622204               1.856577  2.440571   \n",
       "4                             161.657905               2.459427  4.898568   \n",
       "\n",
       "            Avg_class_frequency_total  Avg_class_frequency_current_month  \\\n",
       "cluster_km                                                                 \n",
       "0                            1.982055                           1.974789   \n",
       "1                            1.847220                           1.716369   \n",
       "2                            1.660461                           1.477324   \n",
       "3                            1.247634                           1.012983   \n",
       "4                            2.852002                           2.850161   \n",
       "\n",
       "               Churn  \n",
       "cluster_km            \n",
       "0           0.027723  \n",
       "1           0.267532  \n",
       "2           0.443564  \n",
       "3           0.514263  \n",
       "4           0.068019  "
      ]
     },
     "execution_count": 18,
     "metadata": {},
     "output_type": "execute_result"
    }
   ],
   "source": [
    "fitness_data.groupby('cluster_km').mean()"
   ]
  },
  {
   "cell_type": "markdown",
   "metadata": {},
   "source": [
    "Из таблицы со средними значениями признаков можно выделить 2 сегмента с низкой вероятностью оттока: это сегменты 4 и 0. Разберем их подробнее.\n",
    "\n",
    "Сегмент 4: преобладание одного из полов, недолгосрочные абонементы на 1 и 6 месяцев с преобладанием месячных, самые высокие затраты на сопутствующие услуги, высокая средняя продолжительность посещения данного фитнес-зала примерно 5 месяцев, невысокая продолжительность абонемента. **Клиенты из этой категории скорее всего покупают непродолжительный абонемент для пробы, а затем приобретают повторный и продолжают занятия.**\n",
    "\n",
    "Сегмент 0: высокая доля клиентов из партнерских организаций, более половины пришли в рамках промо-акции пригласи друга, высокая средняя продолжительность действующего абонемента - много годовых, высокие затраты на сопутствующие услуги, высокая средняя продолжительность посещений. **Клиенты из этой категории приходят по приглашению коллег с работы и сразу покупают продолжительные абонементы.**\n",
    "\n",
    "Наблюдается один промежуточный сегмент с вероятностью оттока на уровне 27% - это класс 1: высокое число клиентов из организаций-партнеров, около трети пришли по промо-акции, преобладают потребители с 6-месячными абонементами, продолжительность занятий выше среднего - почти 4 месяца. **Для клиентов данной категории близки величины оттекших и пришедших по промо-акции с другом. Возможно в этой категории присутствуют типы людей пришедших за компанию, но без интереса к занятиям.**\n",
    "\n",
    "Наблюдаем 2 сегмента, потребители в которых подвержены оттоку.\n",
    "\n",
    "Сегмента 2: Сразу можно выделить, что в нем находятся только посетители не живущие или работающие в районе фитнесс-центра. **Скорее всего отток в данной категории связан с неудобством посещения рассматриваемого фитнесс-центра.**\n",
    "\n",
    "Сегмент 3: В данной категории можно выделить самую низкую средную продолжительность абонемента, самую низкую среднюю продолжительность посещения и самые низкие затраты на дополнительные услуги. **В этой группе самая высокая доля оттока, признаки говорят о том, что в данной категории возможно много посетителей далеких от фитнеса, решивших попробовать.**"
   ]
  },
  {
   "cell_type": "code",
   "execution_count": 19,
   "metadata": {},
   "outputs": [
    {
     "data": {
      "text/plain": [
       "gender                                 0.502970\n",
       "Near_Location                          0.959406\n",
       "Partner                                0.783168\n",
       "Promo_friends                          0.574257\n",
       "Phone                                  1.000000\n",
       "Contract_period                       10.889109\n",
       "Group_visits                           0.542574\n",
       "Age                                   29.982178\n",
       "Avg_additional_charges_total         160.761016\n",
       "Month_to_end_contract                  9.954455\n",
       "Lifetime                               4.736634\n",
       "Avg_class_frequency_total              1.982055\n",
       "Avg_class_frequency_current_month      1.974789\n",
       "Churn                                  0.027723\n",
       "Name: 0, dtype: float64"
      ]
     },
     "execution_count": 19,
     "metadata": {},
     "output_type": "execute_result"
    }
   ],
   "source": [
    "fitness_data.groupby('cluster_km').mean().loc[0,:]"
   ]
  },
  {
   "cell_type": "code",
   "execution_count": 20,
   "metadata": {
    "scrolled": false
   },
   "outputs": [
    {
     "data": {
      "image/png": "[encoded data removed]",
      "text/plain": [
       "<Figure size 1080x360 with 5 Axes>"
      ]
     },
     "metadata": {
      "needs_background": "light"
     },
     "output_type": "display_data"
    },
    {
     "data": {
      "image/png": "[encoded data removed]",
      "text/plain": [
       "<Figure size 1080x360 with 5 Axes>"
      ]
     },
     "metadata": {
      "needs_background": "light"
     },
     "output_type": "display_data"
    },
    {
     "data": {
      "image/png": "[encoded data removed]",
      "text/plain": [
       "<Figure size 1080x360 with 5 Axes>"
      ]
     },
     "metadata": {
      "needs_background": "light"
     },
     "output_type": "display_data"
    },
    {
     "data": {
      "image/png": "[encoded data removed]",
      "text/plain": [
       "<Figure size 1080x360 with 5 Axes>"
      ]
     },
     "metadata": {
      "needs_background": "light"
     },
     "output_type": "display_data"
    },
    {
     "data": {
      "image/png": "[encoded data removed]",
      "text/plain": [
       "<Figure size 1080x360 with 5 Axes>"
      ]
     },
     "metadata": {
      "needs_background": "light"
     },
     "output_type": "display_data"
    },
    {
     "data": {
      "image/png": "[encoded data removed]",
      "text/plain": [
       "<Figure size 1080x360 with 5 Axes>"
      ]
     },
     "metadata": {
      "needs_background": "light"
     },
     "output_type": "display_data"
    },
    {
     "data": {
      "image/png": "[encoded data removed]",
      "text/plain": [
       "<Figure size 1080x360 with 5 Axes>"
      ]
     },
     "metadata": {
      "needs_background": "light"
     },
     "output_type": "display_data"
    },
    {
     "data": {
      "image/png": "[encoded data removed]",
      "text/plain": [
       "<Figure size 1080x360 with 5 Axes>"
      ]
     },
     "metadata": {
      "needs_background": "light"
     },
     "output_type": "display_data"
    },
    {
     "data": {
      "image/png": "[encoded data removed]",
      "text/plain": [
       "<Figure size 1080x360 with 5 Axes>"
      ]
     },
     "metadata": {
      "needs_background": "light"
     },
     "output_type": "display_data"
    },
    {
     "data": {
      "image/png": "[encoded data removed]",
      "text/plain": [
       "<Figure size 1080x360 with 5 Axes>"
      ]
     },
     "metadata": {
      "needs_background": "light"
     },
     "output_type": "display_data"
    },
    {
     "data": {
      "image/png": "[encoded data removed]",
      "text/plain": [
       "<Figure size 1080x360 with 5 Axes>"
      ]
     },
     "metadata": {
      "needs_background": "light"
     },
     "output_type": "display_data"
    },
    {
     "data": {
      "image/png": "[encoded data removed]",
      "text/plain": [
       "<Figure size 1080x360 with 5 Axes>"
      ]
     },
     "metadata": {
      "needs_background": "light"
     },
     "output_type": "display_data"
    },
    {
     "data": {
      "image/png": "[encoded data removed]",
      "text/plain": [
       "<Figure size 1080x360 with 5 Axes>"
      ]
     },
     "metadata": {
      "needs_background": "light"
     },
     "output_type": "display_data"
    },
    {
     "data": {
      "image/png": "[encoded data removed]",
      "text/plain": [
       "<Figure size 1080x360 with 5 Axes>"
      ]
     },
     "metadata": {
      "needs_background": "light"
     },
     "output_type": "display_data"
    }
   ],
   "source": [
    "color_list = ['aliceblue',\n",
    "                'antiquewhite',\n",
    "                'aqua',\n",
    "                'aquamarine',\n",
    "                'azure',\n",
    "                'beige',\n",
    "                'bisque',\n",
    "                'black',\n",
    "                'blanchedalmond',\n",
    "                'blue',\n",
    "                'blueviolet',\n",
    "                'brown',\n",
    "                'burlywood',\n",
    "                'cadetblue',\n",
    "                'chartreuse']\n",
    "for color,x in enumerate(fitness_data.groupby('cluster_km').mean().columns):\n",
    "    fig, ax = plt.subplots(1,5,figsize=(15,5))\n",
    "    for y in fitness_data.groupby('cluster_km').mean().index:\n",
    "        ax[y].hist(fitness_data.query('cluster_km == @y')[x], histtype='bar', ec='black', bins=10, color=color_list[color])\n",
    "        ax[y].set_title('{} class {}'.format(x,y))\n",
    "        ax[y].grid(color='black', alpha = 0.1, axis = 'y')\n",
    "        plt.tight_layout()\n",
    "        ax[y].set_xlabel('value')\n",
    "        ax[y].set_ylabel('count')\n",
    "        sns.despine()\n",
    "        ax[y].tick_params(direction='inout')"
   ]
  },
  {
   "cell_type": "markdown",
   "metadata": {},
   "source": [
    "## Выводы и рекомендации\n",
    "<a id='conclusions'></a>"
   ]
  },
  {
   "cell_type": "markdown",
   "metadata": {},
   "source": [
    "**_Выводы:_**\n",
    "\n",
    "**1. Модель оттока клиентов** была построена двумя способами: алгоритмом линейной регрессии и случайным лесом. Модель линейной регрессии показала более высокие значения метрик оценивания и является предпочтительной для прогнозирования оттока клиентов.\n",
    "\n",
    "**2. Кластеризация клиентов** , проведенная с использованием алгоритма K-means, позволила выделить 5 кластеров посетителей фитнес-центра.\n",
    "\n",
    "**3. Среди выделенных классов:** \n",
    "\n",
    " * Присутствуют 2 сегмента с низкой величиной оттока: сегменты 0 и 4, для которых величины оттока составляют около 3 и 7 процентов.\n",
    " \n",
    "       \n",
    "     - Для сегмента 0 характерна высокая величина приглашенных клиентов и клиентов из партнерских организаций. Преобладают годовые абонементы.\n",
    "\n",
    "      - Сегмент 4 отличается высоким числом месячных абонементов. При этом отмечается высокая продолжительность посещения данного фитнес-центра.\n",
    "\n",
    "  * Сегмент 1 имеет промежуточную для выделенных классов величину оттока около 27 процентов. Для данного класса выделяется выше среднего продолжительность посещения фитнеса, примерно 4 месяца. Высокая доля клиентво с 6 месячными аббонементами. Количество оттекших клиентов находится на уровне близком к количеству пришедших по промо акции \"приведи друга\".\n",
    "\n",
    "\n",
    "  * У сегментов 3 и 2 величины оттока составляют 51 и 44 процента. В данных кластерах величины показателя средней частоты посещения групповых занятий в неделю и в месяц ниже, чем у трех остальных, как и сама доля посещающих групповые занятия.\n",
    "\n",
    "\n",
    "       - Сегмент посетителей 2 имеет существенное отличие от всех остальных кластеров - все представители данного класса не живут и не работают в районе расположения фитнес-центра.\n",
    "       \n",
    "       - Сегмент 3 - класс с самой высокой величиной показателя оттока. В данной категории потребителей услуг можно выделить самую низкую средную продолжительность абонемента, самую низкую среднюю продолжительность посещения и самые низкие затраты на дополнительные услуги. При этом наблюдается самая высокая величина оттока.\n",
    "       \n",
    "**_Рекомендации:_**\n",
    "\n",
    "1. Снизить отток в сегменте 1 путем увеличения средней продолжительности абонемента. Для акции \"приведи друга\" ввести условие предоставления скидки при покупке абонемента на 6 месяцев и больше. \n",
    "    \n",
    "\n",
    "2. Для компенсации неудобств сегмента 2 от местоположения ввести \"ночные\" абонементы с дисконтом к основным. Такой абонемент будет позволять посещать фитнес-центр с 21:00 до 09:00, позволяя добираться потребителям из других районов избегая пика трафика.\n",
    "    \n",
    "\n",
    "3. Увеличить удержание посетителей, которые приходят \"за компанию\" можно путем привлечения их к групповым занятиям. Для всех посетителей, которые впервые купили абонемент или пришли по акции приведи друга, сделать бесплатным посещение одного группового занятия в выбранном направлении.\n",
    " \n",
    " \n",
    "4. Необходимо стимулировать потребление сопутствующих услуг и товаров, предлагая выгодные условия. Такой подход способен увеличить удержание клиентов, которым фитнес не слишком интересен. Должны быть предусмотрены абонементы, предоставляющие определенное количество единиц дополнительных услуг, интересующих пользователя. Цена на такие абонементы должна содержать в себе скидку на предоставляемые услуги.\n",
    "    \n",
    "    \n",
    "5. Попытаться снизить отток путем предложения выгодных условий при продлении абонемента с месячного сразу до годового.\n",
    "    \n",
    "    \n",
    "6. Ввести информационную рассылку для клиентов, которые не заморозили абонемент, но уже не посещают занятия более пяти дней. В рассылке предлагается бесплатная заморозка абонемента на неделю. Клиентам, которые согласились на заморозку, отправлять повторное сообщение за 2 дня до конца заморозки с промокодом на скидку на предлагаемую центром любую платную услугу."
   ]
  },
  {
   "cell_type": "markdown",
   "metadata": {},
   "source": [
    "## Альтернативный вариант\n",
    "<a id='altmethod'></a>"
   ]
  },
  {
   "cell_type": "markdown",
   "metadata": {},
   "source": [
    "Проведем обучение модели предсказания оттока и кластеризации учитывая полученные в разделе исследовательского анализа данных выводы.\n",
    "\n",
    "Удалим коррелирующие между собой столбцы и стандартизируем выборки.\n",
    "\n",
    "В разделе кластеризации установим количество кластеров равное четырем, как изображено на дендрограмме."
   ]
  },
  {
   "cell_type": "markdown",
   "metadata": {},
   "source": [
    "Удалим из признаков количество месяцев до окончания контракта и среднее число посещений групповых занятий в последнем месяце. "
   ]
  },
  {
   "cell_type": "code",
   "execution_count": 21,
   "metadata": {},
   "outputs": [],
   "source": [
    "X_2 = fitness_data.drop(['Churn', 'Avg_class_frequency_current_month', 'Month_to_end_contract', 'cluster_km'], axis=1)\n",
    "y_2 = fitness_data['Churn']"
   ]
  },
  {
   "cell_type": "code",
   "execution_count": 22,
   "metadata": {},
   "outputs": [
    {
     "data": {
      "text/html": [
       "<div>\n",
       "<style scoped>\n",
       "    .dataframe tbody tr th:only-of-type {\n",
       "        vertical-align: middle;\n",
       "    }\n",
       "\n",
       "    .dataframe tbody tr th {\n",
       "        vertical-align: top;\n",
       "    }\n",
       "\n",
       "    .dataframe thead th {\n",
       "        text-align: right;\n",
       "    }\n",
       "</style>\n",
       "<table border=\"1\" class=\"dataframe\">\n",
       "  <thead>\n",
       "    <tr style=\"text-align: right;\">\n",
       "      <th></th>\n",
       "      <th>gender</th>\n",
       "      <th>Near_Location</th>\n",
       "      <th>Partner</th>\n",
       "      <th>Promo_friends</th>\n",
       "      <th>Phone</th>\n",
       "      <th>Contract_period</th>\n",
       "      <th>Group_visits</th>\n",
       "      <th>Age</th>\n",
       "      <th>Avg_additional_charges_total</th>\n",
       "      <th>Lifetime</th>\n",
       "      <th>Avg_class_frequency_total</th>\n",
       "    </tr>\n",
       "  </thead>\n",
       "  <tbody>\n",
       "    <tr>\n",
       "      <th>0</th>\n",
       "      <td>1</td>\n",
       "      <td>1</td>\n",
       "      <td>1</td>\n",
       "      <td>1</td>\n",
       "      <td>0</td>\n",
       "      <td>6</td>\n",
       "      <td>1</td>\n",
       "      <td>29</td>\n",
       "      <td>14.227470</td>\n",
       "      <td>3</td>\n",
       "      <td>0.020398</td>\n",
       "    </tr>\n",
       "    <tr>\n",
       "      <th>1</th>\n",
       "      <td>0</td>\n",
       "      <td>1</td>\n",
       "      <td>0</td>\n",
       "      <td>0</td>\n",
       "      <td>1</td>\n",
       "      <td>12</td>\n",
       "      <td>1</td>\n",
       "      <td>31</td>\n",
       "      <td>113.202938</td>\n",
       "      <td>7</td>\n",
       "      <td>1.922936</td>\n",
       "    </tr>\n",
       "    <tr>\n",
       "      <th>2</th>\n",
       "      <td>0</td>\n",
       "      <td>1</td>\n",
       "      <td>1</td>\n",
       "      <td>0</td>\n",
       "      <td>1</td>\n",
       "      <td>1</td>\n",
       "      <td>0</td>\n",
       "      <td>28</td>\n",
       "      <td>129.448479</td>\n",
       "      <td>2</td>\n",
       "      <td>1.859098</td>\n",
       "    </tr>\n",
       "    <tr>\n",
       "      <th>3</th>\n",
       "      <td>0</td>\n",
       "      <td>1</td>\n",
       "      <td>1</td>\n",
       "      <td>1</td>\n",
       "      <td>1</td>\n",
       "      <td>12</td>\n",
       "      <td>1</td>\n",
       "      <td>33</td>\n",
       "      <td>62.669863</td>\n",
       "      <td>2</td>\n",
       "      <td>3.205633</td>\n",
       "    </tr>\n",
       "    <tr>\n",
       "      <th>4</th>\n",
       "      <td>1</td>\n",
       "      <td>1</td>\n",
       "      <td>1</td>\n",
       "      <td>1</td>\n",
       "      <td>1</td>\n",
       "      <td>1</td>\n",
       "      <td>0</td>\n",
       "      <td>26</td>\n",
       "      <td>198.362265</td>\n",
       "      <td>3</td>\n",
       "      <td>1.113884</td>\n",
       "    </tr>\n",
       "    <tr>\n",
       "      <th>...</th>\n",
       "      <td>...</td>\n",
       "      <td>...</td>\n",
       "      <td>...</td>\n",
       "      <td>...</td>\n",
       "      <td>...</td>\n",
       "      <td>...</td>\n",
       "      <td>...</td>\n",
       "      <td>...</td>\n",
       "      <td>...</td>\n",
       "      <td>...</td>\n",
       "      <td>...</td>\n",
       "    </tr>\n",
       "    <tr>\n",
       "      <th>3995</th>\n",
       "      <td>1</td>\n",
       "      <td>1</td>\n",
       "      <td>1</td>\n",
       "      <td>0</td>\n",
       "      <td>1</td>\n",
       "      <td>12</td>\n",
       "      <td>0</td>\n",
       "      <td>33</td>\n",
       "      <td>2.406023</td>\n",
       "      <td>8</td>\n",
       "      <td>2.284497</td>\n",
       "    </tr>\n",
       "    <tr>\n",
       "      <th>3996</th>\n",
       "      <td>0</td>\n",
       "      <td>1</td>\n",
       "      <td>0</td>\n",
       "      <td>0</td>\n",
       "      <td>1</td>\n",
       "      <td>1</td>\n",
       "      <td>1</td>\n",
       "      <td>29</td>\n",
       "      <td>68.883764</td>\n",
       "      <td>1</td>\n",
       "      <td>1.277168</td>\n",
       "    </tr>\n",
       "    <tr>\n",
       "      <th>3997</th>\n",
       "      <td>1</td>\n",
       "      <td>1</td>\n",
       "      <td>1</td>\n",
       "      <td>1</td>\n",
       "      <td>1</td>\n",
       "      <td>12</td>\n",
       "      <td>0</td>\n",
       "      <td>28</td>\n",
       "      <td>78.250542</td>\n",
       "      <td>2</td>\n",
       "      <td>2.786146</td>\n",
       "    </tr>\n",
       "    <tr>\n",
       "      <th>3998</th>\n",
       "      <td>0</td>\n",
       "      <td>1</td>\n",
       "      <td>1</td>\n",
       "      <td>1</td>\n",
       "      <td>1</td>\n",
       "      <td>6</td>\n",
       "      <td>0</td>\n",
       "      <td>32</td>\n",
       "      <td>61.912657</td>\n",
       "      <td>3</td>\n",
       "      <td>1.630108</td>\n",
       "    </tr>\n",
       "    <tr>\n",
       "      <th>3999</th>\n",
       "      <td>1</td>\n",
       "      <td>0</td>\n",
       "      <td>1</td>\n",
       "      <td>0</td>\n",
       "      <td>0</td>\n",
       "      <td>12</td>\n",
       "      <td>1</td>\n",
       "      <td>30</td>\n",
       "      <td>178.861814</td>\n",
       "      <td>1</td>\n",
       "      <td>1.101832</td>\n",
       "    </tr>\n",
       "  </tbody>\n",
       "</table>\n",
       "<p>4000 rows × 11 columns</p>\n",
       "</div>"
      ],
      "text/plain": [
       "      gender  Near_Location  Partner  Promo_friends  Phone  Contract_period  \\\n",
       "0          1              1        1              1      0                6   \n",
       "1          0              1        0              0      1               12   \n",
       "2          0              1        1              0      1                1   \n",
       "3          0              1        1              1      1               12   \n",
       "4          1              1        1              1      1                1   \n",
       "...      ...            ...      ...            ...    ...              ...   \n",
       "3995       1              1        1              0      1               12   \n",
       "3996       0              1        0              0      1                1   \n",
       "3997       1              1        1              1      1               12   \n",
       "3998       0              1        1              1      1                6   \n",
       "3999       1              0        1              0      0               12   \n",
       "\n",
       "      Group_visits  Age  Avg_additional_charges_total  Lifetime  \\\n",
       "0                1   29                     14.227470         3   \n",
       "1                1   31                    113.202938         7   \n",
       "2                0   28                    129.448479         2   \n",
       "3                1   33                     62.669863         2   \n",
       "4                0   26                    198.362265         3   \n",
       "...            ...  ...                           ...       ...   \n",
       "3995             0   33                      2.406023         8   \n",
       "3996             1   29                     68.883764         1   \n",
       "3997             0   28                     78.250542         2   \n",
       "3998             0   32                     61.912657         3   \n",
       "3999             1   30                    178.861814         1   \n",
       "\n",
       "      Avg_class_frequency_total  \n",
       "0                      0.020398  \n",
       "1                      1.922936  \n",
       "2                      1.859098  \n",
       "3                      3.205633  \n",
       "4                      1.113884  \n",
       "...                         ...  \n",
       "3995                   2.284497  \n",
       "3996                   1.277168  \n",
       "3997                   2.786146  \n",
       "3998                   1.630108  \n",
       "3999                   1.101832  \n",
       "\n",
       "[4000 rows x 11 columns]"
      ]
     },
     "execution_count": 22,
     "metadata": {},
     "output_type": "execute_result"
    }
   ],
   "source": [
    "X_2"
   ]
  },
  {
   "cell_type": "markdown",
   "metadata": {},
   "source": [
    "Произвем стандартизацию признаков"
   ]
  },
  {
   "cell_type": "markdown",
   "metadata": {},
   "source": [
    "Разбиваем стандартизированную выборку на обучающую и валидационную"
   ]
  },
  {
   "cell_type": "code",
   "execution_count": 23,
   "metadata": {},
   "outputs": [],
   "source": [
    "X_2train, X_2test, y_2train, y_2test = train_test_split(X_2, y_2, test_size = 0.2, random_state = 0)"
   ]
  },
  {
   "cell_type": "code",
   "execution_count": 24,
   "metadata": {},
   "outputs": [
    {
     "data": {
      "text/plain": [
       "StandardScaler()"
      ]
     },
     "execution_count": 24,
     "metadata": {},
     "output_type": "execute_result"
    }
   ],
   "source": [
    "#Обучаем StandartScaler на обучающей выборке\n",
    "sc2 = StandardScaler()\n",
    "sc2.fit(X_2train)"
   ]
  },
  {
   "cell_type": "markdown",
   "metadata": {},
   "source": [
    "Преобразуем обучающий и валидационный наборы данных"
   ]
  },
  {
   "cell_type": "code",
   "execution_count": 25,
   "metadata": {},
   "outputs": [],
   "source": [
    "X_2train_st = sc2.transform(X_2train)\n",
    "X_2test_st = sc2.transform(X_2test)"
   ]
  },
  {
   "cell_type": "code",
   "execution_count": 26,
   "metadata": {},
   "outputs": [],
   "source": [
    "#Задаем алгоритм\n",
    "model_lr_2 = LogisticRegression(solver='liblinear', random_state = 0)\n",
    "#Обучаем модель\n",
    "model_lr_2.fit(X_2train_st, y_2train)\n",
    "#Рассчитываем прогнозируемые значения\n",
    "lr_predict_2 = model_lr_2.predict(X_2test_st)\n",
    "#Рассчитываем вектор вероятностей отнесения к классу 1\n",
    "lr_proba_2 = model_lr_2.predict_proba(X_2test_st)[:,1]"
   ]
  },
  {
   "cell_type": "markdown",
   "metadata": {},
   "source": [
    "Повторим предыдущие шаги с алгоритмом случайного леса"
   ]
  },
  {
   "cell_type": "code",
   "execution_count": 27,
   "metadata": {},
   "outputs": [],
   "source": [
    "# Зададим алгоритм для модели\n",
    "model_rf_2 = RandomForestClassifier(n_estimators = 100, random_state = 0) # Ваш код здесь\n",
    "# Обучаем модель\n",
    "model_rf_2.fit(X_2train_st, y_2train)\n",
    "#Рассчитываем прогнозируемые значения\n",
    "rf_predict_2 = model_rf_2.predict(X_2test_st)\n",
    "#Рассчитываем вектор вероятностей отнесения к классу 1\n",
    "rf_proba_2 = model_rf_2.predict_proba(X_2test_st)[:,1]"
   ]
  },
  {
   "cell_type": "markdown",
   "metadata": {},
   "source": [
    "Произведем сравнение моделей"
   ]
  },
  {
   "cell_type": "code",
   "execution_count": 28,
   "metadata": {},
   "outputs": [
    {
     "name": "stdout",
     "output_type": "stream",
     "text": [
      "Сравнение метрик\n",
      "Linear regression accuracy 0.90 | Random forest accuracy 0.89\n",
      "Linear regression precision 0.79 | Random forest precision 0.79\n",
      "Linear regression recall 0.81 | Random forest recall 0.76\n"
     ]
    }
   ],
   "source": [
    "print('Сравнение метрик')\n",
    "print('Linear regression accuracy {:.2f} | Random forest accuracy {:.2f}'\n",
    "      .format(accuracy_score(y_2test, lr_predict_2), accuracy_score(y_2test, rf_predict_2)))\n",
    "print('Linear regression precision {:.2f} | Random forest precision {:.2f}'\n",
    "      .format(precision_score(y_2test, lr_predict_2), precision_score(y_2test, rf_predict_2)))\n",
    "print('Linear regression recall {:.2f} | Random forest recall {:.2f}'\n",
    "      .format(recall_score(y_2test, lr_predict_2), recall_score(y_2test, rf_predict_2)))"
   ]
  },
  {
   "cell_type": "markdown",
   "metadata": {},
   "source": [
    "Видно, что все метрики для обеих моделей ухудшились. Сравним теперь по метрикам классификации на основе значений прогноза."
   ]
  },
  {
   "cell_type": "code",
   "execution_count": 29,
   "metadata": {},
   "outputs": [
    {
     "name": "stdout",
     "output_type": "stream",
     "text": [
      "Linear regression F1: 0.80 | Random forest F1: 0.77 (2 sample)\n",
      "Linear regression F1: 0.85 | Random forest F1: 0.83 (1 sample)\n",
      "Linear regression ROC_AUC: 0.87 | Random forest ROC_AUC: 0.85 (2 sample)\n",
      "Linear regression ROC_AUC: 0.90 | Random forest ROC_AUC: 0.88 (1 sample)\n"
     ]
    }
   ],
   "source": [
    "print('Linear regression F1: {:.2f} | Random forest F1: {:.2f} (2 sample)'\n",
    "      .format(f1_score(y_2test,lr_predict_2), f1_score(y_2test,rf_predict_2)))\n",
    "print('Linear regression F1: {:.2f} | Random forest F1: {:.2f} (1 sample)'\n",
    "      .format(f1_score(y_test,lr_predict), f1_score(y_test,rf_predict)))\n",
    "print('Linear regression ROC_AUC: {:.2f} | Random forest ROC_AUC: {:.2f} (2 sample)'\n",
    "      .format(roc_auc_score(y_2test,lr_predict_2), roc_auc_score(y_2test,rf_predict_2)))\n",
    "print('Linear regression ROC_AUC: {:.2f} | Random forest ROC_AUC: {:.2f} (1 sample)'\n",
    "      .format(roc_auc_score(y_test,lr_predict), roc_auc_score(y_test,rf_predict)))"
   ]
  },
  {
   "cell_type": "markdown",
   "metadata": {},
   "source": [
    "Величины сводной метрики f1, учитывающей precision и recall, а также площади под кривой ошибок для моделей из основной части работы выше, чем для моделей построенных после исключения двух признаков и стандартизации данных."
   ]
  },
  {
   "cell_type": "markdown",
   "metadata": {},
   "source": [
    "**Проведем кластеризацию, задав количество классов равное четырем**"
   ]
  },
  {
   "cell_type": "code",
   "execution_count": 30,
   "metadata": {},
   "outputs": [],
   "source": [
    "#Зададим алгоритм\n",
    "km_2 = KMeans(n_clusters = 4, random_state=0)\n",
    "#Прогнозируем кластеры для наблюдений\n",
    "labels_2 = km_2.fit_predict(X_sc)\n",
    "#Сохраняем значения кластеров в датасет\n",
    "fitness_data['cluster_km_2'] = labels_2"
   ]
  },
  {
   "cell_type": "code",
   "execution_count": 31,
   "metadata": {},
   "outputs": [
    {
     "data": {
      "text/html": [
       "<div>\n",
       "<style scoped>\n",
       "    .dataframe tbody tr th:only-of-type {\n",
       "        vertical-align: middle;\n",
       "    }\n",
       "\n",
       "    .dataframe tbody tr th {\n",
       "        vertical-align: top;\n",
       "    }\n",
       "\n",
       "    .dataframe thead th {\n",
       "        text-align: right;\n",
       "    }\n",
       "</style>\n",
       "<table border=\"1\" class=\"dataframe\">\n",
       "  <thead>\n",
       "    <tr style=\"text-align: right;\">\n",
       "      <th></th>\n",
       "      <th>gender</th>\n",
       "      <th>Near_Location</th>\n",
       "      <th>Partner</th>\n",
       "      <th>Promo_friends</th>\n",
       "      <th>Phone</th>\n",
       "      <th>Contract_period</th>\n",
       "      <th>Group_visits</th>\n",
       "      <th>Age</th>\n",
       "      <th>Avg_additional_charges_total</th>\n",
       "      <th>Month_to_end_contract</th>\n",
       "      <th>Lifetime</th>\n",
       "      <th>Avg_class_frequency_total</th>\n",
       "      <th>Avg_class_frequency_current_month</th>\n",
       "      <th>Churn</th>\n",
       "      <th>cluster_km_2</th>\n",
       "    </tr>\n",
       "    <tr>\n",
       "      <th>cluster_km</th>\n",
       "      <th></th>\n",
       "      <th></th>\n",
       "      <th></th>\n",
       "      <th></th>\n",
       "      <th></th>\n",
       "      <th></th>\n",
       "      <th></th>\n",
       "      <th></th>\n",
       "      <th></th>\n",
       "      <th></th>\n",
       "      <th></th>\n",
       "      <th></th>\n",
       "      <th></th>\n",
       "      <th></th>\n",
       "      <th></th>\n",
       "    </tr>\n",
       "  </thead>\n",
       "  <tbody>\n",
       "    <tr>\n",
       "      <th>0</th>\n",
       "      <td>0.502970</td>\n",
       "      <td>0.959406</td>\n",
       "      <td>0.783168</td>\n",
       "      <td>0.574257</td>\n",
       "      <td>1.000000</td>\n",
       "      <td>10.889109</td>\n",
       "      <td>0.542574</td>\n",
       "      <td>29.982178</td>\n",
       "      <td>160.761016</td>\n",
       "      <td>9.954455</td>\n",
       "      <td>4.736634</td>\n",
       "      <td>1.982055</td>\n",
       "      <td>1.974789</td>\n",
       "      <td>0.027723</td>\n",
       "      <td>3.000000</td>\n",
       "    </tr>\n",
       "    <tr>\n",
       "      <th>1</th>\n",
       "      <td>0.522078</td>\n",
       "      <td>0.862338</td>\n",
       "      <td>0.470130</td>\n",
       "      <td>0.306494</td>\n",
       "      <td>0.000000</td>\n",
       "      <td>4.787013</td>\n",
       "      <td>0.425974</td>\n",
       "      <td>29.301299</td>\n",
       "      <td>143.957664</td>\n",
       "      <td>4.475325</td>\n",
       "      <td>3.924675</td>\n",
       "      <td>1.847220</td>\n",
       "      <td>1.716369</td>\n",
       "      <td>0.267532</td>\n",
       "      <td>0.000000</td>\n",
       "    </tr>\n",
       "    <tr>\n",
       "      <th>2</th>\n",
       "      <td>0.495050</td>\n",
       "      <td>0.000000</td>\n",
       "      <td>0.463366</td>\n",
       "      <td>0.079208</td>\n",
       "      <td>1.000000</td>\n",
       "      <td>2.352475</td>\n",
       "      <td>0.215842</td>\n",
       "      <td>28.477228</td>\n",
       "      <td>135.457501</td>\n",
       "      <td>2.198020</td>\n",
       "      <td>2.809901</td>\n",
       "      <td>1.660461</td>\n",
       "      <td>1.477324</td>\n",
       "      <td>0.443564</td>\n",
       "      <td>1.340594</td>\n",
       "    </tr>\n",
       "    <tr>\n",
       "      <th>3</th>\n",
       "      <td>0.485737</td>\n",
       "      <td>1.000000</td>\n",
       "      <td>0.350238</td>\n",
       "      <td>0.240095</td>\n",
       "      <td>1.000000</td>\n",
       "      <td>1.948494</td>\n",
       "      <td>0.341521</td>\n",
       "      <td>28.167987</td>\n",
       "      <td>131.622204</td>\n",
       "      <td>1.856577</td>\n",
       "      <td>2.440571</td>\n",
       "      <td>1.247634</td>\n",
       "      <td>1.012983</td>\n",
       "      <td>0.514263</td>\n",
       "      <td>1.127575</td>\n",
       "    </tr>\n",
       "    <tr>\n",
       "      <th>4</th>\n",
       "      <td>0.559666</td>\n",
       "      <td>0.976134</td>\n",
       "      <td>0.356802</td>\n",
       "      <td>0.230310</td>\n",
       "      <td>0.998807</td>\n",
       "      <td>2.669451</td>\n",
       "      <td>0.473747</td>\n",
       "      <td>30.125298</td>\n",
       "      <td>161.657905</td>\n",
       "      <td>2.459427</td>\n",
       "      <td>4.898568</td>\n",
       "      <td>2.852002</td>\n",
       "      <td>2.850161</td>\n",
       "      <td>0.068019</td>\n",
       "      <td>2.025060</td>\n",
       "    </tr>\n",
       "  </tbody>\n",
       "</table>\n",
       "</div>"
      ],
      "text/plain": [
       "              gender  Near_Location   Partner  Promo_friends     Phone  \\\n",
       "cluster_km                                                               \n",
       "0           0.502970       0.959406  0.783168       0.574257  1.000000   \n",
       "1           0.522078       0.862338  0.470130       0.306494  0.000000   \n",
       "2           0.495050       0.000000  0.463366       0.079208  1.000000   \n",
       "3           0.485737       1.000000  0.350238       0.240095  1.000000   \n",
       "4           0.559666       0.976134  0.356802       0.230310  0.998807   \n",
       "\n",
       "            Contract_period  Group_visits        Age  \\\n",
       "cluster_km                                             \n",
       "0                 10.889109      0.542574  29.982178   \n",
       "1                  4.787013      0.425974  29.301299   \n",
       "2                  2.352475      0.215842  28.477228   \n",
       "3                  1.948494      0.341521  28.167987   \n",
       "4                  2.669451      0.473747  30.125298   \n",
       "\n",
       "            Avg_additional_charges_total  Month_to_end_contract  Lifetime  \\\n",
       "cluster_km                                                                  \n",
       "0                             160.761016               9.954455  4.736634   \n",
       "1                             143.957664               4.475325  3.924675   \n",
       "2                             135.457501               2.198020  2.809901   \n",
       "3                             131.622204               1.856577  2.440571   \n",
       "4                             161.657905               2.459427  4.898568   \n",
       "\n",
       "            Avg_class_frequency_total  Avg_class_frequency_current_month  \\\n",
       "cluster_km                                                                 \n",
       "0                            1.982055                           1.974789   \n",
       "1                            1.847220                           1.716369   \n",
       "2                            1.660461                           1.477324   \n",
       "3                            1.247634                           1.012983   \n",
       "4                            2.852002                           2.850161   \n",
       "\n",
       "               Churn  cluster_km_2  \n",
       "cluster_km                          \n",
       "0           0.027723      3.000000  \n",
       "1           0.267532      0.000000  \n",
       "2           0.443564      1.340594  \n",
       "3           0.514263      1.127575  \n",
       "4           0.068019      2.025060  "
      ]
     },
     "execution_count": 31,
     "metadata": {},
     "output_type": "execute_result"
    }
   ],
   "source": [
    "fitness_data.groupby('cluster_km').mean()"
   ]
  },
  {
   "cell_type": "code",
   "execution_count": 32,
   "metadata": {},
   "outputs": [
    {
     "data": {
      "text/html": [
       "<div>\n",
       "<style scoped>\n",
       "    .dataframe tbody tr th:only-of-type {\n",
       "        vertical-align: middle;\n",
       "    }\n",
       "\n",
       "    .dataframe tbody tr th {\n",
       "        vertical-align: top;\n",
       "    }\n",
       "\n",
       "    .dataframe thead th {\n",
       "        text-align: right;\n",
       "    }\n",
       "</style>\n",
       "<table border=\"1\" class=\"dataframe\">\n",
       "  <thead>\n",
       "    <tr style=\"text-align: right;\">\n",
       "      <th></th>\n",
       "      <th>gender</th>\n",
       "      <th>Near_Location</th>\n",
       "      <th>Partner</th>\n",
       "      <th>Promo_friends</th>\n",
       "      <th>Phone</th>\n",
       "      <th>Contract_period</th>\n",
       "      <th>Group_visits</th>\n",
       "      <th>Age</th>\n",
       "      <th>Avg_additional_charges_total</th>\n",
       "      <th>Month_to_end_contract</th>\n",
       "      <th>Lifetime</th>\n",
       "      <th>Avg_class_frequency_total</th>\n",
       "      <th>Avg_class_frequency_current_month</th>\n",
       "      <th>Churn</th>\n",
       "      <th>cluster_km</th>\n",
       "    </tr>\n",
       "    <tr>\n",
       "      <th>cluster_km_2</th>\n",
       "      <th></th>\n",
       "      <th></th>\n",
       "      <th></th>\n",
       "      <th></th>\n",
       "      <th></th>\n",
       "      <th></th>\n",
       "      <th></th>\n",
       "      <th></th>\n",
       "      <th></th>\n",
       "      <th></th>\n",
       "      <th></th>\n",
       "      <th></th>\n",
       "      <th></th>\n",
       "      <th></th>\n",
       "      <th></th>\n",
       "    </tr>\n",
       "  </thead>\n",
       "  <tbody>\n",
       "    <tr>\n",
       "      <th>0</th>\n",
       "      <td>0.523316</td>\n",
       "      <td>0.862694</td>\n",
       "      <td>0.471503</td>\n",
       "      <td>0.305699</td>\n",
       "      <td>0.0</td>\n",
       "      <td>4.777202</td>\n",
       "      <td>0.427461</td>\n",
       "      <td>29.297927</td>\n",
       "      <td>144.208179</td>\n",
       "      <td>4.466321</td>\n",
       "      <td>3.940415</td>\n",
       "      <td>1.854211</td>\n",
       "      <td>1.723967</td>\n",
       "      <td>0.266839</td>\n",
       "      <td>1.007772</td>\n",
       "    </tr>\n",
       "    <tr>\n",
       "      <th>1</th>\n",
       "      <td>0.486815</td>\n",
       "      <td>0.759297</td>\n",
       "      <td>0.381339</td>\n",
       "      <td>0.190669</td>\n",
       "      <td>1.0</td>\n",
       "      <td>1.899256</td>\n",
       "      <td>0.292765</td>\n",
       "      <td>28.048005</td>\n",
       "      <td>129.704525</td>\n",
       "      <td>1.805274</td>\n",
       "      <td>2.235294</td>\n",
       "      <td>1.204610</td>\n",
       "      <td>0.951590</td>\n",
       "      <td>0.559838</td>\n",
       "      <td>2.759297</td>\n",
       "    </tr>\n",
       "    <tr>\n",
       "      <th>2</th>\n",
       "      <td>0.544939</td>\n",
       "      <td>0.861873</td>\n",
       "      <td>0.343425</td>\n",
       "      <td>0.205298</td>\n",
       "      <td>1.0</td>\n",
       "      <td>2.403027</td>\n",
       "      <td>0.447493</td>\n",
       "      <td>29.989593</td>\n",
       "      <td>157.358764</td>\n",
       "      <td>2.239357</td>\n",
       "      <td>4.704825</td>\n",
       "      <td>2.724796</td>\n",
       "      <td>2.711132</td>\n",
       "      <td>0.092715</td>\n",
       "      <td>3.650899</td>\n",
       "    </tr>\n",
       "    <tr>\n",
       "      <th>3</th>\n",
       "      <td>0.503711</td>\n",
       "      <td>0.940631</td>\n",
       "      <td>0.777365</td>\n",
       "      <td>0.572356</td>\n",
       "      <td>1.0</td>\n",
       "      <td>10.697588</td>\n",
       "      <td>0.536178</td>\n",
       "      <td>29.912801</td>\n",
       "      <td>161.363032</td>\n",
       "      <td>9.768089</td>\n",
       "      <td>4.730056</td>\n",
       "      <td>1.983884</td>\n",
       "      <td>1.975592</td>\n",
       "      <td>0.029685</td>\n",
       "      <td>0.189239</td>\n",
       "    </tr>\n",
       "  </tbody>\n",
       "</table>\n",
       "</div>"
      ],
      "text/plain": [
       "                gender  Near_Location   Partner  Promo_friends  Phone  \\\n",
       "cluster_km_2                                                            \n",
       "0             0.523316       0.862694  0.471503       0.305699    0.0   \n",
       "1             0.486815       0.759297  0.381339       0.190669    1.0   \n",
       "2             0.544939       0.861873  0.343425       0.205298    1.0   \n",
       "3             0.503711       0.940631  0.777365       0.572356    1.0   \n",
       "\n",
       "              Contract_period  Group_visits        Age  \\\n",
       "cluster_km_2                                             \n",
       "0                    4.777202      0.427461  29.297927   \n",
       "1                    1.899256      0.292765  28.048005   \n",
       "2                    2.403027      0.447493  29.989593   \n",
       "3                   10.697588      0.536178  29.912801   \n",
       "\n",
       "              Avg_additional_charges_total  Month_to_end_contract  Lifetime  \\\n",
       "cluster_km_2                                                                  \n",
       "0                               144.208179               4.466321  3.940415   \n",
       "1                               129.704525               1.805274  2.235294   \n",
       "2                               157.358764               2.239357  4.704825   \n",
       "3                               161.363032               9.768089  4.730056   \n",
       "\n",
       "              Avg_class_frequency_total  Avg_class_frequency_current_month  \\\n",
       "cluster_km_2                                                                 \n",
       "0                              1.854211                           1.723967   \n",
       "1                              1.204610                           0.951590   \n",
       "2                              2.724796                           2.711132   \n",
       "3                              1.983884                           1.975592   \n",
       "\n",
       "                 Churn  cluster_km  \n",
       "cluster_km_2                        \n",
       "0             0.266839    1.007772  \n",
       "1             0.559838    2.759297  \n",
       "2             0.092715    3.650899  \n",
       "3             0.029685    0.189239  "
      ]
     },
     "execution_count": 32,
     "metadata": {},
     "output_type": "execute_result"
    }
   ],
   "source": [
    "fitness_data.groupby('cluster_km_2').mean()"
   ]
  },
  {
   "cell_type": "markdown",
   "metadata": {},
   "source": [
    "Оценим модели по метрике силуэта."
   ]
  },
  {
   "cell_type": "code",
   "execution_count": 33,
   "metadata": {},
   "outputs": [
    {
     "name": "stdout",
     "output_type": "stream",
     "text": [
      "Silhouette_score sample 1: 0.14 | Silhouette_score sample 2: 0.13\n"
     ]
    }
   ],
   "source": [
    "print('Silhouette_score sample 1: {:.2f} | Silhouette_score sample 2: {:.2f}'\n",
    "      .format(silhouette_score(X_sc,labels), silhouette_score(X_sc,labels_2)))"
   ]
  },
  {
   "cell_type": "markdown",
   "metadata": {},
   "source": [
    "Метрики силуэта низкие для обоих случаев."
   ]
  }
 ],
 "metadata": {
  "ExecuteTimeLog": [
   {
    "duration": 3,
    "start_time": "2022-06-23T04:39:11.746Z"
   },
   {
    "duration": 128,
    "start_time": "2022-06-23T04:39:59.743Z"
   },
   {
    "duration": 3,
    "start_time": "2022-06-23T04:40:17.582Z"
   },
   {
    "duration": 3,
    "start_time": "2022-06-23T04:59:14.049Z"
   },
   {
    "duration": 53,
    "start_time": "2022-06-23T05:02:21.972Z"
   },
   {
    "duration": 429,
    "start_time": "2022-06-23T05:02:32.532Z"
   },
   {
    "duration": 78,
    "start_time": "2022-06-23T05:02:32.963Z"
   },
   {
    "duration": 3,
    "start_time": "2022-06-23T05:03:10.356Z"
   },
   {
    "duration": 26,
    "start_time": "2022-06-23T05:06:50.584Z"
   },
   {
    "duration": 4,
    "start_time": "2022-06-23T05:07:33.264Z"
   },
   {
    "duration": 18,
    "start_time": "2022-06-23T05:07:54.839Z"
   },
   {
    "duration": 9,
    "start_time": "2022-06-23T05:11:21.784Z"
   },
   {
    "duration": 8,
    "start_time": "2022-06-23T05:11:25.944Z"
   },
   {
    "duration": 2,
    "start_time": "2022-06-23T05:14:31.013Z"
   },
   {
    "duration": 49,
    "start_time": "2022-06-23T05:18:37.912Z"
   },
   {
    "duration": 120,
    "start_time": "2022-06-23T06:16:39.492Z"
   },
   {
    "duration": 34,
    "start_time": "2022-06-23T06:16:50.252Z"
   },
   {
    "duration": 428,
    "start_time": "2022-06-23T07:58:17.322Z"
   },
   {
    "duration": 332,
    "start_time": "2022-06-23T07:59:15.474Z"
   },
   {
    "duration": 357,
    "start_time": "2022-06-23T08:01:09.658Z"
   },
   {
    "duration": 1799,
    "start_time": "2022-06-23T08:01:20.201Z"
   },
   {
    "duration": 1866,
    "start_time": "2022-06-23T08:01:49.465Z"
   },
   {
    "duration": 147,
    "start_time": "2022-06-23T08:02:17.946Z"
   },
   {
    "duration": 1861,
    "start_time": "2022-06-23T08:02:39.078Z"
   },
   {
    "duration": 1923,
    "start_time": "2022-06-23T08:03:34.874Z"
   },
   {
    "duration": 162,
    "start_time": "2022-06-23T08:06:12.574Z"
   },
   {
    "duration": 147,
    "start_time": "2022-06-23T08:06:22.938Z"
   },
   {
    "duration": 144,
    "start_time": "2022-06-23T08:06:44.410Z"
   },
   {
    "duration": 1934,
    "start_time": "2022-06-23T08:08:07.346Z"
   },
   {
    "duration": 312,
    "start_time": "2022-06-23T08:10:26.390Z"
   },
   {
    "duration": 726,
    "start_time": "2022-06-23T08:11:15.063Z"
   },
   {
    "duration": 665,
    "start_time": "2022-06-23T08:11:26.806Z"
   },
   {
    "duration": 630,
    "start_time": "2022-06-23T08:11:34.582Z"
   },
   {
    "duration": 708,
    "start_time": "2022-06-23T08:12:12.238Z"
   },
   {
    "duration": 11,
    "start_time": "2022-06-23T08:15:46.074Z"
   },
   {
    "duration": 11,
    "start_time": "2022-06-23T08:15:57.666Z"
   },
   {
    "duration": 135,
    "start_time": "2022-06-23T08:16:56.641Z"
   },
   {
    "duration": 142,
    "start_time": "2022-06-23T08:17:21.631Z"
   },
   {
    "duration": 1940,
    "start_time": "2022-06-23T08:17:56.910Z"
   },
   {
    "duration": 1997,
    "start_time": "2022-06-23T08:21:33.272Z"
   },
   {
    "duration": 114,
    "start_time": "2022-06-23T08:21:41.643Z"
   },
   {
    "duration": 675,
    "start_time": "2022-06-23T08:28:29.816Z"
   },
   {
    "duration": 853,
    "start_time": "2022-06-23T08:29:20.740Z"
   },
   {
    "duration": 162,
    "start_time": "2022-06-23T08:31:35.060Z"
   },
   {
    "duration": 595,
    "start_time": "2022-06-23T08:32:00.217Z"
   },
   {
    "duration": 763,
    "start_time": "2022-06-23T08:34:45.612Z"
   },
   {
    "duration": 708,
    "start_time": "2022-06-23T08:35:00.938Z"
   },
   {
    "duration": 1148,
    "start_time": "2022-06-23T08:35:05.324Z"
   },
   {
    "duration": 2033,
    "start_time": "2022-06-23T08:35:10.344Z"
   },
   {
    "duration": 2090,
    "start_time": "2022-06-23T08:35:39.353Z"
   },
   {
    "duration": 605,
    "start_time": "2022-06-23T08:36:09.165Z"
   },
   {
    "duration": 399,
    "start_time": "2022-06-23T08:36:14.116Z"
   },
   {
    "duration": 2064,
    "start_time": "2022-06-23T08:36:25.238Z"
   },
   {
    "duration": 2167,
    "start_time": "2022-06-23T08:37:00.813Z"
   },
   {
    "duration": 4166,
    "start_time": "2022-06-23T08:50:32.225Z"
   },
   {
    "duration": 1014,
    "start_time": "2022-06-23T08:50:46.585Z"
   },
   {
    "duration": 2131,
    "start_time": "2022-06-23T08:52:47.494Z"
   },
   {
    "duration": 610,
    "start_time": "2022-06-23T08:53:17.506Z"
   },
   {
    "duration": 476,
    "start_time": "2022-06-23T08:54:14.666Z"
   },
   {
    "duration": 625,
    "start_time": "2022-06-23T09:03:20.656Z"
   },
   {
    "duration": 13,
    "start_time": "2022-06-23T09:14:31.745Z"
   },
   {
    "duration": 364,
    "start_time": "2022-06-23T09:14:46.785Z"
   },
   {
    "duration": 1940,
    "start_time": "2022-06-23T09:15:00.154Z"
   },
   {
    "duration": 1794,
    "start_time": "2022-06-23T09:15:09.881Z"
   },
   {
    "duration": 1773,
    "start_time": "2022-06-23T09:15:17.685Z"
   },
   {
    "duration": 1783,
    "start_time": "2022-06-23T09:15:24.738Z"
   },
   {
    "duration": 1756,
    "start_time": "2022-06-23T09:15:31.636Z"
   },
   {
    "duration": 1559,
    "start_time": "2022-06-23T09:15:50.338Z"
   },
   {
    "duration": 16,
    "start_time": "2022-06-23T09:16:50.741Z"
   },
   {
    "duration": 1704,
    "start_time": "2022-06-23T09:17:00.906Z"
   },
   {
    "duration": 2694,
    "start_time": "2022-06-23T09:17:53.297Z"
   },
   {
    "duration": 1701,
    "start_time": "2022-06-23T09:18:12.839Z"
   },
   {
    "duration": 1895,
    "start_time": "2022-06-23T09:18:44.338Z"
   },
   {
    "duration": 2061,
    "start_time": "2022-06-23T09:18:54.578Z"
   },
   {
    "duration": 2084,
    "start_time": "2022-06-23T09:19:25.538Z"
   },
   {
    "duration": 75,
    "start_time": "2022-06-23T10:02:15.376Z"
   },
   {
    "duration": 1900,
    "start_time": "2022-06-23T10:02:25.842Z"
   },
   {
    "duration": 2047,
    "start_time": "2022-06-23T10:05:28.534Z"
   },
   {
    "duration": 2104,
    "start_time": "2022-06-23T10:05:44.486Z"
   },
   {
    "duration": 2325,
    "start_time": "2022-06-23T10:06:00.534Z"
   },
   {
    "duration": 2775,
    "start_time": "2022-06-23T10:06:15.474Z"
   },
   {
    "duration": 2372,
    "start_time": "2022-06-23T10:06:29.597Z"
   },
   {
    "duration": 2281,
    "start_time": "2022-06-23T10:07:50.121Z"
   },
   {
    "duration": 2248,
    "start_time": "2022-06-23T10:08:00.843Z"
   },
   {
    "duration": 2189,
    "start_time": "2022-06-23T10:08:09.021Z"
   },
   {
    "duration": 2201,
    "start_time": "2022-06-23T10:12:24.226Z"
   },
   {
    "duration": 2454,
    "start_time": "2022-06-23T10:12:31.125Z"
   },
   {
    "duration": 1999,
    "start_time": "2022-06-23T10:13:27.537Z"
   },
   {
    "duration": 69,
    "start_time": "2022-06-23T10:14:14.769Z"
   },
   {
    "duration": 22,
    "start_time": "2022-06-23T10:14:28.875Z"
   },
   {
    "duration": 503,
    "start_time": "2022-06-23T10:14:58.868Z"
   },
   {
    "duration": 494,
    "start_time": "2022-06-23T10:15:08.057Z"
   },
   {
    "duration": 484,
    "start_time": "2022-06-23T10:15:17.085Z"
   },
   {
    "duration": 134,
    "start_time": "2022-06-23T10:16:38.649Z"
   },
   {
    "duration": 1424,
    "start_time": "2022-06-23T10:16:47.525Z"
   },
   {
    "duration": 1461,
    "start_time": "2022-06-23T10:17:05.157Z"
   },
   {
    "duration": 72,
    "start_time": "2022-06-23T10:18:17.573Z"
   },
   {
    "duration": 10,
    "start_time": "2022-06-23T10:35:14.611Z"
   },
   {
    "duration": 399,
    "start_time": "2022-06-23T10:35:32.553Z"
   },
   {
    "duration": 18,
    "start_time": "2022-06-23T10:35:38.264Z"
   },
   {
    "duration": 18,
    "start_time": "2022-06-23T10:36:33.912Z"
   },
   {
    "duration": 6,
    "start_time": "2022-06-23T10:36:42.711Z"
   },
   {
    "duration": 4,
    "start_time": "2022-06-23T10:36:58.941Z"
   },
   {
    "duration": 5,
    "start_time": "2022-06-23T10:36:59.811Z"
   },
   {
    "duration": 23,
    "start_time": "2022-06-23T10:37:04.520Z"
   },
   {
    "duration": 4,
    "start_time": "2022-06-23T10:37:13.457Z"
   },
   {
    "duration": 4,
    "start_time": "2022-06-23T10:38:41.238Z"
   },
   {
    "duration": 8,
    "start_time": "2022-06-23T10:41:02.358Z"
   },
   {
    "duration": 27,
    "start_time": "2022-06-23T10:41:18.116Z"
   },
   {
    "duration": 11,
    "start_time": "2022-06-23T10:41:22.837Z"
   },
   {
    "duration": 26,
    "start_time": "2022-06-23T10:41:32.128Z"
   },
   {
    "duration": 22,
    "start_time": "2022-06-23T10:41:59.260Z"
   },
   {
    "duration": 32,
    "start_time": "2022-06-23T10:42:54.819Z"
   },
   {
    "duration": 60,
    "start_time": "2022-06-23T10:43:09.669Z"
   },
   {
    "duration": 123,
    "start_time": "2022-06-23T10:44:19.304Z"
   },
   {
    "duration": 52,
    "start_time": "2022-06-23T10:44:57.750Z"
   },
   {
    "duration": 26,
    "start_time": "2022-06-23T10:47:31.820Z"
   },
   {
    "duration": 3,
    "start_time": "2022-06-23T10:48:17.749Z"
   },
   {
    "duration": 128,
    "start_time": "2022-06-23T10:50:38.403Z"
   },
   {
    "duration": 29,
    "start_time": "2022-06-23T10:50:49.421Z"
   },
   {
    "duration": 27,
    "start_time": "2022-06-23T10:51:03.345Z"
   },
   {
    "duration": 12,
    "start_time": "2022-06-23T10:53:18.207Z"
   },
   {
    "duration": 393,
    "start_time": "2022-06-23T10:53:23.629Z"
   },
   {
    "duration": 28,
    "start_time": "2022-06-23T10:54:09.400Z"
   },
   {
    "duration": 6,
    "start_time": "2022-06-23T10:54:18.530Z"
   },
   {
    "duration": 27,
    "start_time": "2022-06-23T10:54:19.174Z"
   },
   {
    "duration": 356,
    "start_time": "2022-06-23T10:54:19.757Z"
   },
   {
    "duration": 64,
    "start_time": "2022-06-23T10:55:26.422Z"
   },
   {
    "duration": 109,
    "start_time": "2022-06-23T10:56:00.507Z"
   },
   {
    "duration": 10,
    "start_time": "2022-06-23T11:01:49.506Z"
   },
   {
    "duration": 3,
    "start_time": "2022-06-23T11:02:25.399Z"
   },
   {
    "duration": 18,
    "start_time": "2022-06-23T11:02:29.024Z"
   },
   {
    "duration": 4,
    "start_time": "2022-06-23T11:02:37.970Z"
   },
   {
    "duration": 8,
    "start_time": "2022-06-23T11:03:44.763Z"
   },
   {
    "duration": 11,
    "start_time": "2022-06-23T11:04:11.010Z"
   },
   {
    "duration": 10,
    "start_time": "2022-06-23T11:04:31.003Z"
   },
   {
    "duration": 2,
    "start_time": "2022-06-23T11:24:25.286Z"
   },
   {
    "duration": 18,
    "start_time": "2022-06-23T11:29:02.106Z"
   },
   {
    "duration": 4,
    "start_time": "2022-06-23T11:31:24.240Z"
   },
   {
    "duration": 554,
    "start_time": "2022-06-23T11:32:07.646Z"
   },
   {
    "duration": 75,
    "start_time": "2022-06-23T11:32:48.646Z"
   },
   {
    "duration": 115454,
    "start_time": "2022-06-23T11:34:02.737Z"
   },
   {
    "duration": 4,
    "start_time": "2022-06-23T11:40:30.815Z"
   },
   {
    "duration": 11,
    "start_time": "2022-06-23T11:43:32.647Z"
   },
   {
    "duration": 1257,
    "start_time": "2022-06-23T11:43:49.174Z"
   },
   {
    "duration": 19,
    "start_time": "2022-06-23T11:46:03.574Z"
   },
   {
    "duration": 51,
    "start_time": "2022-06-24T05:16:09.466Z"
   },
   {
    "duration": 1690,
    "start_time": "2022-06-24T05:16:15.542Z"
   },
   {
    "duration": 78,
    "start_time": "2022-06-24T05:16:17.234Z"
   },
   {
    "duration": 41,
    "start_time": "2022-06-24T05:16:17.314Z"
   },
   {
    "duration": 7,
    "start_time": "2022-06-24T05:16:17.357Z"
   },
   {
    "duration": 66,
    "start_time": "2022-06-24T05:16:17.366Z"
   },
   {
    "duration": 32,
    "start_time": "2022-06-24T05:16:17.437Z"
   },
   {
    "duration": 2363,
    "start_time": "2022-06-24T05:16:17.472Z"
   },
   {
    "duration": 25,
    "start_time": "2022-06-24T05:16:19.837Z"
   },
   {
    "duration": 1639,
    "start_time": "2022-06-24T05:16:19.863Z"
   },
   {
    "duration": 5,
    "start_time": "2022-06-24T05:16:21.504Z"
   },
   {
    "duration": 10,
    "start_time": "2022-06-24T05:16:21.512Z"
   },
   {
    "duration": 57,
    "start_time": "2022-06-24T05:16:21.524Z"
   },
   {
    "duration": 264,
    "start_time": "2022-06-24T05:16:21.587Z"
   },
   {
    "duration": 0,
    "start_time": "2022-06-24T05:16:21.854Z"
   },
   {
    "duration": 0,
    "start_time": "2022-06-24T05:16:21.856Z"
   },
   {
    "duration": 0,
    "start_time": "2022-06-24T05:16:21.857Z"
   },
   {
    "duration": 0,
    "start_time": "2022-06-24T05:16:21.859Z"
   },
   {
    "duration": 0,
    "start_time": "2022-06-24T05:16:21.860Z"
   },
   {
    "duration": 745,
    "start_time": "2022-06-24T05:17:39.615Z"
   },
   {
    "duration": 11,
    "start_time": "2022-06-24T05:18:11.880Z"
   },
   {
    "duration": 4,
    "start_time": "2022-06-24T05:19:41.061Z"
   },
   {
    "duration": 1460,
    "start_time": "2022-06-24T05:19:46.950Z"
   },
   {
    "duration": 42,
    "start_time": "2022-06-24T05:19:48.412Z"
   },
   {
    "duration": 26,
    "start_time": "2022-06-24T05:19:48.456Z"
   },
   {
    "duration": 8,
    "start_time": "2022-06-24T05:19:48.484Z"
   },
   {
    "duration": 61,
    "start_time": "2022-06-24T05:19:48.493Z"
   },
   {
    "duration": 15,
    "start_time": "2022-06-24T05:19:48.556Z"
   },
   {
    "duration": 2268,
    "start_time": "2022-06-24T05:19:48.573Z"
   },
   {
    "duration": 21,
    "start_time": "2022-06-24T05:19:50.845Z"
   },
   {
    "duration": 1819,
    "start_time": "2022-06-24T05:19:50.867Z"
   },
   {
    "duration": 6,
    "start_time": "2022-06-24T05:19:52.691Z"
   },
   {
    "duration": 12,
    "start_time": "2022-06-24T05:19:52.700Z"
   },
   {
    "duration": 136,
    "start_time": "2022-06-24T05:19:52.714Z"
   },
   {
    "duration": 597,
    "start_time": "2022-06-24T05:19:52.855Z"
   },
   {
    "duration": 11,
    "start_time": "2022-06-24T05:19:53.454Z"
   },
   {
    "duration": 608,
    "start_time": "2022-06-24T05:19:53.467Z"
   },
   {
    "duration": 119992,
    "start_time": "2022-06-24T05:19:54.077Z"
   },
   {
    "duration": 1469,
    "start_time": "2022-06-24T05:21:54.071Z"
   },
   {
    "duration": 102,
    "start_time": "2022-06-24T05:21:55.542Z"
   },
   {
    "duration": 1192,
    "start_time": "2022-06-24T05:29:42.852Z"
   },
   {
    "duration": 19,
    "start_time": "2022-06-24T05:30:12.538Z"
   },
   {
    "duration": 1512,
    "start_time": "2022-06-24T05:30:28.702Z"
   },
   {
    "duration": 40,
    "start_time": "2022-06-24T05:30:30.217Z"
   },
   {
    "duration": 25,
    "start_time": "2022-06-24T05:30:30.259Z"
   },
   {
    "duration": 9,
    "start_time": "2022-06-24T05:30:30.286Z"
   },
   {
    "duration": 51,
    "start_time": "2022-06-24T05:30:30.297Z"
   },
   {
    "duration": 16,
    "start_time": "2022-06-24T05:30:30.350Z"
   },
   {
    "duration": 2377,
    "start_time": "2022-06-24T05:30:30.368Z"
   },
   {
    "duration": 23,
    "start_time": "2022-06-24T05:30:32.748Z"
   },
   {
    "duration": 1717,
    "start_time": "2022-06-24T05:30:32.772Z"
   },
   {
    "duration": 5,
    "start_time": "2022-06-24T05:30:34.493Z"
   },
   {
    "duration": 35,
    "start_time": "2022-06-24T05:30:34.499Z"
   },
   {
    "duration": 73,
    "start_time": "2022-06-24T05:30:34.537Z"
   },
   {
    "duration": 521,
    "start_time": "2022-06-24T05:30:34.627Z"
   },
   {
    "duration": 10,
    "start_time": "2022-06-24T05:30:35.149Z"
   },
   {
    "duration": 717,
    "start_time": "2022-06-24T05:30:35.161Z"
   },
   {
    "duration": 119194,
    "start_time": "2022-06-24T05:30:35.880Z"
   },
   {
    "duration": 955,
    "start_time": "2022-06-24T05:32:35.076Z"
   },
   {
    "duration": 109,
    "start_time": "2022-06-24T05:32:36.034Z"
   },
   {
    "duration": 2822,
    "start_time": "2022-06-24T06:01:56.578Z"
   },
   {
    "duration": 2578,
    "start_time": "2022-06-24T06:02:45.265Z"
   },
   {
    "duration": 2383,
    "start_time": "2022-06-24T06:02:55.697Z"
   },
   {
    "duration": 50,
    "start_time": "2022-06-24T10:46:49.664Z"
   },
   {
    "duration": 1550,
    "start_time": "2022-06-24T10:46:56.883Z"
   },
   {
    "duration": 66,
    "start_time": "2022-06-24T10:46:58.435Z"
   },
   {
    "duration": 26,
    "start_time": "2022-06-24T10:46:58.503Z"
   },
   {
    "duration": 15,
    "start_time": "2022-06-24T10:46:58.532Z"
   },
   {
    "duration": 60,
    "start_time": "2022-06-24T10:46:58.549Z"
   },
   {
    "duration": 15,
    "start_time": "2022-06-24T10:46:58.611Z"
   },
   {
    "duration": 2112,
    "start_time": "2022-06-24T10:46:58.628Z"
   },
   {
    "duration": 21,
    "start_time": "2022-06-24T10:47:00.742Z"
   },
   {
    "duration": 1740,
    "start_time": "2022-06-24T10:47:00.765Z"
   },
   {
    "duration": 4,
    "start_time": "2022-06-24T10:47:02.508Z"
   },
   {
    "duration": 18,
    "start_time": "2022-06-24T10:47:02.513Z"
   },
   {
    "duration": 30,
    "start_time": "2022-06-24T10:47:02.532Z"
   },
   {
    "duration": 537,
    "start_time": "2022-06-24T10:47:02.564Z"
   },
   {
    "duration": 10,
    "start_time": "2022-06-24T10:47:03.103Z"
   },
   {
    "duration": 598,
    "start_time": "2022-06-24T10:47:03.115Z"
   },
   {
    "duration": 112521,
    "start_time": "2022-06-24T10:47:03.715Z"
   },
   {
    "duration": 1493,
    "start_time": "2022-06-24T10:48:56.238Z"
   },
   {
    "duration": 108,
    "start_time": "2022-06-24T10:48:57.733Z"
   },
   {
    "duration": 2219,
    "start_time": "2022-06-24T10:48:57.843Z"
   },
   {
    "duration": 67,
    "start_time": "2022-06-24T11:06:36.987Z"
   },
   {
    "duration": 125,
    "start_time": "2022-06-24T11:06:47.143Z"
   },
   {
    "duration": 111,
    "start_time": "2022-06-24T11:07:11.807Z"
   },
   {
    "duration": 1095,
    "start_time": "2022-06-24T11:07:17.511Z"
   },
   {
    "duration": 1199,
    "start_time": "2022-06-24T11:07:38.676Z"
   },
   {
    "duration": 1041,
    "start_time": "2022-06-24T11:08:13.324Z"
   },
   {
    "duration": 3337,
    "start_time": "2022-06-24T11:08:25.487Z"
   },
   {
    "duration": 33481,
    "start_time": "2022-06-24T11:08:48.604Z"
   },
   {
    "duration": 1025,
    "start_time": "2022-06-24T11:09:23.475Z"
   },
   {
    "duration": 6,
    "start_time": "2022-06-24T11:13:39.647Z"
   },
   {
    "duration": 58,
    "start_time": "2022-06-24T11:14:27.075Z"
   },
   {
    "duration": 1407,
    "start_time": "2022-06-24T11:14:31.312Z"
   },
   {
    "duration": 1721,
    "start_time": "2022-06-24T11:15:42.080Z"
   },
   {
    "duration": 1889,
    "start_time": "2022-06-24T11:17:10.796Z"
   },
   {
    "duration": 1844,
    "start_time": "2022-06-24T11:18:03.077Z"
   },
   {
    "duration": 2112,
    "start_time": "2022-06-24T11:18:31.266Z"
   },
   {
    "duration": 2155,
    "start_time": "2022-06-24T11:20:31.089Z"
   },
   {
    "duration": 4036,
    "start_time": "2022-06-24T11:23:43.167Z"
   },
   {
    "duration": 3856,
    "start_time": "2022-06-24T11:24:09.008Z"
   },
   {
    "duration": 4293,
    "start_time": "2022-06-24T11:24:43.688Z"
   },
   {
    "duration": 4114,
    "start_time": "2022-06-24T11:25:01.305Z"
   },
   {
    "duration": 3956,
    "start_time": "2022-06-24T11:25:24.992Z"
   },
   {
    "duration": 4433,
    "start_time": "2022-06-24T11:26:32.705Z"
   },
   {
    "duration": 3912,
    "start_time": "2022-06-24T11:28:46.849Z"
   },
   {
    "duration": 4047,
    "start_time": "2022-06-24T11:29:05.929Z"
   },
   {
    "duration": 18,
    "start_time": "2022-06-24T11:30:08.505Z"
   },
   {
    "duration": 4111,
    "start_time": "2022-06-24T11:30:16.240Z"
   },
   {
    "duration": 3959,
    "start_time": "2022-06-24T11:32:45.737Z"
   },
   {
    "duration": 4151,
    "start_time": "2022-06-24T11:33:12.481Z"
   },
   {
    "duration": 4014,
    "start_time": "2022-06-24T11:33:23.648Z"
   },
   {
    "duration": 3843,
    "start_time": "2022-06-24T11:34:13.945Z"
   },
   {
    "duration": 5573,
    "start_time": "2022-06-24T11:40:39.905Z"
   },
   {
    "duration": 5718,
    "start_time": "2022-06-24T11:41:51.805Z"
   },
   {
    "duration": 4105,
    "start_time": "2022-06-24T11:42:05.229Z"
   },
   {
    "duration": 315,
    "start_time": "2022-06-24T12:00:09.099Z"
   },
   {
    "duration": 344,
    "start_time": "2022-06-24T12:00:15.568Z"
   },
   {
    "duration": 28,
    "start_time": "2022-06-24T12:03:16.066Z"
   },
   {
    "duration": 4167,
    "start_time": "2022-06-24T12:06:51.696Z"
   },
   {
    "duration": 3928,
    "start_time": "2022-06-24T12:11:09.192Z"
   },
   {
    "duration": 4286,
    "start_time": "2022-06-24T12:11:33.189Z"
   },
   {
    "duration": 1780,
    "start_time": "2022-06-24T12:14:07.747Z"
   },
   {
    "duration": 1832,
    "start_time": "2022-06-24T12:14:38.620Z"
   },
   {
    "duration": 1713,
    "start_time": "2022-06-24T12:15:28.611Z"
   },
   {
    "duration": 1696,
    "start_time": "2022-06-24T12:17:06.235Z"
   },
   {
    "duration": 1690,
    "start_time": "2022-06-24T12:18:10.224Z"
   },
   {
    "duration": 1820,
    "start_time": "2022-06-24T12:18:35.312Z"
   },
   {
    "duration": 1741,
    "start_time": "2022-06-24T12:18:42.554Z"
   },
   {
    "duration": 1677,
    "start_time": "2022-06-24T12:18:48.295Z"
   },
   {
    "duration": 1796,
    "start_time": "2022-06-24T12:18:58.208Z"
   },
   {
    "duration": 22,
    "start_time": "2022-06-24T12:25:50.379Z"
   },
   {
    "duration": 20,
    "start_time": "2022-06-24T12:26:11.011Z"
   },
   {
    "duration": 1500,
    "start_time": "2022-06-24T12:26:23.234Z"
   },
   {
    "duration": 1105,
    "start_time": "2022-06-24T12:27:31.323Z"
   },
   {
    "duration": 479,
    "start_time": "2022-06-24T12:27:41.879Z"
   },
   {
    "duration": 23,
    "start_time": "2022-06-24T12:27:51.183Z"
   },
   {
    "duration": 8,
    "start_time": "2022-06-24T12:27:56.407Z"
   },
   {
    "duration": 972,
    "start_time": "2022-06-24T12:28:41.911Z"
   },
   {
    "duration": 25,
    "start_time": "2022-06-24T12:29:00.939Z"
   },
   {
    "duration": 18,
    "start_time": "2022-06-24T12:29:15.785Z"
   },
   {
    "duration": 778,
    "start_time": "2022-06-24T12:29:21.831Z"
   },
   {
    "duration": 10,
    "start_time": "2022-06-24T12:29:28.085Z"
   },
   {
    "duration": 1127,
    "start_time": "2022-06-24T12:30:50.699Z"
   },
   {
    "duration": 134,
    "start_time": "2022-06-24T12:31:02.108Z"
   },
   {
    "duration": 1912,
    "start_time": "2022-06-24T12:31:42.779Z"
   },
   {
    "duration": 30,
    "start_time": "2022-06-24T12:32:21.220Z"
   },
   {
    "duration": 1720,
    "start_time": "2022-06-24T12:32:49.636Z"
   },
   {
    "duration": 1728,
    "start_time": "2022-06-24T12:33:03.731Z"
   },
   {
    "duration": 0,
    "start_time": "2022-06-24T12:35:34.549Z"
   },
   {
    "duration": 2424,
    "start_time": "2022-06-24T12:35:42.911Z"
   },
   {
    "duration": 38863,
    "start_time": "2022-06-24T12:36:13.387Z"
   },
   {
    "duration": 60335,
    "start_time": "2022-06-24T12:36:55.891Z"
   },
   {
    "duration": 33716,
    "start_time": "2022-06-24T12:39:20.531Z"
   },
   {
    "duration": 33587,
    "start_time": "2022-06-24T12:43:33.397Z"
   },
   {
    "duration": 31629,
    "start_time": "2022-06-24T12:44:27.639Z"
   },
   {
    "duration": 35001,
    "start_time": "2022-06-24T12:45:40.457Z"
   },
   {
    "duration": 32436,
    "start_time": "2022-06-24T12:46:23.271Z"
   },
   {
    "duration": 1759,
    "start_time": "2022-06-24T12:47:41.903Z"
   },
   {
    "duration": 100,
    "start_time": "2022-06-24T12:49:03.431Z"
   },
   {
    "duration": 136,
    "start_time": "2022-06-24T12:52:08.323Z"
   },
   {
    "duration": 121,
    "start_time": "2022-06-24T12:57:27.931Z"
   },
   {
    "duration": 114,
    "start_time": "2022-06-24T12:58:14.222Z"
   },
   {
    "duration": 111,
    "start_time": "2022-06-24T12:58:31.407Z"
   },
   {
    "duration": 110,
    "start_time": "2022-06-24T13:00:10.894Z"
   },
   {
    "duration": 121,
    "start_time": "2022-06-24T13:00:34.301Z"
   },
   {
    "duration": 117,
    "start_time": "2022-06-24T13:06:03.154Z"
   },
   {
    "duration": 117,
    "start_time": "2022-06-24T13:10:46.490Z"
   },
   {
    "duration": 9,
    "start_time": "2022-06-24T13:11:15.976Z"
   },
   {
    "duration": 4,
    "start_time": "2022-06-24T13:14:34.143Z"
   },
   {
    "duration": 116,
    "start_time": "2022-06-24T13:15:03.122Z"
   },
   {
    "duration": 102,
    "start_time": "2022-06-24T13:15:18.463Z"
   },
   {
    "duration": 120,
    "start_time": "2022-06-24T13:20:40.076Z"
   },
   {
    "duration": 1579,
    "start_time": "2022-06-25T06:22:06.166Z"
   },
   {
    "duration": 74,
    "start_time": "2022-06-25T06:22:07.747Z"
   },
   {
    "duration": 26,
    "start_time": "2022-06-25T06:22:07.823Z"
   },
   {
    "duration": 8,
    "start_time": "2022-06-25T06:22:07.850Z"
   },
   {
    "duration": 57,
    "start_time": "2022-06-25T06:22:07.861Z"
   },
   {
    "duration": 16,
    "start_time": "2022-06-25T06:22:07.919Z"
   },
   {
    "duration": 3552,
    "start_time": "2022-06-25T06:22:07.936Z"
   },
   {
    "duration": 22,
    "start_time": "2022-06-25T06:22:11.490Z"
   },
   {
    "duration": 1514,
    "start_time": "2022-06-25T06:22:11.513Z"
   },
   {
    "duration": 5,
    "start_time": "2022-06-25T06:22:13.029Z"
   },
   {
    "duration": 21,
    "start_time": "2022-06-25T06:22:13.036Z"
   },
   {
    "duration": 46,
    "start_time": "2022-06-25T06:22:13.059Z"
   },
   {
    "duration": 518,
    "start_time": "2022-06-25T06:22:13.107Z"
   },
   {
    "duration": 11,
    "start_time": "2022-06-25T06:22:13.627Z"
   },
   {
    "duration": 560,
    "start_time": "2022-06-25T06:22:13.639Z"
   },
   {
    "duration": 113179,
    "start_time": "2022-06-25T06:22:14.201Z"
   },
   {
    "duration": 1271,
    "start_time": "2022-06-25T06:24:07.382Z"
   },
   {
    "duration": 108,
    "start_time": "2022-06-25T06:24:08.658Z"
   },
   {
    "duration": 12,
    "start_time": "2022-06-25T06:24:08.768Z"
   },
   {
    "duration": 56,
    "start_time": "2022-06-25T06:24:08.782Z"
   },
   {
    "duration": 0,
    "start_time": "2022-06-25T06:24:08.839Z"
   },
   {
    "duration": 138,
    "start_time": "2022-06-25T06:26:32.735Z"
   },
   {
    "duration": 18,
    "start_time": "2022-06-25T06:28:28.165Z"
   },
   {
    "duration": 124,
    "start_time": "2022-06-25T06:35:49.826Z"
   },
   {
    "duration": 4,
    "start_time": "2022-06-25T06:36:17.264Z"
   },
   {
    "duration": 10,
    "start_time": "2022-06-25T06:36:24.523Z"
   },
   {
    "duration": 3,
    "start_time": "2022-06-25T06:36:33.132Z"
   },
   {
    "duration": 2314,
    "start_time": "2022-06-25T06:36:41.499Z"
   },
   {
    "duration": 110,
    "start_time": "2022-06-25T06:39:15.611Z"
   },
   {
    "duration": 105,
    "start_time": "2022-06-25T06:40:00.917Z"
   },
   {
    "duration": 106,
    "start_time": "2022-06-25T06:40:23.412Z"
   },
   {
    "duration": 4,
    "start_time": "2022-06-25T06:42:10.571Z"
   },
   {
    "duration": 3,
    "start_time": "2022-06-25T06:42:16.680Z"
   },
   {
    "duration": 3,
    "start_time": "2022-06-25T06:42:27.236Z"
   },
   {
    "duration": 4,
    "start_time": "2022-06-25T06:42:42.695Z"
   },
   {
    "duration": 4,
    "start_time": "2022-06-25T06:44:01.772Z"
   },
   {
    "duration": 4,
    "start_time": "2022-06-25T06:44:17.672Z"
   },
   {
    "duration": 4,
    "start_time": "2022-06-25T06:44:58.368Z"
   },
   {
    "duration": 405,
    "start_time": "2022-06-25T06:47:58.023Z"
   },
   {
    "duration": 115,
    "start_time": "2022-06-25T06:48:05.687Z"
   },
   {
    "duration": 152,
    "start_time": "2022-06-25T06:48:34.712Z"
   },
   {
    "duration": 136,
    "start_time": "2022-06-25T06:49:06.073Z"
   },
   {
    "duration": 704,
    "start_time": "2022-06-25T06:49:18.505Z"
   },
   {
    "duration": 131,
    "start_time": "2022-06-25T06:50:34.611Z"
   },
   {
    "duration": 682,
    "start_time": "2022-06-25T06:50:42.944Z"
   },
   {
    "duration": 37061,
    "start_time": "2022-06-25T06:51:19.984Z"
   },
   {
    "duration": 1655,
    "start_time": "2022-06-25T06:52:22.870Z"
   },
   {
    "duration": 35831,
    "start_time": "2022-06-25T06:52:45.470Z"
   },
   {
    "duration": 34735,
    "start_time": "2022-06-25T06:54:28.099Z"
   },
   {
    "duration": 31847,
    "start_time": "2022-06-25T06:56:53.740Z"
   },
   {
    "duration": 338,
    "start_time": "2022-06-25T08:19:36.381Z"
   },
   {
    "duration": 24959,
    "start_time": "2022-06-25T08:19:48.406Z"
   },
   {
    "duration": 1981,
    "start_time": "2022-06-25T08:21:21.847Z"
   },
   {
    "duration": 555,
    "start_time": "2022-06-25T08:21:29.903Z"
   },
   {
    "duration": 26274,
    "start_time": "2022-06-25T08:22:38.854Z"
   },
   {
    "duration": 570,
    "start_time": "2022-06-25T08:23:13.639Z"
   },
   {
    "duration": 26019,
    "start_time": "2022-06-25T08:23:51.822Z"
   },
   {
    "duration": 9267,
    "start_time": "2022-06-25T08:25:03.887Z"
   },
   {
    "duration": 7743,
    "start_time": "2022-06-25T08:43:57.270Z"
   },
   {
    "duration": 14151,
    "start_time": "2022-06-25T08:47:42.621Z"
   },
   {
    "duration": 14247,
    "start_time": "2022-06-25T09:02:15.021Z"
   },
   {
    "duration": 788,
    "start_time": "2022-06-25T09:02:55.747Z"
   },
   {
    "duration": 1057,
    "start_time": "2022-06-25T09:03:04.701Z"
   },
   {
    "duration": 692,
    "start_time": "2022-06-25T09:03:35.580Z"
   },
   {
    "duration": 15198,
    "start_time": "2022-06-25T09:03:48.977Z"
   },
   {
    "duration": 821,
    "start_time": "2022-06-25T09:04:29.010Z"
   },
   {
    "duration": 621,
    "start_time": "2022-06-25T09:04:54.324Z"
   },
   {
    "duration": 15637,
    "start_time": "2022-06-25T09:05:23.472Z"
   },
   {
    "duration": 13888,
    "start_time": "2022-06-25T09:15:12.299Z"
   },
   {
    "duration": 14380,
    "start_time": "2022-06-25T09:15:30.473Z"
   },
   {
    "duration": 1634,
    "start_time": "2022-06-27T04:15:31.935Z"
   },
   {
    "duration": 144,
    "start_time": "2022-06-27T04:15:33.571Z"
   },
   {
    "duration": 38,
    "start_time": "2022-06-27T04:15:33.716Z"
   },
   {
    "duration": 9,
    "start_time": "2022-06-27T04:15:33.758Z"
   },
   {
    "duration": 68,
    "start_time": "2022-06-27T04:15:33.770Z"
   },
   {
    "duration": 22,
    "start_time": "2022-06-27T04:15:33.840Z"
   },
   {
    "duration": 3579,
    "start_time": "2022-06-27T04:15:33.864Z"
   },
   {
    "duration": 32,
    "start_time": "2022-06-27T04:15:37.445Z"
   },
   {
    "duration": 1542,
    "start_time": "2022-06-27T04:15:37.479Z"
   },
   {
    "duration": 6,
    "start_time": "2022-06-27T04:15:39.025Z"
   },
   {
    "duration": 23,
    "start_time": "2022-06-27T04:15:39.032Z"
   },
   {
    "duration": 177,
    "start_time": "2022-06-27T04:15:39.056Z"
   },
   {
    "duration": 519,
    "start_time": "2022-06-27T04:15:39.235Z"
   },
   {
    "duration": 12,
    "start_time": "2022-06-27T04:15:39.756Z"
   },
   {
    "duration": 641,
    "start_time": "2022-06-27T04:15:39.770Z"
   },
   {
    "duration": 114799,
    "start_time": "2022-06-27T04:15:40.413Z"
   },
   {
    "duration": 738,
    "start_time": "2022-06-27T04:17:35.214Z"
   },
   {
    "duration": 84,
    "start_time": "2022-06-27T04:17:35.958Z"
   },
   {
    "duration": 12,
    "start_time": "2022-06-27T04:17:36.045Z"
   },
   {
    "duration": 28617,
    "start_time": "2022-06-27T04:17:36.058Z"
   },
   {
    "duration": 2323,
    "start_time": "2022-06-27T04:18:04.677Z"
   },
   {
    "duration": 15115,
    "start_time": "2022-06-27T04:18:07.002Z"
   },
   {
    "duration": 13863,
    "start_time": "2022-06-27T04:30:57.046Z"
   },
   {
    "duration": 13382,
    "start_time": "2022-06-27T04:33:12.013Z"
   },
   {
    "duration": 13611,
    "start_time": "2022-06-27T04:33:41.202Z"
   },
   {
    "duration": 13558,
    "start_time": "2022-06-27T04:38:11.061Z"
   },
   {
    "duration": 3,
    "start_time": "2022-06-27T05:02:31.920Z"
   },
   {
    "duration": 131,
    "start_time": "2022-06-27T06:02:49.788Z"
   },
   {
    "duration": 57,
    "start_time": "2022-06-27T12:03:53.021Z"
   },
   {
    "duration": 6,
    "start_time": "2022-06-27T12:04:01.289Z"
   },
   {
    "duration": 1552,
    "start_time": "2022-06-27T12:04:16.068Z"
   },
   {
    "duration": 64,
    "start_time": "2022-06-27T12:04:17.622Z"
   },
   {
    "duration": 25,
    "start_time": "2022-06-27T12:04:17.688Z"
   },
   {
    "duration": 8,
    "start_time": "2022-06-27T12:04:17.715Z"
   },
   {
    "duration": 67,
    "start_time": "2022-06-27T12:04:17.725Z"
   },
   {
    "duration": 14,
    "start_time": "2022-06-27T12:04:17.793Z"
   },
   {
    "duration": 3619,
    "start_time": "2022-06-27T12:04:17.809Z"
   },
   {
    "duration": 37,
    "start_time": "2022-06-27T12:04:21.430Z"
   },
   {
    "duration": 1597,
    "start_time": "2022-06-27T12:04:21.470Z"
   },
   {
    "duration": 4,
    "start_time": "2022-06-27T12:04:23.069Z"
   },
   {
    "duration": 8,
    "start_time": "2022-06-27T12:04:23.074Z"
   },
   {
    "duration": 55,
    "start_time": "2022-06-27T12:04:23.084Z"
   },
   {
    "duration": 563,
    "start_time": "2022-06-27T12:04:23.141Z"
   },
   {
    "duration": 11,
    "start_time": "2022-06-27T12:04:23.707Z"
   },
   {
    "duration": 631,
    "start_time": "2022-06-27T12:04:23.730Z"
   },
   {
    "duration": 121614,
    "start_time": "2022-06-27T12:04:24.363Z"
   },
   {
    "duration": 1158,
    "start_time": "2022-06-27T12:06:25.979Z"
   },
   {
    "duration": 101,
    "start_time": "2022-06-27T12:06:27.139Z"
   },
   {
    "duration": 9,
    "start_time": "2022-06-27T12:06:27.241Z"
   },
   {
    "duration": 13629,
    "start_time": "2022-06-27T12:06:27.253Z"
   },
   {
    "duration": 124,
    "start_time": "2022-06-27T12:06:40.884Z"
   },
   {
    "duration": 4,
    "start_time": "2022-06-27T12:07:32.951Z"
   },
   {
    "duration": 17,
    "start_time": "2022-06-27T12:09:22.980Z"
   },
   {
    "duration": 4,
    "start_time": "2022-06-27T12:11:56.316Z"
   },
   {
    "duration": 31,
    "start_time": "2022-06-27T12:11:58.320Z"
   },
   {
    "duration": 3,
    "start_time": "2022-06-27T12:14:49.352Z"
   },
   {
    "duration": 7,
    "start_time": "2022-06-27T12:15:32.301Z"
   },
   {
    "duration": 6,
    "start_time": "2022-06-27T12:15:37.300Z"
   },
   {
    "duration": 8,
    "start_time": "2022-06-27T12:15:48.270Z"
   },
   {
    "duration": 6,
    "start_time": "2022-06-27T12:15:53.766Z"
   },
   {
    "duration": 20,
    "start_time": "2022-06-27T12:17:01.901Z"
   },
   {
    "duration": 13,
    "start_time": "2022-06-27T12:17:21.077Z"
   },
   {
    "duration": 4,
    "start_time": "2022-06-27T12:20:38.577Z"
   },
   {
    "duration": 12,
    "start_time": "2022-06-27T12:23:41.879Z"
   },
   {
    "duration": 1423,
    "start_time": "2022-06-27T12:23:49.993Z"
   },
   {
    "duration": 51,
    "start_time": "2022-06-27T12:23:51.418Z"
   },
   {
    "duration": 31,
    "start_time": "2022-06-27T12:23:51.471Z"
   },
   {
    "duration": 8,
    "start_time": "2022-06-27T12:23:51.505Z"
   },
   {
    "duration": 87,
    "start_time": "2022-06-27T12:23:51.516Z"
   },
   {
    "duration": 20,
    "start_time": "2022-06-27T12:23:51.605Z"
   },
   {
    "duration": 3770,
    "start_time": "2022-06-27T12:23:51.627Z"
   },
   {
    "duration": 22,
    "start_time": "2022-06-27T12:23:55.399Z"
   },
   {
    "duration": 1659,
    "start_time": "2022-06-27T12:23:55.423Z"
   },
   {
    "duration": 4,
    "start_time": "2022-06-27T12:23:57.084Z"
   },
   {
    "duration": 10,
    "start_time": "2022-06-27T12:23:57.091Z"
   },
   {
    "duration": 66,
    "start_time": "2022-06-27T12:23:57.102Z"
   },
   {
    "duration": 505,
    "start_time": "2022-06-27T12:23:57.231Z"
   },
   {
    "duration": 15,
    "start_time": "2022-06-27T12:23:57.739Z"
   },
   {
    "duration": 614,
    "start_time": "2022-06-27T12:23:57.755Z"
   },
   {
    "duration": 125162,
    "start_time": "2022-06-27T12:23:58.371Z"
   },
   {
    "duration": 1491,
    "start_time": "2022-06-27T12:26:03.535Z"
   },
   {
    "duration": 28,
    "start_time": "2022-06-27T12:26:05.030Z"
   },
   {
    "duration": 23,
    "start_time": "2022-06-27T12:26:05.061Z"
   },
   {
    "duration": 14415,
    "start_time": "2022-06-27T12:26:05.086Z"
   },
   {
    "duration": 5,
    "start_time": "2022-06-27T12:26:19.504Z"
   },
   {
    "duration": 41,
    "start_time": "2022-06-27T12:26:19.511Z"
   },
   {
    "duration": 49,
    "start_time": "2022-06-27T12:26:19.553Z"
   },
   {
    "duration": 0,
    "start_time": "2022-06-27T12:26:19.604Z"
   },
   {
    "duration": 0,
    "start_time": "2022-06-27T12:26:19.606Z"
   },
   {
    "duration": 0,
    "start_time": "2022-06-27T12:26:19.608Z"
   },
   {
    "duration": 124,
    "start_time": "2022-06-27T12:28:17.066Z"
   },
   {
    "duration": 4821,
    "start_time": "2022-06-27T12:28:27.351Z"
   },
   {
    "duration": 21,
    "start_time": "2022-06-27T12:28:32.174Z"
   },
   {
    "duration": 24,
    "start_time": "2022-06-27T12:28:32.196Z"
   },
   {
    "duration": 23,
    "start_time": "2022-06-27T12:28:32.228Z"
   },
   {
    "duration": 55,
    "start_time": "2022-06-27T12:28:32.253Z"
   },
   {
    "duration": 15,
    "start_time": "2022-06-27T12:28:32.310Z"
   },
   {
    "duration": 3711,
    "start_time": "2022-06-27T12:28:32.333Z"
   },
   {
    "duration": 34,
    "start_time": "2022-06-27T12:28:36.052Z"
   },
   {
    "duration": 1634,
    "start_time": "2022-06-27T12:28:36.088Z"
   },
   {
    "duration": 16,
    "start_time": "2022-06-27T12:28:37.731Z"
   },
   {
    "duration": 17,
    "start_time": "2022-06-27T12:28:37.752Z"
   },
   {
    "duration": 73,
    "start_time": "2022-06-27T12:28:37.771Z"
   },
   {
    "duration": 503,
    "start_time": "2022-06-27T12:28:37.850Z"
   },
   {
    "duration": 13,
    "start_time": "2022-06-27T12:28:38.356Z"
   },
   {
    "duration": 683,
    "start_time": "2022-06-27T12:28:38.372Z"
   },
   {
    "duration": 124620,
    "start_time": "2022-06-27T12:28:39.057Z"
   },
   {
    "duration": 1054,
    "start_time": "2022-06-27T12:30:43.679Z"
   },
   {
    "duration": 100,
    "start_time": "2022-06-27T12:30:44.739Z"
   },
   {
    "duration": 25,
    "start_time": "2022-06-27T12:30:44.841Z"
   },
   {
    "duration": 14695,
    "start_time": "2022-06-27T12:30:44.868Z"
   },
   {
    "duration": 5,
    "start_time": "2022-06-27T12:30:59.566Z"
   },
   {
    "duration": 23,
    "start_time": "2022-06-27T12:30:59.573Z"
   },
   {
    "duration": 158,
    "start_time": "2022-06-27T12:30:59.598Z"
   },
   {
    "duration": 0,
    "start_time": "2022-06-27T12:30:59.759Z"
   },
   {
    "duration": 15,
    "start_time": "2022-06-27T12:33:33.802Z"
   },
   {
    "duration": 10,
    "start_time": "2022-06-27T12:33:34.835Z"
   },
   {
    "duration": 15,
    "start_time": "2022-06-27T12:35:40.046Z"
   },
   {
    "duration": 16,
    "start_time": "2022-06-27T12:36:07.649Z"
   },
   {
    "duration": 1410,
    "start_time": "2022-06-27T12:37:35.638Z"
   },
   {
    "duration": 21,
    "start_time": "2022-06-27T12:37:37.050Z"
   },
   {
    "duration": 39,
    "start_time": "2022-06-27T12:37:37.073Z"
   },
   {
    "duration": 10,
    "start_time": "2022-06-27T12:37:37.114Z"
   },
   {
    "duration": 60,
    "start_time": "2022-06-27T12:37:37.126Z"
   },
   {
    "duration": 15,
    "start_time": "2022-06-27T12:37:37.188Z"
   },
   {
    "duration": 3608,
    "start_time": "2022-06-27T12:37:37.205Z"
   },
   {
    "duration": 26,
    "start_time": "2022-06-27T12:37:40.816Z"
   },
   {
    "duration": 1704,
    "start_time": "2022-06-27T12:37:40.843Z"
   },
   {
    "duration": 6,
    "start_time": "2022-06-27T12:37:42.550Z"
   },
   {
    "duration": 10,
    "start_time": "2022-06-27T12:37:42.559Z"
   },
   {
    "duration": 68,
    "start_time": "2022-06-27T12:37:42.571Z"
   },
   {
    "duration": 560,
    "start_time": "2022-06-27T12:37:42.641Z"
   },
   {
    "duration": 11,
    "start_time": "2022-06-27T12:37:43.203Z"
   },
   {
    "duration": 732,
    "start_time": "2022-06-27T12:37:43.216Z"
   },
   {
    "duration": 119246,
    "start_time": "2022-06-27T12:37:43.949Z"
   },
   {
    "duration": 1134,
    "start_time": "2022-06-27T12:39:43.197Z"
   },
   {
    "duration": 101,
    "start_time": "2022-06-27T12:39:44.333Z"
   },
   {
    "duration": 18,
    "start_time": "2022-06-27T12:39:44.439Z"
   },
   {
    "duration": 14814,
    "start_time": "2022-06-27T12:39:44.459Z"
   },
   {
    "duration": 5,
    "start_time": "2022-06-27T12:39:59.275Z"
   },
   {
    "duration": 32,
    "start_time": "2022-06-27T12:39:59.282Z"
   },
   {
    "duration": 161,
    "start_time": "2022-06-27T12:39:59.315Z"
   },
   {
    "duration": 0,
    "start_time": "2022-06-27T12:39:59.479Z"
   },
   {
    "duration": 4,
    "start_time": "2022-06-27T12:44:46.987Z"
   },
   {
    "duration": 897,
    "start_time": "2022-06-27T12:45:19.871Z"
   },
   {
    "duration": 4,
    "start_time": "2022-06-27T12:45:28.684Z"
   },
   {
    "duration": 4,
    "start_time": "2022-06-27T12:45:31.339Z"
   },
   {
    "duration": 5,
    "start_time": "2022-06-27T12:45:34.900Z"
   },
   {
    "duration": 6,
    "start_time": "2022-06-27T12:45:43.771Z"
   },
   {
    "duration": 8,
    "start_time": "2022-06-27T12:46:09.767Z"
   },
   {
    "duration": 44,
    "start_time": "2022-06-27T12:46:38.771Z"
   },
   {
    "duration": 7,
    "start_time": "2022-06-27T12:47:32.199Z"
   },
   {
    "duration": 10,
    "start_time": "2022-06-27T12:49:36.495Z"
   },
   {
    "duration": 351,
    "start_time": "2022-06-27T12:51:26.606Z"
   },
   {
    "duration": 11,
    "start_time": "2022-06-27T12:52:46.670Z"
   },
   {
    "duration": 9,
    "start_time": "2022-06-27T12:59:23.182Z"
   },
   {
    "duration": 4,
    "start_time": "2022-06-27T12:59:43.892Z"
   },
   {
    "duration": 10,
    "start_time": "2022-06-27T12:59:48.601Z"
   },
   {
    "duration": 3,
    "start_time": "2022-06-27T13:03:01.105Z"
   },
   {
    "duration": 14,
    "start_time": "2022-06-27T13:03:36.729Z"
   },
   {
    "duration": 5,
    "start_time": "2022-06-27T13:11:30.948Z"
   },
   {
    "duration": 1208,
    "start_time": "2022-06-27T13:29:32.419Z"
   },
   {
    "duration": 27,
    "start_time": "2022-06-27T13:29:59.291Z"
   },
   {
    "duration": 19,
    "start_time": "2022-06-27T13:30:26.530Z"
   },
   {
    "duration": 18,
    "start_time": "2022-06-27T13:30:47.295Z"
   },
   {
    "duration": 990,
    "start_time": "2022-06-27T13:33:18.814Z"
   },
   {
    "duration": 2117,
    "start_time": "2022-06-27T16:18:56.452Z"
   },
   {
    "duration": 78,
    "start_time": "2022-06-27T16:18:58.571Z"
   },
   {
    "duration": 33,
    "start_time": "2022-06-27T16:18:58.650Z"
   },
   {
    "duration": 37,
    "start_time": "2022-06-27T16:18:58.685Z"
   },
   {
    "duration": 57,
    "start_time": "2022-06-27T16:18:58.724Z"
   },
   {
    "duration": 22,
    "start_time": "2022-06-27T16:18:58.783Z"
   },
   {
    "duration": 3931,
    "start_time": "2022-06-27T16:18:58.809Z"
   },
   {
    "duration": 31,
    "start_time": "2022-06-27T16:19:02.742Z"
   },
   {
    "duration": 1599,
    "start_time": "2022-06-27T16:19:02.777Z"
   },
   {
    "duration": 7,
    "start_time": "2022-06-27T16:19:04.380Z"
   },
   {
    "duration": 28,
    "start_time": "2022-06-27T16:19:04.389Z"
   },
   {
    "duration": 63,
    "start_time": "2022-06-27T16:19:04.420Z"
   },
   {
    "duration": 526,
    "start_time": "2022-06-27T16:19:04.485Z"
   },
   {
    "duration": 10,
    "start_time": "2022-06-27T16:19:05.013Z"
   },
   {
    "duration": 650,
    "start_time": "2022-06-27T16:19:05.024Z"
   },
   {
    "duration": 125001,
    "start_time": "2022-06-27T16:19:05.675Z"
   },
   {
    "duration": 1399,
    "start_time": "2022-06-27T16:21:10.678Z"
   },
   {
    "duration": 104,
    "start_time": "2022-06-27T16:21:12.103Z"
   },
   {
    "duration": 11,
    "start_time": "2022-06-27T16:21:12.215Z"
   },
   {
    "duration": 15238,
    "start_time": "2022-06-27T16:21:12.228Z"
   },
   {
    "duration": 10,
    "start_time": "2022-06-27T16:21:27.468Z"
   },
   {
    "duration": 93,
    "start_time": "2022-06-27T16:21:27.480Z"
   },
   {
    "duration": 34,
    "start_time": "2022-06-27T16:21:27.575Z"
   },
   {
    "duration": 25,
    "start_time": "2022-06-27T16:21:27.616Z"
   },
   {
    "duration": 14,
    "start_time": "2022-06-27T16:21:27.648Z"
   },
   {
    "duration": 93,
    "start_time": "2022-06-27T16:21:27.669Z"
   },
   {
    "duration": 608,
    "start_time": "2022-06-27T16:21:27.765Z"
   },
   {
    "duration": 14,
    "start_time": "2022-06-27T16:21:28.377Z"
   },
   {
    "duration": 55,
    "start_time": "2022-06-27T16:21:28.393Z"
   },
   {
    "duration": 1030,
    "start_time": "2022-06-27T16:21:28.450Z"
   },
   {
    "duration": 38,
    "start_time": "2022-06-27T16:21:29.488Z"
   },
   {
    "duration": 17,
    "start_time": "2022-06-27T16:21:29.528Z"
   },
   {
    "duration": 956,
    "start_time": "2022-06-27T16:21:29.546Z"
   },
   {
    "duration": 54,
    "start_time": "2022-06-28T07:34:37.754Z"
   }
  ],
  "kernelspec": {
   "display_name": "Python 3 (ipykernel)",
   "language": "python",
   "name": "python3"
  },
  "language_info": {
   "codemirror_mode": {
    "name": "ipython",
    "version": 3
   },
   "file_extension": ".py",
   "mimetype": "text/x-python",
   "name": "python",
   "nbconvert_exporter": "python",
   "pygments_lexer": "ipython3",
   "version": "3.8.10"
  },
  "toc": {
   "base_numbering": 1,
   "nav_menu": {},
   "number_sections": true,
   "sideBar": true,
   "skip_h1_title": true,
   "title_cell": "Table of Contents",
   "title_sidebar": "Contents",
   "toc_cell": false,
   "toc_position": {},
   "toc_section_display": true,
   "toc_window_display": false
  }
 },
 "nbformat": 4,
 "nbformat_minor": 2
}
