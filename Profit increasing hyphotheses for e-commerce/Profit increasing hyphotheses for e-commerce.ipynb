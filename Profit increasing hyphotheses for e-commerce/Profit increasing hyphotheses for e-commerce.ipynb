{
 "cells": [
  {
   "cell_type": "markdown",
   "metadata": {},
   "source": [
    "#  Проверка гипотез по увеличению выручки в интернет-магазине — оценка результатов A/B теста"
   ]
  },
  {
   "cell_type": "markdown",
   "metadata": {},
   "source": [
    "1. [Описание](#describing)\n",
    "\n",
    "\n",
    "2. [Приоритизация гипотез](#prioritizing)\n",
    "\n",
    "\n",
    "3. [Анализ A/B-теста](#A/B)\n",
    "\n",
    "    3.1 [Расчет кумулятивных показателей](#cumulativemetrics)\n",
    "    \n",
    "    3.2 [Поиск и фильтрация аномальных значений](#seekanddestroy)\n",
    "    \n",
    "    3.3 [Проверка статистических гипотез](#statistics)\n",
    "    \n",
    "    \n",
    "4. [Вывод](#conclusion)"
   ]
  },
  {
   "cell_type": "markdown",
   "metadata": {},
   "source": [
    "## Описание\n",
    "<a id = 'describing'></a>"
   ]
  },
  {
   "cell_type": "markdown",
   "metadata": {},
   "source": [
    "**Цель проекта** - провести анализ результатов A/B-теста улучшений, направленных на повышение выручки.\n",
    "\n",
    "**Задачи**:\n",
    "\n",
    "- Загрузить датасеты с информацией о предлагаемых гипотезах и результатах A/B теста;\n",
    "    \n",
    "- Провести приоритизацию гипотез методиками ICE и RICE;\n",
    "    \n",
    "- Анализ данных, полученных в ходе проведения A/B-теста."
   ]
  },
  {
   "cell_type": "code",
   "execution_count": 1,
   "metadata": {},
   "outputs": [],
   "source": [
    "import pandas as pd\n",
    "import numpy as np\n",
    "import math as mt\n",
    "from matplotlib import pyplot as plt\n",
    "import scipy.stats as stats\n",
    "import seaborn as sns"
   ]
  },
  {
   "cell_type": "markdown",
   "metadata": {},
   "source": [
    "## Приоритизация гипотез\n",
    "<a id = 'prioritizing'></a>"
   ]
  },
  {
   "cell_type": "markdown",
   "metadata": {},
   "source": [
    "Откроем и изучим датасет с гипотезами."
   ]
  },
  {
   "cell_type": "code",
   "execution_count": 2,
   "metadata": {},
   "outputs": [
    {
     "name": "stdout",
     "output_type": "stream",
     "text": [
      "<class 'pandas.core.frame.DataFrame'>\n",
      "RangeIndex: 9 entries, 0 to 8\n",
      "Data columns (total 5 columns):\n",
      " #   Column      Non-Null Count  Dtype \n",
      "---  ------      --------------  ----- \n",
      " 0   Hypothesis  9 non-null      object\n",
      " 1   Reach       9 non-null      int64 \n",
      " 2   Impact      9 non-null      int64 \n",
      " 3   Confidence  9 non-null      int64 \n",
      " 4   Efforts     9 non-null      int64 \n",
      "dtypes: int64(4), object(1)\n",
      "memory usage: 488.0+ bytes\n"
     ]
    },
    {
     "data": {
      "text/html": [
       "<div>\n",
       "<style scoped>\n",
       "    .dataframe tbody tr th:only-of-type {\n",
       "        vertical-align: middle;\n",
       "    }\n",
       "\n",
       "    .dataframe tbody tr th {\n",
       "        vertical-align: top;\n",
       "    }\n",
       "\n",
       "    .dataframe thead th {\n",
       "        text-align: right;\n",
       "    }\n",
       "</style>\n",
       "<table border=\"1\" class=\"dataframe\">\n",
       "  <thead>\n",
       "    <tr style=\"text-align: right;\">\n",
       "      <th></th>\n",
       "      <th>Hypothesis</th>\n",
       "      <th>Reach</th>\n",
       "      <th>Impact</th>\n",
       "      <th>Confidence</th>\n",
       "      <th>Efforts</th>\n",
       "    </tr>\n",
       "  </thead>\n",
       "  <tbody>\n",
       "    <tr>\n",
       "      <th>0</th>\n",
       "      <td>Добавить два новых канала привлечения трафика,...</td>\n",
       "      <td>3</td>\n",
       "      <td>10</td>\n",
       "      <td>8</td>\n",
       "      <td>6</td>\n",
       "    </tr>\n",
       "    <tr>\n",
       "      <th>1</th>\n",
       "      <td>Запустить собственную службу доставки, что сок...</td>\n",
       "      <td>2</td>\n",
       "      <td>5</td>\n",
       "      <td>4</td>\n",
       "      <td>10</td>\n",
       "    </tr>\n",
       "    <tr>\n",
       "      <th>2</th>\n",
       "      <td>Добавить блоки рекомендаций товаров на сайт ин...</td>\n",
       "      <td>8</td>\n",
       "      <td>3</td>\n",
       "      <td>7</td>\n",
       "      <td>3</td>\n",
       "    </tr>\n",
       "    <tr>\n",
       "      <th>3</th>\n",
       "      <td>Изменить структура категорий, что увеличит кон...</td>\n",
       "      <td>8</td>\n",
       "      <td>3</td>\n",
       "      <td>3</td>\n",
       "      <td>8</td>\n",
       "    </tr>\n",
       "    <tr>\n",
       "      <th>4</th>\n",
       "      <td>Изменить цвет фона главной страницы, чтобы уве...</td>\n",
       "      <td>3</td>\n",
       "      <td>1</td>\n",
       "      <td>1</td>\n",
       "      <td>1</td>\n",
       "    </tr>\n",
       "    <tr>\n",
       "      <th>5</th>\n",
       "      <td>Добавить страницу отзывов клиентов о магазине,...</td>\n",
       "      <td>3</td>\n",
       "      <td>2</td>\n",
       "      <td>2</td>\n",
       "      <td>3</td>\n",
       "    </tr>\n",
       "    <tr>\n",
       "      <th>6</th>\n",
       "      <td>Показать на главной странице баннеры с актуаль...</td>\n",
       "      <td>5</td>\n",
       "      <td>3</td>\n",
       "      <td>8</td>\n",
       "      <td>3</td>\n",
       "    </tr>\n",
       "    <tr>\n",
       "      <th>7</th>\n",
       "      <td>Добавить форму подписки на все основные страни...</td>\n",
       "      <td>10</td>\n",
       "      <td>7</td>\n",
       "      <td>8</td>\n",
       "      <td>5</td>\n",
       "    </tr>\n",
       "    <tr>\n",
       "      <th>8</th>\n",
       "      <td>Запустить акцию, дающую скидку на товар в день...</td>\n",
       "      <td>1</td>\n",
       "      <td>9</td>\n",
       "      <td>9</td>\n",
       "      <td>5</td>\n",
       "    </tr>\n",
       "  </tbody>\n",
       "</table>\n",
       "</div>"
      ],
      "text/plain": [
       "                                          Hypothesis  Reach  Impact  \\\n",
       "0  Добавить два новых канала привлечения трафика,...      3      10   \n",
       "1  Запустить собственную службу доставки, что сок...      2       5   \n",
       "2  Добавить блоки рекомендаций товаров на сайт ин...      8       3   \n",
       "3  Изменить структура категорий, что увеличит кон...      8       3   \n",
       "4  Изменить цвет фона главной страницы, чтобы уве...      3       1   \n",
       "5  Добавить страницу отзывов клиентов о магазине,...      3       2   \n",
       "6  Показать на главной странице баннеры с актуаль...      5       3   \n",
       "7  Добавить форму подписки на все основные страни...     10       7   \n",
       "8  Запустить акцию, дающую скидку на товар в день...      1       9   \n",
       "\n",
       "   Confidence  Efforts  \n",
       "0           8        6  \n",
       "1           4       10  \n",
       "2           7        3  \n",
       "3           3        8  \n",
       "4           1        1  \n",
       "5           2        3  \n",
       "6           8        3  \n",
       "7           8        5  \n",
       "8           9        5  "
      ]
     },
     "metadata": {},
     "output_type": "display_data"
    }
   ],
   "source": [
    "hypothesis = pd.read_csv('C://Users//1//Downloads//hypothesis.csv')\n",
    "hypothesis.info()\n",
    "display(hypothesis)"
   ]
  },
  {
   "cell_type": "code",
   "execution_count": 3,
   "metadata": {},
   "outputs": [],
   "source": [
    "# Приведем названия столбцов к нижнему регистру\n",
    "hypothesis.columns = hypothesis.columns.str.lower()"
   ]
  },
  {
   "cell_type": "markdown",
   "metadata": {},
   "source": [
    "Проведем приоритизацию гипотез"
   ]
  },
  {
   "cell_type": "code",
   "execution_count": 4,
   "metadata": {},
   "outputs": [
    {
     "data": {
      "text/html": [
       "<div>\n",
       "<style scoped>\n",
       "    .dataframe tbody tr th:only-of-type {\n",
       "        vertical-align: middle;\n",
       "    }\n",
       "\n",
       "    .dataframe tbody tr th {\n",
       "        vertical-align: top;\n",
       "    }\n",
       "\n",
       "    .dataframe thead th {\n",
       "        text-align: right;\n",
       "    }\n",
       "</style>\n",
       "<table border=\"1\" class=\"dataframe\">\n",
       "  <thead>\n",
       "    <tr style=\"text-align: right;\">\n",
       "      <th></th>\n",
       "      <th>hypothesis</th>\n",
       "      <th>reach</th>\n",
       "      <th>impact</th>\n",
       "      <th>confidence</th>\n",
       "      <th>efforts</th>\n",
       "      <th>ice</th>\n",
       "      <th>rice</th>\n",
       "    </tr>\n",
       "  </thead>\n",
       "  <tbody>\n",
       "    <tr>\n",
       "      <th>8</th>\n",
       "      <td>Запустить акцию, дающую скидку на товар в день...</td>\n",
       "      <td>1</td>\n",
       "      <td>9</td>\n",
       "      <td>9</td>\n",
       "      <td>5</td>\n",
       "      <td>16.200000</td>\n",
       "      <td>16.2</td>\n",
       "    </tr>\n",
       "    <tr>\n",
       "      <th>0</th>\n",
       "      <td>Добавить два новых канала привлечения трафика,...</td>\n",
       "      <td>3</td>\n",
       "      <td>10</td>\n",
       "      <td>8</td>\n",
       "      <td>6</td>\n",
       "      <td>13.333333</td>\n",
       "      <td>40.0</td>\n",
       "    </tr>\n",
       "    <tr>\n",
       "      <th>7</th>\n",
       "      <td>Добавить форму подписки на все основные страни...</td>\n",
       "      <td>10</td>\n",
       "      <td>7</td>\n",
       "      <td>8</td>\n",
       "      <td>5</td>\n",
       "      <td>11.200000</td>\n",
       "      <td>112.0</td>\n",
       "    </tr>\n",
       "    <tr>\n",
       "      <th>6</th>\n",
       "      <td>Показать на главной странице баннеры с актуаль...</td>\n",
       "      <td>5</td>\n",
       "      <td>3</td>\n",
       "      <td>8</td>\n",
       "      <td>3</td>\n",
       "      <td>8.000000</td>\n",
       "      <td>40.0</td>\n",
       "    </tr>\n",
       "    <tr>\n",
       "      <th>2</th>\n",
       "      <td>Добавить блоки рекомендаций товаров на сайт ин...</td>\n",
       "      <td>8</td>\n",
       "      <td>3</td>\n",
       "      <td>7</td>\n",
       "      <td>3</td>\n",
       "      <td>7.000000</td>\n",
       "      <td>56.0</td>\n",
       "    </tr>\n",
       "    <tr>\n",
       "      <th>1</th>\n",
       "      <td>Запустить собственную службу доставки, что сок...</td>\n",
       "      <td>2</td>\n",
       "      <td>5</td>\n",
       "      <td>4</td>\n",
       "      <td>10</td>\n",
       "      <td>2.000000</td>\n",
       "      <td>4.0</td>\n",
       "    </tr>\n",
       "    <tr>\n",
       "      <th>5</th>\n",
       "      <td>Добавить страницу отзывов клиентов о магазине,...</td>\n",
       "      <td>3</td>\n",
       "      <td>2</td>\n",
       "      <td>2</td>\n",
       "      <td>3</td>\n",
       "      <td>1.333333</td>\n",
       "      <td>4.0</td>\n",
       "    </tr>\n",
       "    <tr>\n",
       "      <th>3</th>\n",
       "      <td>Изменить структура категорий, что увеличит кон...</td>\n",
       "      <td>8</td>\n",
       "      <td>3</td>\n",
       "      <td>3</td>\n",
       "      <td>8</td>\n",
       "      <td>1.125000</td>\n",
       "      <td>9.0</td>\n",
       "    </tr>\n",
       "    <tr>\n",
       "      <th>4</th>\n",
       "      <td>Изменить цвет фона главной страницы, чтобы уве...</td>\n",
       "      <td>3</td>\n",
       "      <td>1</td>\n",
       "      <td>1</td>\n",
       "      <td>1</td>\n",
       "      <td>1.000000</td>\n",
       "      <td>3.0</td>\n",
       "    </tr>\n",
       "  </tbody>\n",
       "</table>\n",
       "</div>"
      ],
      "text/plain": [
       "                                          hypothesis  reach  impact  \\\n",
       "8  Запустить акцию, дающую скидку на товар в день...      1       9   \n",
       "0  Добавить два новых канала привлечения трафика,...      3      10   \n",
       "7  Добавить форму подписки на все основные страни...     10       7   \n",
       "6  Показать на главной странице баннеры с актуаль...      5       3   \n",
       "2  Добавить блоки рекомендаций товаров на сайт ин...      8       3   \n",
       "1  Запустить собственную службу доставки, что сок...      2       5   \n",
       "5  Добавить страницу отзывов клиентов о магазине,...      3       2   \n",
       "3  Изменить структура категорий, что увеличит кон...      8       3   \n",
       "4  Изменить цвет фона главной страницы, чтобы уве...      3       1   \n",
       "\n",
       "   confidence  efforts        ice   rice  \n",
       "8           9        5  16.200000   16.2  \n",
       "0           8        6  13.333333   40.0  \n",
       "7           8        5  11.200000  112.0  \n",
       "6           8        3   8.000000   40.0  \n",
       "2           7        3   7.000000   56.0  \n",
       "1           4       10   2.000000    4.0  \n",
       "5           2        3   1.333333    4.0  \n",
       "3           3        8   1.125000    9.0  \n",
       "4           1        1   1.000000    3.0  "
      ]
     },
     "metadata": {},
     "output_type": "display_data"
    },
    {
     "data": {
      "text/html": [
       "<div>\n",
       "<style scoped>\n",
       "    .dataframe tbody tr th:only-of-type {\n",
       "        vertical-align: middle;\n",
       "    }\n",
       "\n",
       "    .dataframe tbody tr th {\n",
       "        vertical-align: top;\n",
       "    }\n",
       "\n",
       "    .dataframe thead th {\n",
       "        text-align: right;\n",
       "    }\n",
       "</style>\n",
       "<table border=\"1\" class=\"dataframe\">\n",
       "  <thead>\n",
       "    <tr style=\"text-align: right;\">\n",
       "      <th></th>\n",
       "      <th>hypothesis</th>\n",
       "      <th>reach</th>\n",
       "      <th>impact</th>\n",
       "      <th>confidence</th>\n",
       "      <th>efforts</th>\n",
       "      <th>ice</th>\n",
       "      <th>rice</th>\n",
       "    </tr>\n",
       "  </thead>\n",
       "  <tbody>\n",
       "    <tr>\n",
       "      <th>7</th>\n",
       "      <td>Добавить форму подписки на все основные страни...</td>\n",
       "      <td>10</td>\n",
       "      <td>7</td>\n",
       "      <td>8</td>\n",
       "      <td>5</td>\n",
       "      <td>11.200000</td>\n",
       "      <td>112.0</td>\n",
       "    </tr>\n",
       "    <tr>\n",
       "      <th>2</th>\n",
       "      <td>Добавить блоки рекомендаций товаров на сайт ин...</td>\n",
       "      <td>8</td>\n",
       "      <td>3</td>\n",
       "      <td>7</td>\n",
       "      <td>3</td>\n",
       "      <td>7.000000</td>\n",
       "      <td>56.0</td>\n",
       "    </tr>\n",
       "    <tr>\n",
       "      <th>0</th>\n",
       "      <td>Добавить два новых канала привлечения трафика,...</td>\n",
       "      <td>3</td>\n",
       "      <td>10</td>\n",
       "      <td>8</td>\n",
       "      <td>6</td>\n",
       "      <td>13.333333</td>\n",
       "      <td>40.0</td>\n",
       "    </tr>\n",
       "    <tr>\n",
       "      <th>6</th>\n",
       "      <td>Показать на главной странице баннеры с актуаль...</td>\n",
       "      <td>5</td>\n",
       "      <td>3</td>\n",
       "      <td>8</td>\n",
       "      <td>3</td>\n",
       "      <td>8.000000</td>\n",
       "      <td>40.0</td>\n",
       "    </tr>\n",
       "    <tr>\n",
       "      <th>8</th>\n",
       "      <td>Запустить акцию, дающую скидку на товар в день...</td>\n",
       "      <td>1</td>\n",
       "      <td>9</td>\n",
       "      <td>9</td>\n",
       "      <td>5</td>\n",
       "      <td>16.200000</td>\n",
       "      <td>16.2</td>\n",
       "    </tr>\n",
       "    <tr>\n",
       "      <th>3</th>\n",
       "      <td>Изменить структура категорий, что увеличит кон...</td>\n",
       "      <td>8</td>\n",
       "      <td>3</td>\n",
       "      <td>3</td>\n",
       "      <td>8</td>\n",
       "      <td>1.125000</td>\n",
       "      <td>9.0</td>\n",
       "    </tr>\n",
       "    <tr>\n",
       "      <th>1</th>\n",
       "      <td>Запустить собственную службу доставки, что сок...</td>\n",
       "      <td>2</td>\n",
       "      <td>5</td>\n",
       "      <td>4</td>\n",
       "      <td>10</td>\n",
       "      <td>2.000000</td>\n",
       "      <td>4.0</td>\n",
       "    </tr>\n",
       "    <tr>\n",
       "      <th>5</th>\n",
       "      <td>Добавить страницу отзывов клиентов о магазине,...</td>\n",
       "      <td>3</td>\n",
       "      <td>2</td>\n",
       "      <td>2</td>\n",
       "      <td>3</td>\n",
       "      <td>1.333333</td>\n",
       "      <td>4.0</td>\n",
       "    </tr>\n",
       "    <tr>\n",
       "      <th>4</th>\n",
       "      <td>Изменить цвет фона главной страницы, чтобы уве...</td>\n",
       "      <td>3</td>\n",
       "      <td>1</td>\n",
       "      <td>1</td>\n",
       "      <td>1</td>\n",
       "      <td>1.000000</td>\n",
       "      <td>3.0</td>\n",
       "    </tr>\n",
       "  </tbody>\n",
       "</table>\n",
       "</div>"
      ],
      "text/plain": [
       "                                          hypothesis  reach  impact  \\\n",
       "7  Добавить форму подписки на все основные страни...     10       7   \n",
       "2  Добавить блоки рекомендаций товаров на сайт ин...      8       3   \n",
       "0  Добавить два новых канала привлечения трафика,...      3      10   \n",
       "6  Показать на главной странице баннеры с актуаль...      5       3   \n",
       "8  Запустить акцию, дающую скидку на товар в день...      1       9   \n",
       "3  Изменить структура категорий, что увеличит кон...      8       3   \n",
       "1  Запустить собственную службу доставки, что сок...      2       5   \n",
       "5  Добавить страницу отзывов клиентов о магазине,...      3       2   \n",
       "4  Изменить цвет фона главной страницы, чтобы уве...      3       1   \n",
       "\n",
       "   confidence  efforts        ice   rice  \n",
       "7           8        5  11.200000  112.0  \n",
       "2           7        3   7.000000   56.0  \n",
       "0           8        6  13.333333   40.0  \n",
       "6           8        3   8.000000   40.0  \n",
       "8           9        5  16.200000   16.2  \n",
       "3           3        8   1.125000    9.0  \n",
       "1           4       10   2.000000    4.0  \n",
       "5           2        3   1.333333    4.0  \n",
       "4           1        1   1.000000    3.0  "
      ]
     },
     "metadata": {},
     "output_type": "display_data"
    }
   ],
   "source": [
    "# Приотритизурем по формуле ICE\n",
    "hypothesis['ice'] = hypothesis['impact'] * hypothesis['confidence'] / hypothesis['efforts']\n",
    "# Приоритизируем по формуле RICE\n",
    "hypothesis['rice'] = hypothesis['reach'] * hypothesis['impact'] * hypothesis['confidence'] / hypothesis['efforts']\n",
    "# Посмотрим результаты, осортировав значения столбцов ice и rice\n",
    "display(hypothesis.sort_values(by='ice', ascending=False))\n",
    "display(hypothesis.sort_values(by='rice', ascending=False))"
   ]
  },
  {
   "cell_type": "code",
   "execution_count": 5,
   "metadata": {},
   "outputs": [
    {
     "data": {
      "text/plain": [
       "array(['Добавить два новых канала привлечения трафика, что позволит привлекать на 30% больше пользователей',\n",
       "       'Запустить собственную службу доставки, что сократит срок доставки заказов',\n",
       "       'Добавить блоки рекомендаций товаров на сайт интернет магазина, чтобы повысить конверсию и средний чек заказа',\n",
       "       'Изменить структура категорий, что увеличит конверсию, т.к. пользователи быстрее найдут нужный товар',\n",
       "       'Изменить цвет фона главной страницы, чтобы увеличить вовлеченность пользователей',\n",
       "       'Добавить страницу отзывов клиентов о магазине, что позволит увеличить количество заказов',\n",
       "       'Показать на главной странице баннеры с актуальными акциями и распродажами, чтобы увеличить конверсию',\n",
       "       'Добавить форму подписки на все основные страницы, чтобы собрать базу клиентов для email-рассылок',\n",
       "       'Запустить акцию, дающую скидку на товар в день рождения'],\n",
       "      dtype=object)"
      ]
     },
     "execution_count": 5,
     "metadata": {},
     "output_type": "execute_result"
    }
   ],
   "source": [
    "hypothesis['hypothesis'].unique()"
   ]
  },
  {
   "cell_type": "markdown",
   "metadata": {},
   "source": [
    "Оценка ICE распределила гипотезы следующим образом: 8, 0, 7, 6, 2. Для сравнения выберем пять гипотез с наивысшими оценками.\n",
    "Оценки RICE дают такой список по убыванию оценок: 7, 2, 0, 6, 8.\n",
    "\n",
    "Видим, что первая гипотеза по оценке ICE стала пятой по оценке RICE, а вторая с пятого места переместилась на второе. Причина изменения положения гипотез в рейтинге связана с использованием параметра reach в шаблоне RICE, который учитывает охват пользователей, которых затронут изменения."
   ]
  },
  {
   "cell_type": "markdown",
   "metadata": {},
   "source": [
    "## Анализ A/B-теста\n",
    "<a id = 'A/B'></a>"
   ]
  },
  {
   "cell_type": "markdown",
   "metadata": {},
   "source": [
    "Откроем датасеты и изучим данные"
   ]
  },
  {
   "cell_type": "code",
   "execution_count": 6,
   "metadata": {},
   "outputs": [
    {
     "name": "stdout",
     "output_type": "stream",
     "text": [
      "<class 'pandas.core.frame.DataFrame'>\n",
      "RangeIndex: 1197 entries, 0 to 1196\n",
      "Data columns (total 5 columns):\n",
      " #   Column         Non-Null Count  Dtype \n",
      "---  ------         --------------  ----- \n",
      " 0   transactionId  1197 non-null   int64 \n",
      " 1   visitorId      1197 non-null   int64 \n",
      " 2   date           1197 non-null   object\n",
      " 3   revenue        1197 non-null   int64 \n",
      " 4   group          1197 non-null   object\n",
      "dtypes: int64(3), object(2)\n",
      "memory usage: 46.9+ KB\n",
      "<class 'pandas.core.frame.DataFrame'>\n",
      "RangeIndex: 62 entries, 0 to 61\n",
      "Data columns (total 3 columns):\n",
      " #   Column    Non-Null Count  Dtype \n",
      "---  ------    --------------  ----- \n",
      " 0   date      62 non-null     object\n",
      " 1   group     62 non-null     object\n",
      " 2   visitors  62 non-null     int64 \n",
      "dtypes: int64(1), object(2)\n",
      "memory usage: 1.6+ KB\n"
     ]
    },
    {
     "data": {
      "text/html": [
       "<div>\n",
       "<style scoped>\n",
       "    .dataframe tbody tr th:only-of-type {\n",
       "        vertical-align: middle;\n",
       "    }\n",
       "\n",
       "    .dataframe tbody tr th {\n",
       "        vertical-align: top;\n",
       "    }\n",
       "\n",
       "    .dataframe thead th {\n",
       "        text-align: right;\n",
       "    }\n",
       "</style>\n",
       "<table border=\"1\" class=\"dataframe\">\n",
       "  <thead>\n",
       "    <tr style=\"text-align: right;\">\n",
       "      <th></th>\n",
       "      <th>transactionId</th>\n",
       "      <th>visitorId</th>\n",
       "      <th>date</th>\n",
       "      <th>revenue</th>\n",
       "      <th>group</th>\n",
       "    </tr>\n",
       "  </thead>\n",
       "  <tbody>\n",
       "    <tr>\n",
       "      <th>0</th>\n",
       "      <td>3667963787</td>\n",
       "      <td>3312258926</td>\n",
       "      <td>2019-08-15</td>\n",
       "      <td>1650</td>\n",
       "      <td>B</td>\n",
       "    </tr>\n",
       "    <tr>\n",
       "      <th>1</th>\n",
       "      <td>2804400009</td>\n",
       "      <td>3642806036</td>\n",
       "      <td>2019-08-15</td>\n",
       "      <td>730</td>\n",
       "      <td>B</td>\n",
       "    </tr>\n",
       "    <tr>\n",
       "      <th>2</th>\n",
       "      <td>2961555356</td>\n",
       "      <td>4069496402</td>\n",
       "      <td>2019-08-15</td>\n",
       "      <td>400</td>\n",
       "      <td>A</td>\n",
       "    </tr>\n",
       "    <tr>\n",
       "      <th>3</th>\n",
       "      <td>3797467345</td>\n",
       "      <td>1196621759</td>\n",
       "      <td>2019-08-15</td>\n",
       "      <td>9759</td>\n",
       "      <td>B</td>\n",
       "    </tr>\n",
       "    <tr>\n",
       "      <th>4</th>\n",
       "      <td>2282983706</td>\n",
       "      <td>2322279887</td>\n",
       "      <td>2019-08-15</td>\n",
       "      <td>2308</td>\n",
       "      <td>B</td>\n",
       "    </tr>\n",
       "    <tr>\n",
       "      <th>5</th>\n",
       "      <td>182168103</td>\n",
       "      <td>935554773</td>\n",
       "      <td>2019-08-15</td>\n",
       "      <td>2210</td>\n",
       "      <td>B</td>\n",
       "    </tr>\n",
       "    <tr>\n",
       "      <th>6</th>\n",
       "      <td>398296753</td>\n",
       "      <td>2900797465</td>\n",
       "      <td>2019-08-15</td>\n",
       "      <td>1860</td>\n",
       "      <td>B</td>\n",
       "    </tr>\n",
       "    <tr>\n",
       "      <th>7</th>\n",
       "      <td>2626614568</td>\n",
       "      <td>78758296</td>\n",
       "      <td>2019-08-15</td>\n",
       "      <td>1044</td>\n",
       "      <td>A</td>\n",
       "    </tr>\n",
       "    <tr>\n",
       "      <th>8</th>\n",
       "      <td>1576988021</td>\n",
       "      <td>295230930</td>\n",
       "      <td>2019-08-15</td>\n",
       "      <td>13710</td>\n",
       "      <td>A</td>\n",
       "    </tr>\n",
       "    <tr>\n",
       "      <th>9</th>\n",
       "      <td>1506739906</td>\n",
       "      <td>1882260405</td>\n",
       "      <td>2019-08-15</td>\n",
       "      <td>1855</td>\n",
       "      <td>B</td>\n",
       "    </tr>\n",
       "  </tbody>\n",
       "</table>\n",
       "</div>"
      ],
      "text/plain": [
       "   transactionId   visitorId        date  revenue group\n",
       "0     3667963787  3312258926  2019-08-15     1650     B\n",
       "1     2804400009  3642806036  2019-08-15      730     B\n",
       "2     2961555356  4069496402  2019-08-15      400     A\n",
       "3     3797467345  1196621759  2019-08-15     9759     B\n",
       "4     2282983706  2322279887  2019-08-15     2308     B\n",
       "5      182168103   935554773  2019-08-15     2210     B\n",
       "6      398296753  2900797465  2019-08-15     1860     B\n",
       "7     2626614568    78758296  2019-08-15     1044     A\n",
       "8     1576988021   295230930  2019-08-15    13710     A\n",
       "9     1506739906  1882260405  2019-08-15     1855     B"
      ]
     },
     "metadata": {},
     "output_type": "display_data"
    },
    {
     "data": {
      "text/html": [
       "<div>\n",
       "<style scoped>\n",
       "    .dataframe tbody tr th:only-of-type {\n",
       "        vertical-align: middle;\n",
       "    }\n",
       "\n",
       "    .dataframe tbody tr th {\n",
       "        vertical-align: top;\n",
       "    }\n",
       "\n",
       "    .dataframe thead th {\n",
       "        text-align: right;\n",
       "    }\n",
       "</style>\n",
       "<table border=\"1\" class=\"dataframe\">\n",
       "  <thead>\n",
       "    <tr style=\"text-align: right;\">\n",
       "      <th></th>\n",
       "      <th>date</th>\n",
       "      <th>group</th>\n",
       "      <th>visitors</th>\n",
       "    </tr>\n",
       "  </thead>\n",
       "  <tbody>\n",
       "    <tr>\n",
       "      <th>0</th>\n",
       "      <td>2019-08-01</td>\n",
       "      <td>A</td>\n",
       "      <td>719</td>\n",
       "    </tr>\n",
       "    <tr>\n",
       "      <th>1</th>\n",
       "      <td>2019-08-02</td>\n",
       "      <td>A</td>\n",
       "      <td>619</td>\n",
       "    </tr>\n",
       "    <tr>\n",
       "      <th>2</th>\n",
       "      <td>2019-08-03</td>\n",
       "      <td>A</td>\n",
       "      <td>507</td>\n",
       "    </tr>\n",
       "    <tr>\n",
       "      <th>3</th>\n",
       "      <td>2019-08-04</td>\n",
       "      <td>A</td>\n",
       "      <td>717</td>\n",
       "    </tr>\n",
       "    <tr>\n",
       "      <th>4</th>\n",
       "      <td>2019-08-05</td>\n",
       "      <td>A</td>\n",
       "      <td>756</td>\n",
       "    </tr>\n",
       "    <tr>\n",
       "      <th>5</th>\n",
       "      <td>2019-08-06</td>\n",
       "      <td>A</td>\n",
       "      <td>667</td>\n",
       "    </tr>\n",
       "    <tr>\n",
       "      <th>6</th>\n",
       "      <td>2019-08-07</td>\n",
       "      <td>A</td>\n",
       "      <td>644</td>\n",
       "    </tr>\n",
       "    <tr>\n",
       "      <th>7</th>\n",
       "      <td>2019-08-08</td>\n",
       "      <td>A</td>\n",
       "      <td>610</td>\n",
       "    </tr>\n",
       "    <tr>\n",
       "      <th>8</th>\n",
       "      <td>2019-08-09</td>\n",
       "      <td>A</td>\n",
       "      <td>617</td>\n",
       "    </tr>\n",
       "    <tr>\n",
       "      <th>9</th>\n",
       "      <td>2019-08-10</td>\n",
       "      <td>A</td>\n",
       "      <td>406</td>\n",
       "    </tr>\n",
       "  </tbody>\n",
       "</table>\n",
       "</div>"
      ],
      "text/plain": [
       "         date group  visitors\n",
       "0  2019-08-01     A       719\n",
       "1  2019-08-02     A       619\n",
       "2  2019-08-03     A       507\n",
       "3  2019-08-04     A       717\n",
       "4  2019-08-05     A       756\n",
       "5  2019-08-06     A       667\n",
       "6  2019-08-07     A       644\n",
       "7  2019-08-08     A       610\n",
       "8  2019-08-09     A       617\n",
       "9  2019-08-10     A       406"
      ]
     },
     "metadata": {},
     "output_type": "display_data"
    }
   ],
   "source": [
    "orders = pd.read_csv('C://Users//1//Downloads//orders.csv')\n",
    "visitors = pd.read_csv('C://Users//1//Downloads//visitors.csv')\n",
    "orders.info()\n",
    "visitors.info()\n",
    "display(orders.head(10))\n",
    "display(visitors.head(10))"
   ]
  },
  {
   "cell_type": "code",
   "execution_count": 7,
   "metadata": {},
   "outputs": [
    {
     "data": {
      "text/plain": [
       "0"
      ]
     },
     "execution_count": 7,
     "metadata": {},
     "output_type": "execute_result"
    }
   ],
   "source": [
    "# Проверим на дубликаты\n",
    "orders.duplicated().sum()\n",
    "visitors.duplicated().sum()"
   ]
  },
  {
   "cell_type": "markdown",
   "metadata": {},
   "source": [
    "Для работы с таблицами необходимо изменить тип данных столбца date"
   ]
  },
  {
   "cell_type": "code",
   "execution_count": 8,
   "metadata": {},
   "outputs": [
    {
     "name": "stdout",
     "output_type": "stream",
     "text": [
      "<class 'pandas.core.frame.DataFrame'>\n",
      "RangeIndex: 1197 entries, 0 to 1196\n",
      "Data columns (total 5 columns):\n",
      " #   Column         Non-Null Count  Dtype         \n",
      "---  ------         --------------  -----         \n",
      " 0   transactionId  1197 non-null   int64         \n",
      " 1   visitorId      1197 non-null   int64         \n",
      " 2   date           1197 non-null   datetime64[ns]\n",
      " 3   revenue        1197 non-null   int64         \n",
      " 4   group          1197 non-null   object        \n",
      "dtypes: datetime64[ns](1), int64(3), object(1)\n",
      "memory usage: 46.9+ KB\n",
      "<class 'pandas.core.frame.DataFrame'>\n",
      "RangeIndex: 62 entries, 0 to 61\n",
      "Data columns (total 3 columns):\n",
      " #   Column    Non-Null Count  Dtype         \n",
      "---  ------    --------------  -----         \n",
      " 0   date      62 non-null     datetime64[ns]\n",
      " 1   group     62 non-null     object        \n",
      " 2   visitors  62 non-null     int64         \n",
      "dtypes: datetime64[ns](1), int64(1), object(1)\n",
      "memory usage: 1.6+ KB\n"
     ]
    }
   ],
   "source": [
    "orders['date'] = pd.to_datetime(orders['date'])\n",
    "visitors['date'] = pd.to_datetime(visitors['date'])\n",
    "orders.info()\n",
    "visitors.info()"
   ]
  },
  {
   "cell_type": "markdown",
   "metadata": {},
   "source": [
    "Проверим нет ли пересечения пользователей в тестовых группах."
   ]
  },
  {
   "cell_type": "code",
   "execution_count": 9,
   "metadata": {},
   "outputs": [],
   "source": [
    "df1 = orders.query('group == \"A\"')"
   ]
  },
  {
   "cell_type": "code",
   "execution_count": 10,
   "metadata": {},
   "outputs": [],
   "source": [
    "df2 = orders.query('group == \"B\"')"
   ]
  },
  {
   "cell_type": "code",
   "execution_count": 11,
   "metadata": {},
   "outputs": [],
   "source": [
    "repeats = df1.merge(df2, on = 'visitorId', how = 'inner')['visitorId']"
   ]
  },
  {
   "cell_type": "code",
   "execution_count": 12,
   "metadata": {},
   "outputs": [],
   "source": [
    "orders = orders.query('visitorId not in @repeats')"
   ]
  },
  {
   "cell_type": "code",
   "execution_count": 13,
   "metadata": {},
   "outputs": [
    {
     "data": {
      "text/html": [
       "<div>\n",
       "<style scoped>\n",
       "    .dataframe tbody tr th:only-of-type {\n",
       "        vertical-align: middle;\n",
       "    }\n",
       "\n",
       "    .dataframe tbody tr th {\n",
       "        vertical-align: top;\n",
       "    }\n",
       "\n",
       "    .dataframe thead th {\n",
       "        text-align: right;\n",
       "    }\n",
       "</style>\n",
       "<table border=\"1\" class=\"dataframe\">\n",
       "  <thead>\n",
       "    <tr style=\"text-align: right;\">\n",
       "      <th></th>\n",
       "      <th>transactionId</th>\n",
       "      <th>visitorId</th>\n",
       "      <th>date</th>\n",
       "      <th>revenue</th>\n",
       "      <th>group</th>\n",
       "    </tr>\n",
       "  </thead>\n",
       "  <tbody>\n",
       "    <tr>\n",
       "      <th>0</th>\n",
       "      <td>3667963787</td>\n",
       "      <td>3312258926</td>\n",
       "      <td>2019-08-15</td>\n",
       "      <td>1650</td>\n",
       "      <td>B</td>\n",
       "    </tr>\n",
       "    <tr>\n",
       "      <th>1</th>\n",
       "      <td>2804400009</td>\n",
       "      <td>3642806036</td>\n",
       "      <td>2019-08-15</td>\n",
       "      <td>730</td>\n",
       "      <td>B</td>\n",
       "    </tr>\n",
       "    <tr>\n",
       "      <th>3</th>\n",
       "      <td>3797467345</td>\n",
       "      <td>1196621759</td>\n",
       "      <td>2019-08-15</td>\n",
       "      <td>9759</td>\n",
       "      <td>B</td>\n",
       "    </tr>\n",
       "    <tr>\n",
       "      <th>4</th>\n",
       "      <td>2282983706</td>\n",
       "      <td>2322279887</td>\n",
       "      <td>2019-08-15</td>\n",
       "      <td>2308</td>\n",
       "      <td>B</td>\n",
       "    </tr>\n",
       "    <tr>\n",
       "      <th>5</th>\n",
       "      <td>182168103</td>\n",
       "      <td>935554773</td>\n",
       "      <td>2019-08-15</td>\n",
       "      <td>2210</td>\n",
       "      <td>B</td>\n",
       "    </tr>\n",
       "    <tr>\n",
       "      <th>...</th>\n",
       "      <td>...</td>\n",
       "      <td>...</td>\n",
       "      <td>...</td>\n",
       "      <td>...</td>\n",
       "      <td>...</td>\n",
       "    </tr>\n",
       "    <tr>\n",
       "      <th>1191</th>\n",
       "      <td>3592955527</td>\n",
       "      <td>608641596</td>\n",
       "      <td>2019-08-14</td>\n",
       "      <td>16490</td>\n",
       "      <td>B</td>\n",
       "    </tr>\n",
       "    <tr>\n",
       "      <th>1192</th>\n",
       "      <td>2662137336</td>\n",
       "      <td>3733762160</td>\n",
       "      <td>2019-08-14</td>\n",
       "      <td>6490</td>\n",
       "      <td>B</td>\n",
       "    </tr>\n",
       "    <tr>\n",
       "      <th>1193</th>\n",
       "      <td>2203539145</td>\n",
       "      <td>370388673</td>\n",
       "      <td>2019-08-14</td>\n",
       "      <td>3190</td>\n",
       "      <td>A</td>\n",
       "    </tr>\n",
       "    <tr>\n",
       "      <th>1194</th>\n",
       "      <td>1807773912</td>\n",
       "      <td>573423106</td>\n",
       "      <td>2019-08-14</td>\n",
       "      <td>10550</td>\n",
       "      <td>A</td>\n",
       "    </tr>\n",
       "    <tr>\n",
       "      <th>1196</th>\n",
       "      <td>3936777065</td>\n",
       "      <td>2108080724</td>\n",
       "      <td>2019-08-15</td>\n",
       "      <td>202740</td>\n",
       "      <td>B</td>\n",
       "    </tr>\n",
       "  </tbody>\n",
       "</table>\n",
       "<p>1016 rows × 5 columns</p>\n",
       "</div>"
      ],
      "text/plain": [
       "      transactionId   visitorId       date  revenue group\n",
       "0        3667963787  3312258926 2019-08-15     1650     B\n",
       "1        2804400009  3642806036 2019-08-15      730     B\n",
       "3        3797467345  1196621759 2019-08-15     9759     B\n",
       "4        2282983706  2322279887 2019-08-15     2308     B\n",
       "5         182168103   935554773 2019-08-15     2210     B\n",
       "...             ...         ...        ...      ...   ...\n",
       "1191     3592955527   608641596 2019-08-14    16490     B\n",
       "1192     2662137336  3733762160 2019-08-14     6490     B\n",
       "1193     2203539145   370388673 2019-08-14     3190     A\n",
       "1194     1807773912   573423106 2019-08-14    10550     A\n",
       "1196     3936777065  2108080724 2019-08-15   202740     B\n",
       "\n",
       "[1016 rows x 5 columns]"
      ]
     },
     "execution_count": 13,
     "metadata": {},
     "output_type": "execute_result"
    }
   ],
   "source": [
    "orders"
   ]
  },
  {
   "cell_type": "code",
   "execution_count": 14,
   "metadata": {},
   "outputs": [
    {
     "data": {
      "text/plain": [
       "183"
      ]
     },
     "execution_count": 14,
     "metadata": {},
     "output_type": "execute_result"
    }
   ],
   "source": [
    "len(repeats)"
   ]
  },
  {
   "cell_type": "markdown",
   "metadata": {},
   "source": [
    "183 участников теста попали одновременно в две группы."
   ]
  },
  {
   "cell_type": "markdown",
   "metadata": {},
   "source": [
    "### Расчет кумулятивных показателей\n",
    "<a id = 'cumulativemetrics'></a>"
   ]
  },
  {
   "cell_type": "code",
   "execution_count": 15,
   "metadata": {},
   "outputs": [
    {
     "data": {
      "text/html": [
       "<div>\n",
       "<style scoped>\n",
       "    .dataframe tbody tr th:only-of-type {\n",
       "        vertical-align: middle;\n",
       "    }\n",
       "\n",
       "    .dataframe tbody tr th {\n",
       "        vertical-align: top;\n",
       "    }\n",
       "\n",
       "    .dataframe thead th {\n",
       "        text-align: right;\n",
       "    }\n",
       "</style>\n",
       "<table border=\"1\" class=\"dataframe\">\n",
       "  <thead>\n",
       "    <tr style=\"text-align: right;\">\n",
       "      <th></th>\n",
       "      <th>date</th>\n",
       "      <th>group</th>\n",
       "    </tr>\n",
       "  </thead>\n",
       "  <tbody>\n",
       "    <tr>\n",
       "      <th>0</th>\n",
       "      <td>2019-08-15</td>\n",
       "      <td>B</td>\n",
       "    </tr>\n",
       "    <tr>\n",
       "      <th>7</th>\n",
       "      <td>2019-08-15</td>\n",
       "      <td>A</td>\n",
       "    </tr>\n",
       "    <tr>\n",
       "      <th>45</th>\n",
       "      <td>2019-08-16</td>\n",
       "      <td>A</td>\n",
       "    </tr>\n",
       "    <tr>\n",
       "      <th>47</th>\n",
       "      <td>2019-08-16</td>\n",
       "      <td>B</td>\n",
       "    </tr>\n",
       "    <tr>\n",
       "      <th>55</th>\n",
       "      <td>2019-08-01</td>\n",
       "      <td>A</td>\n",
       "    </tr>\n",
       "  </tbody>\n",
       "</table>\n",
       "</div>"
      ],
      "text/plain": [
       "         date group\n",
       "0  2019-08-15     B\n",
       "7  2019-08-15     A\n",
       "45 2019-08-16     A\n",
       "47 2019-08-16     B\n",
       "55 2019-08-01     A"
      ]
     },
     "metadata": {},
     "output_type": "display_data"
    }
   ],
   "source": [
    "#Получим датафрейм с уникальными парами даты и группы теста\n",
    "datesGroups = orders[['date','group']].drop_duplicates()\n",
    "display(datesGroups.head())"
   ]
  },
  {
   "cell_type": "code",
   "execution_count": 16,
   "metadata": {},
   "outputs": [
    {
     "data": {
      "text/html": [
       "<div>\n",
       "<style scoped>\n",
       "    .dataframe tbody tr th:only-of-type {\n",
       "        vertical-align: middle;\n",
       "    }\n",
       "\n",
       "    .dataframe tbody tr th {\n",
       "        vertical-align: top;\n",
       "    }\n",
       "\n",
       "    .dataframe thead th {\n",
       "        text-align: right;\n",
       "    }\n",
       "</style>\n",
       "<table border=\"1\" class=\"dataframe\">\n",
       "  <thead>\n",
       "    <tr style=\"text-align: right;\">\n",
       "      <th></th>\n",
       "      <th>date</th>\n",
       "      <th>group</th>\n",
       "      <th>transactionId</th>\n",
       "      <th>visitorId</th>\n",
       "      <th>revenue</th>\n",
       "    </tr>\n",
       "  </thead>\n",
       "  <tbody>\n",
       "    <tr>\n",
       "      <th>55</th>\n",
       "      <td>2019-08-01</td>\n",
       "      <td>A</td>\n",
       "      <td>23</td>\n",
       "      <td>19</td>\n",
       "      <td>142779</td>\n",
       "    </tr>\n",
       "    <tr>\n",
       "      <th>66</th>\n",
       "      <td>2019-08-01</td>\n",
       "      <td>B</td>\n",
       "      <td>17</td>\n",
       "      <td>17</td>\n",
       "      <td>59758</td>\n",
       "    </tr>\n",
       "    <tr>\n",
       "      <th>175</th>\n",
       "      <td>2019-08-02</td>\n",
       "      <td>A</td>\n",
       "      <td>42</td>\n",
       "      <td>36</td>\n",
       "      <td>234381</td>\n",
       "    </tr>\n",
       "    <tr>\n",
       "      <th>173</th>\n",
       "      <td>2019-08-02</td>\n",
       "      <td>B</td>\n",
       "      <td>40</td>\n",
       "      <td>39</td>\n",
       "      <td>221801</td>\n",
       "    </tr>\n",
       "    <tr>\n",
       "      <th>291</th>\n",
       "      <td>2019-08-03</td>\n",
       "      <td>A</td>\n",
       "      <td>66</td>\n",
       "      <td>60</td>\n",
       "      <td>346854</td>\n",
       "    </tr>\n",
       "  </tbody>\n",
       "</table>\n",
       "</div>"
      ],
      "text/plain": [
       "          date group  transactionId  visitorId  revenue\n",
       "55  2019-08-01     A             23         19   142779\n",
       "66  2019-08-01     B             17         17    59758\n",
       "175 2019-08-02     A             42         36   234381\n",
       "173 2019-08-02     B             40         39   221801\n",
       "291 2019-08-03     A             66         60   346854"
      ]
     },
     "metadata": {},
     "output_type": "display_data"
    }
   ],
   "source": [
    "#Получаем строки из таблицы с заказами, с датами меньше или равными датам из datesGroups и группами равными группам\n",
    "#из datesGroupes. Агрегируем значения колонок date, group, transactionId, visitorId, revenue.\n",
    "ordersAggregated = datesGroups.apply(lambda x: orders[np.logical_and(orders['date'] <= x['date']\n",
    "                                                                     , orders['group'] == x['group'])]\n",
    "                                     .agg({'date' : 'max', \n",
    "                                           'group' : 'max', \n",
    "                                           'transactionId' : 'nunique', \n",
    "                                           'visitorId' : 'nunique', \n",
    "                                           'revenue' : 'sum'}), axis=1).sort_values(by=['date','group'])\n",
    "display(ordersAggregated.head())"
   ]
  },
  {
   "cell_type": "code",
   "execution_count": 17,
   "metadata": {},
   "outputs": [
    {
     "data": {
      "text/html": [
       "<div>\n",
       "<style scoped>\n",
       "    .dataframe tbody tr th:only-of-type {\n",
       "        vertical-align: middle;\n",
       "    }\n",
       "\n",
       "    .dataframe tbody tr th {\n",
       "        vertical-align: top;\n",
       "    }\n",
       "\n",
       "    .dataframe thead th {\n",
       "        text-align: right;\n",
       "    }\n",
       "</style>\n",
       "<table border=\"1\" class=\"dataframe\">\n",
       "  <thead>\n",
       "    <tr style=\"text-align: right;\">\n",
       "      <th></th>\n",
       "      <th>date</th>\n",
       "      <th>group</th>\n",
       "      <th>visitors</th>\n",
       "    </tr>\n",
       "  </thead>\n",
       "  <tbody>\n",
       "    <tr>\n",
       "      <th>55</th>\n",
       "      <td>2019-08-01</td>\n",
       "      <td>A</td>\n",
       "      <td>719</td>\n",
       "    </tr>\n",
       "    <tr>\n",
       "      <th>66</th>\n",
       "      <td>2019-08-01</td>\n",
       "      <td>B</td>\n",
       "      <td>713</td>\n",
       "    </tr>\n",
       "    <tr>\n",
       "      <th>175</th>\n",
       "      <td>2019-08-02</td>\n",
       "      <td>A</td>\n",
       "      <td>1338</td>\n",
       "    </tr>\n",
       "    <tr>\n",
       "      <th>173</th>\n",
       "      <td>2019-08-02</td>\n",
       "      <td>B</td>\n",
       "      <td>1294</td>\n",
       "    </tr>\n",
       "    <tr>\n",
       "      <th>291</th>\n",
       "      <td>2019-08-03</td>\n",
       "      <td>A</td>\n",
       "      <td>1845</td>\n",
       "    </tr>\n",
       "  </tbody>\n",
       "</table>\n",
       "</div>"
      ],
      "text/plain": [
       "          date group  visitors\n",
       "55  2019-08-01     A       719\n",
       "66  2019-08-01     B       713\n",
       "175 2019-08-02     A      1338\n",
       "173 2019-08-02     B      1294\n",
       "291 2019-08-03     A      1845"
      ]
     },
     "metadata": {},
     "output_type": "display_data"
    }
   ],
   "source": [
    "#Получим аналогичную таблицу для покупателей\n",
    "visitorsAggregated = datesGroups.apply(lambda x: visitors[np.logical_and(visitors['date'] <= x['date'], \n",
    "                                                                       visitors['group'] == x['group'])]\n",
    "                                      .agg({'date':'max',\n",
    "                                            'group':'max',\n",
    "                                            'visitors':'sum'\n",
    "                                           }),axis=1).sort_values(by=['date','group'])\n",
    "display(visitorsAggregated.head())"
   ]
  },
  {
   "cell_type": "code",
   "execution_count": 18,
   "metadata": {},
   "outputs": [
    {
     "data": {
      "text/html": [
       "<div>\n",
       "<style scoped>\n",
       "    .dataframe tbody tr th:only-of-type {\n",
       "        vertical-align: middle;\n",
       "    }\n",
       "\n",
       "    .dataframe tbody tr th {\n",
       "        vertical-align: top;\n",
       "    }\n",
       "\n",
       "    .dataframe thead th {\n",
       "        text-align: right;\n",
       "    }\n",
       "</style>\n",
       "<table border=\"1\" class=\"dataframe\">\n",
       "  <thead>\n",
       "    <tr style=\"text-align: right;\">\n",
       "      <th></th>\n",
       "      <th>date</th>\n",
       "      <th>group</th>\n",
       "      <th>transactionId</th>\n",
       "      <th>visitorId</th>\n",
       "      <th>revenue</th>\n",
       "      <th>visitors</th>\n",
       "    </tr>\n",
       "  </thead>\n",
       "  <tbody>\n",
       "    <tr>\n",
       "      <th>0</th>\n",
       "      <td>2019-08-01</td>\n",
       "      <td>A</td>\n",
       "      <td>23</td>\n",
       "      <td>19</td>\n",
       "      <td>142779</td>\n",
       "      <td>719</td>\n",
       "    </tr>\n",
       "    <tr>\n",
       "      <th>1</th>\n",
       "      <td>2019-08-01</td>\n",
       "      <td>B</td>\n",
       "      <td>17</td>\n",
       "      <td>17</td>\n",
       "      <td>59758</td>\n",
       "      <td>713</td>\n",
       "    </tr>\n",
       "    <tr>\n",
       "      <th>2</th>\n",
       "      <td>2019-08-02</td>\n",
       "      <td>A</td>\n",
       "      <td>42</td>\n",
       "      <td>36</td>\n",
       "      <td>234381</td>\n",
       "      <td>1338</td>\n",
       "    </tr>\n",
       "    <tr>\n",
       "      <th>3</th>\n",
       "      <td>2019-08-02</td>\n",
       "      <td>B</td>\n",
       "      <td>40</td>\n",
       "      <td>39</td>\n",
       "      <td>221801</td>\n",
       "      <td>1294</td>\n",
       "    </tr>\n",
       "    <tr>\n",
       "      <th>4</th>\n",
       "      <td>2019-08-03</td>\n",
       "      <td>A</td>\n",
       "      <td>66</td>\n",
       "      <td>60</td>\n",
       "      <td>346854</td>\n",
       "      <td>1845</td>\n",
       "    </tr>\n",
       "  </tbody>\n",
       "</table>\n",
       "</div>"
      ],
      "text/plain": [
       "        date group  transactionId  visitorId  revenue  visitors\n",
       "0 2019-08-01     A             23         19   142779       719\n",
       "1 2019-08-01     B             17         17    59758       713\n",
       "2 2019-08-02     A             42         36   234381      1338\n",
       "3 2019-08-02     B             40         39   221801      1294\n",
       "4 2019-08-03     A             66         60   346854      1845"
      ]
     },
     "metadata": {},
     "output_type": "display_data"
    }
   ],
   "source": [
    "#Объединим кумулятивные данные в одну таблицу\n",
    "cumulativeData = ordersAggregated.merge(visitorsAggregated, on=['date','group'])\n",
    "display(cumulativeData.head())\n",
    "#Изменим имена столбцов\n",
    "cumulativeData.columns = ['date', 'group', 'transactions', 'buyers', 'revenue', 'visitors']"
   ]
  },
  {
   "cell_type": "markdown",
   "metadata": {},
   "source": [
    "Построим графики кумулятивной выручки по дням тестирования"
   ]
  },
  {
   "cell_type": "code",
   "execution_count": 19,
   "metadata": {},
   "outputs": [
    {
     "data": {
      "image/png": "[encoded data removed]",
      "text/plain": [
       "<Figure size 432x288 with 1 Axes>"
      ]
     },
     "metadata": {
      "needs_background": "light"
     },
     "output_type": "display_data"
    }
   ],
   "source": [
    "# датафрейм с кумулятивным количеством заказов и кумулятивной выручкой по дням в группе А\n",
    "cumulativeRevenueA = cumulativeData[cumulativeData['group']=='A'][['date','revenue', 'transactions']]\n",
    "\n",
    "# датафрейм с кумулятивным количеством заказов и кумулятивной выручкой по дням в группе B\n",
    "cumulativeRevenueB = cumulativeData[cumulativeData['group']=='B'][['date','revenue', 'transactions']]\n",
    "\n",
    "# Строим график выручки группы А\n",
    "plt.plot(cumulativeRevenueA['date'], cumulativeRevenueA['revenue'], label='A', color = 'aquamarine', linewidth = 3)\n",
    "\n",
    "# Строим график выручки группы B\n",
    "plt.plot(cumulativeRevenueB['date'], cumulativeRevenueB['revenue'], label='B', color = 'violet', linewidth = 3)\n",
    "\n",
    "plt.xlabel('Дата')\n",
    "plt.ylabel('Выручка')\n",
    "plt.title('Кумулятивная выручка')\n",
    "plt.rcParams[\"figure.figsize\"] = (10,10)\n",
    "plt.tick_params(direction = 'inout')\n",
    "plt.grid(color='black', alpha = 0.3, axis = 'y', linestyle = '-')\n",
    "\n",
    "sns.despine()\n",
    "plt.legend()\n",
    "plt.show()"
   ]
  },
  {
   "cell_type": "markdown",
   "metadata": {},
   "source": [
    "Выручка увеличивается в течение всего периода проведения теста. Выручка для группы B всегда больше, чем выручка группы A. \n",
    "\n",
    "На графике выручки для группы B заметен резкий подъем, который может быть связан с аномально крупными заказами, либо с резким увеличением числа заказов."
   ]
  },
  {
   "cell_type": "markdown",
   "metadata": {},
   "source": [
    "Построим график кумулятивного среднего чека по группам"
   ]
  },
  {
   "cell_type": "code",
   "execution_count": 20,
   "metadata": {},
   "outputs": [
    {
     "data": {
      "image/png": "[encoded data removed]",
      "text/plain": [
       "<Figure size 720x720 with 1 Axes>"
      ]
     },
     "metadata": {
      "needs_background": "light"
     },
     "output_type": "display_data"
    }
   ],
   "source": [
    "plt.plot(cumulativeRevenueA['revenue'] / cumulativeRevenueA['transactions'], label='A', color = 'aquamarine', linewidth = 3)\n",
    "\n",
    "plt.plot(cumulativeRevenueB['revenue'] / cumulativeRevenueB['transactions'], label='B', color = 'violet', linewidth = 3)\n",
    "\n",
    "plt.xlabel('Дата')\n",
    "plt.ylabel('Выручка')\n",
    "plt.title('Кумулятивный средний чек')\n",
    "plt.rcParams[\"figure.figsize\"] = (10,10)\n",
    "plt.tick_params(direction = 'inout')\n",
    "plt.grid(color='black', alpha = 0.3, axis = 'y', linestyle = '-')\n",
    "\n",
    "sns.despine()\n",
    "plt.legend()\n",
    "plt.show()"
   ]
  },
  {
   "cell_type": "markdown",
   "metadata": {},
   "source": [
    "Для группы A средний чек продолжает расти к концу теста, а для группы B падать."
   ]
  },
  {
   "cell_type": "code",
   "execution_count": 21,
   "metadata": {},
   "outputs": [
    {
     "name": "stderr",
     "output_type": "stream",
     "text": [
      "No artists with labels found to put in legend.  Note that artists whose label start with an underscore are ignored when legend() is called with no argument.\n"
     ]
    },
    {
     "data": {
      "image/png": "[encoded data removed]",
      "text/plain": [
       "<Figure size 720x720 with 1 Axes>"
      ]
     },
     "metadata": {
      "needs_background": "light"
     },
     "output_type": "display_data"
    }
   ],
   "source": [
    "#Построим график относительного изменения кумулятивного среднего чека\n",
    "# объединяем таблицы с кумулятивными данными для групп\n",
    "mergedCumulativeRevenue = cumulativeRevenueA.merge(cumulativeRevenueB, left_on='date', right_on='date', how='left', suffixes=['A', 'B'])\n",
    "\n",
    "# cтроим кривую отношения средних чеков\n",
    "plt.plot(mergedCumulativeRevenue['date'], \n",
    "         (mergedCumulativeRevenue['revenueB']/mergedCumulativeRevenue['transactionsB'])\n",
    "         /(mergedCumulativeRevenue['revenueA']/mergedCumulativeRevenue['transactionsA'])-1, \n",
    "         color = 'blue', linewidth = 3)\n",
    "\n",
    "plt.xlabel('Дата')\n",
    "plt.ylabel('Выручка')\n",
    "plt.title('Относительное изменение кумулятивного среднего чека')\n",
    "plt.rcParams[\"figure.figsize\"] = (10,10)\n",
    "plt.tick_params(direction = 'inout')\n",
    "plt.grid(color='black', alpha = 0.3, axis = 'y', linestyle = '-')\n",
    "# добавляем ось X\n",
    "plt.axhline(y=0, color='black', linestyle='--') \n",
    "sns.despine()\n",
    "plt.legend()\n",
    "plt.show()"
   ]
  },
  {
   "cell_type": "markdown",
   "metadata": {},
   "source": [
    "На графике присутствуют точки, где соотношение между средними чеками резко изменяется. Необходимо проверить данные на аномальные значения."
   ]
  },
  {
   "cell_type": "markdown",
   "metadata": {},
   "source": [
    "Теперь построим график кумулятивной конверсии по группам"
   ]
  },
  {
   "cell_type": "code",
   "execution_count": 22,
   "metadata": {},
   "outputs": [
    {
     "data": {
      "image/png": "[encoded data removed]",
      "text/plain": [
       "<Figure size 720x720 with 1 Axes>"
      ]
     },
     "metadata": {
      "needs_background": "light"
     },
     "output_type": "display_data"
    }
   ],
   "source": [
    "# считаем кумулятивную конверсию\n",
    "cumulativeData['conversion'] = cumulativeData['transactions']/cumulativeData['visitors']\n",
    "\n",
    "# срез по группе A\n",
    "cumulativeDataA = cumulativeData[cumulativeData['group']=='A']\n",
    "\n",
    "# срез по группе B\n",
    "cumulativeDataB = cumulativeData[cumulativeData['group']=='B']\n",
    "\n",
    "# строим графики\n",
    "plt.plot(cumulativeDataA['date'], cumulativeDataA['conversion'], label='A', color = 'aquamarine', linewidth = 3)\n",
    "plt.plot(cumulativeDataB['date'], cumulativeDataB['conversion'], label='B', color = 'violet', linewidth = 3)\n",
    "\n",
    "plt.xlabel('Дата')\n",
    "plt.ylabel('Выручка')\n",
    "plt.title('Кумулятивная конверсия')\n",
    "plt.rcParams[\"figure.figsize\"] = (10,10)\n",
    "plt.tick_params(direction = 'inout')\n",
    "plt.grid(color='black', alpha = 0.3, axis = 'y', linestyle = '-')\n",
    "\n",
    "# задаем масштаб осей\n",
    "plt.axis([cumulativeData['date'].min(), cumulativeData['date'].max(), 0, 0.05]) \n",
    "\n",
    "sns.despine()\n",
    "plt.legend()\n",
    "plt.show()"
   ]
  },
  {
   "cell_type": "markdown",
   "metadata": {},
   "source": [
    "Кумулятивная конверсия группы B имеет стабильно более высокое значение, чем у группы A."
   ]
  },
  {
   "cell_type": "markdown",
   "metadata": {},
   "source": [
    "Построим график относительного изменения кумулятивных конверсий B и A"
   ]
  },
  {
   "cell_type": "code",
   "execution_count": 23,
   "metadata": {},
   "outputs": [
    {
     "name": "stderr",
     "output_type": "stream",
     "text": [
      "No artists with labels found to put in legend.  Note that artists whose label start with an underscore are ignored when legend() is called with no argument.\n"
     ]
    },
    {
     "data": {
      "image/png": "[encoded data removed]",
      "text/plain": [
       "<Figure size 720x720 with 1 Axes>"
      ]
     },
     "metadata": {
      "needs_background": "light"
     },
     "output_type": "display_data"
    }
   ],
   "source": [
    "#Объединяем таблицы с кумулятивной конверсией\n",
    "mergedCumulativeConversions = cumulativeDataA[['date','conversion']].merge(cumulativeDataB[['date','conversion']], left_on='date', right_on='date', how='left', suffixes=['A', 'B'])\n",
    "\n",
    "#Строим график относительного изменения кумулятивной конверсии\n",
    "\n",
    "plt.plot(mergedCumulativeConversions['date'], \n",
    "         mergedCumulativeConversions['conversionB']/mergedCumulativeConversions['conversionA']-1, \n",
    "         color = 'red', linewidth = 3)\n",
    "\n",
    "plt.xlabel('Дата')\n",
    "plt.ylabel('Выручка')\n",
    "plt.title('Относительный прирост конверсии группы B относительно группы A')\n",
    "plt.rcParams[\"figure.figsize\"] = (10,10)\n",
    "plt.tick_params(direction = 'inout')\n",
    "plt.grid(color='black', alpha = 0.3, axis = 'y', linestyle = '-')\n",
    "plt.axhline(y=0, color='black', linestyle='--')\n",
    "plt.axhline(y=0.15, color='grey', linestyle='--')\n",
    "plt.axis([cumulativeData['date'].min(), cumulativeData['date'].max(), -0.2, 0.3]) \n",
    "sns.despine()\n",
    "plt.legend()\n",
    "plt.show()"
   ]
  },
  {
   "cell_type": "markdown",
   "metadata": {},
   "source": [
    "Конверсия группы B превышала конверсию группы A на протяжении практически всего теста, проигрывая в начале, но быстро превысив величину для группы A. На графике относительного прироста наблюдаются изменения наклона кривой, что говорит о том, что постоянное отношение конверсии в ходе теста не установилось. К концу теста конверсия группы B снова начинает увеличиваться отностительно конверсии группы A."
   ]
  },
  {
   "cell_type": "markdown",
   "metadata": {},
   "source": [
    "### Поиск и фильтрация аномальных значений\n",
    "<a id = 'seekanddestroy'></a>"
   ]
  },
  {
   "cell_type": "markdown",
   "metadata": {},
   "source": [
    "Построим точечный график количества заказов по пользователям"
   ]
  },
  {
   "cell_type": "code",
   "execution_count": 24,
   "metadata": {},
   "outputs": [],
   "source": [
    "#Сгруппируем таблицу orders по пользователям\n",
    "ordersByUsers = orders.groupby('visitorId', as_index=False).agg({'transactionId':'nunique'})"
   ]
  },
  {
   "cell_type": "code",
   "execution_count": 25,
   "metadata": {},
   "outputs": [
    {
     "data": {
      "image/png": "[encoded data removed]",
      "text/plain": [
       "<Figure size 720x720 with 1 Axes>"
      ]
     },
     "metadata": {
      "needs_background": "light"
     },
     "output_type": "display_data"
    }
   ],
   "source": [
    "#Построим график\n",
    "x_values = pd.Series(range(0,len(ordersByUsers)))\n",
    "plt.scatter(x_values, ordersByUsers['transactionId'], color = 'darkorange', alpha = .5)\n",
    "plt.xlabel('Номер пользователя')\n",
    "plt.ylabel('Количество заказов')\n",
    "plt.title('Количество заказов каждого пользователя')\n",
    "sns.despine()\n",
    "plt.tick_params(direction = 'inout')\n",
    "plt.show()"
   ]
  },
  {
   "cell_type": "markdown",
   "metadata": {},
   "source": [
    "Большинство пользователей совершают 1-3 заказа. Необходимо расчитать перцентили количества заказов на пользователя."
   ]
  },
  {
   "cell_type": "code",
   "execution_count": 26,
   "metadata": {},
   "outputs": [
    {
     "name": "stdout",
     "output_type": "stream",
     "text": [
      "[1. 1. 2.]\n"
     ]
    }
   ],
   "source": [
    "print(np.percentile(ordersByUsers['transactionId'], [90, 95, 99])) "
   ]
  },
  {
   "cell_type": "markdown",
   "metadata": {},
   "source": [
    "Не более 1 % пользователей совершали более 2 заказов. Выберем как параметр для фильтрации 99% перцентиль."
   ]
  },
  {
   "cell_type": "markdown",
   "metadata": {},
   "source": [
    "Построим точечный график стоимости заказов"
   ]
  },
  {
   "cell_type": "code",
   "execution_count": 27,
   "metadata": {},
   "outputs": [
    {
     "data": {
      "image/png": "[encoded data removed]",
      "text/plain": [
       "<Figure size 720x720 with 1 Axes>"
      ]
     },
     "metadata": {
      "needs_background": "light"
     },
     "output_type": "display_data"
    }
   ],
   "source": [
    "x_values = pd.Series(range(0,len(orders['revenue'])))\n",
    "\n",
    "plt.scatter(x_values, orders['revenue'], color = 'darkorange', alpha = .5)\n",
    "plt.xlabel('Номер пользователя')\n",
    "plt.ylabel('Стоимость заказов')\n",
    "plt.title('Стоимость заказов каждого пользователя')\n",
    "sns.despine()\n",
    "plt.tick_params(direction = 'inout')\n",
    "plt.show()"
   ]
  },
  {
   "cell_type": "markdown",
   "metadata": {},
   "source": [
    "Видно, что сильно отличаются величиной суммы оплаты два заказа.\n",
    "\n",
    "Рассчитаем перцентили стоимости заказов."
   ]
  },
  {
   "cell_type": "code",
   "execution_count": 28,
   "metadata": {},
   "outputs": [
    {
     "name": "stdout",
     "output_type": "stream",
     "text": [
      "[17990. 26785. 53904.]\n"
     ]
    }
   ],
   "source": [
    "print(np.percentile(orders['revenue'], [90, 95, 99])) "
   ]
  },
  {
   "cell_type": "markdown",
   "metadata": {},
   "source": [
    "Не более 1 % пользователей совершали заказ на сумму 53904 и выше. Выберем данный параметр в качестве границы."
   ]
  },
  {
   "cell_type": "markdown",
   "metadata": {},
   "source": [
    "### Проверка статистических гипотез\n",
    "<a id = 'statistics'></a>"
   ]
  },
  {
   "cell_type": "markdown",
   "metadata": {},
   "source": [
    "Нулевая гипотеза H0: разница между значениями в выборках статистически значима.\\\n",
    "Альтернативаня гипотеза H1: между выборками отсутствует статистически значимое различие."
   ]
  },
  {
   "cell_type": "code",
   "execution_count": 29,
   "metadata": {},
   "outputs": [],
   "source": [
    "#Создадим переменные ordersByUsersA и ordersByUsersB со столбцами ['userId', 'orders'] \n",
    "#для пользователей, которые хотя бы раз совершили заказ.\n",
    "ordersByUsersA = (\n",
    "    orders[orders['group'] == 'A']\n",
    "    .groupby('visitorId', as_index=False)\n",
    "    .agg({'transactionId': pd.Series.nunique})\n",
    ")\n",
    "ordersByUsersA.columns = ['visitorId', 'transaction']\n",
    "\n",
    "ordersByUsersB = (\n",
    "    orders[orders['group'] == 'B']\n",
    "    .groupby('visitorId', as_index=False)\n",
    "    .agg({'transactionId': pd.Series.nunique})\n",
    ")\n",
    "ordersByUsersB.columns = ['visitorId', 'transaction'] "
   ]
  },
  {
   "cell_type": "code",
   "execution_count": 30,
   "metadata": {},
   "outputs": [
    {
     "name": "stdout",
     "output_type": "stream",
     "text": [
      "0.010\n",
      "0.166\n"
     ]
    }
   ],
   "source": [
    "#Создаем переменные sampleA и sampleB с выборками пользователей из каждой группы с количеством их заказов.\n",
    "sampleA = pd.concat([ordersByUsersA['transaction'],pd.Series(0, index=np.arange(cumulativeDataA['visitors'].sum() - len(ordersByUsersA['transaction'])), name='transaction')],axis=0)\n",
    "\n",
    "sampleB = pd.concat([ordersByUsersB['transaction'],pd.Series(0, index=np.arange(cumulativeDataB['visitors'].sum() - len(ordersByUsersB['transaction'])), name='transaction')],axis=0)\n",
    "#Расчет статистической значимости по критерию Манна-Уитни\n",
    "print(\"{0:.3f}\".format(stats.mannwhitneyu(sampleA, sampleB)[1]))\n",
    "\n",
    "print(\"{0:.3f}\".format(sampleB.mean() / sampleA.mean() - 1))"
   ]
  },
  {
   "cell_type": "markdown",
   "metadata": {},
   "source": [
    "p-value 0.010 меньше, чем 0.05 значит между сырыми данными конверсии существуют статистически значимые различия."
   ]
  },
  {
   "cell_type": "markdown",
   "metadata": {},
   "source": [
    "Расчитаем статистическую значимость различий между сырыми данными для среднего чека."
   ]
  },
  {
   "cell_type": "code",
   "execution_count": 32,
   "metadata": {},
   "outputs": [
    {
     "name": "stdout",
     "output_type": "stream",
     "text": [
      "0.829\n",
      "0.287\n"
     ]
    }
   ],
   "source": [
    "print('{0:.3f}'.format(stats.mannwhitneyu(orders[orders['group']=='A']['revenue'], orders[orders['group']=='B']['revenue'])[1]))\n",
    "print('{0:.3f}'.format(orders[orders['group']=='B']['revenue'].mean()/orders[orders['group']=='A']['revenue'].mean()-1))"
   ]
  },
  {
   "cell_type": "markdown",
   "metadata": {},
   "source": [
    "p-value 0.829 - это значит что статистически значимых различий в выборках для среднего чека нету. А средний чек в группе B на 26 % выше, чем в A."
   ]
  },
  {
   "cell_type": "markdown",
   "metadata": {},
   "source": [
    "Проведем расчеты для очищенных данных."
   ]
  },
  {
   "cell_type": "code",
   "execution_count": 44,
   "metadata": {},
   "outputs": [
    {
     "name": "stdout",
     "output_type": "stream",
     "text": [
      "1099    148427295\n",
      "928     204675465\n",
      "33      249864742\n",
      "684     358944393\n",
      "648     382846391\n",
      "Name: visitorId, dtype: int64\n",
      "55\n"
     ]
    }
   ],
   "source": [
    "# Узнаем количество пользователей с аномально высоким числом заказов и высокой суммой заказа\n",
    "usersWithManyOrders = pd.concat(\n",
    "    [\n",
    "        ordersByUsersA[ordersByUsersA['transaction'] > 2]['visitorId'],\n",
    "        ordersByUsersB[ordersByUsersB['transaction'] > 2]['visitorId'],\n",
    "    ],\n",
    "    axis=0,\n",
    ")\n",
    "usersWithExpensiveOrders = orders[orders['revenue'] > 28000]['visitorId']\n",
    "abnormalUsers = (\n",
    "    pd.concat([usersWithManyOrders, usersWithExpensiveOrders], axis=0)\n",
    "    .drop_duplicates()\n",
    "    .sort_values()\n",
    ")\n",
    "print(abnormalUsers.head(5))\n",
    "print(abnormalUsers.shape[0]) "
   ]
  },
  {
   "cell_type": "markdown",
   "metadata": {},
   "source": [
    "Всего 55 пользователя с аномальными показателями."
   ]
  },
  {
   "cell_type": "code",
   "execution_count": 49,
   "metadata": {},
   "outputs": [],
   "source": [
    "#Отфильтруем данные\n",
    "sampleAFiltered = pd.concat(\n",
    "    [\n",
    "        ordersByUsersA[\n",
    "            np.logical_not(ordersByUsersA['visitorId'].isin(abnormalUsers))\n",
    "        ]['transaction'],\n",
    "        pd.Series(\n",
    "            0,\n",
    "            index=np.arange(\n",
    "               cumulativeDataA['visitors'].sum() - len(ordersByUsersA['transaction'])\n",
    "            ),\n",
    "            name='transaction',\n",
    "        ),\n",
    "    ],\n",
    "    axis=0,\n",
    ")\n",
    "\n",
    "sampleBFiltered = pd.concat(\n",
    "    [\n",
    "        ordersByUsersB[\n",
    "            np.logical_not(ordersByUsersB['visitorId'].isin(abnormalUsers))\n",
    "        ]['transaction'],\n",
    "        pd.Series(\n",
    "            0,\n",
    "            index=np.arange(\n",
    "                cumulativeDataB['visitors'].sum() - len(ordersByUsersB['transaction'])\n",
    "            ),\n",
    "            name='transaction',\n",
    "        ),\n",
    "    ],\n",
    "    axis=0,\n",
    ") "
   ]
  },
  {
   "cell_type": "code",
   "execution_count": 47,
   "metadata": {},
   "outputs": [
    {
     "name": "stdout",
     "output_type": "stream",
     "text": [
      "0.008\n",
      "0.194\n"
     ]
    }
   ],
   "source": [
    "print('{0:.3f}'.format(stats.mannwhitneyu(sampleAFiltered, sampleBFiltered)[1]))\n",
    "print('{0:.3f}'.format(sampleBFiltered.mean()/sampleAFiltered.mean()-1))"
   ]
  },
  {
   "cell_type": "markdown",
   "metadata": {},
   "source": [
    "p-value 0.008, значит после фильтрации аномальных значений существует статистически значимое различие между конверсией в группах. Исключение пользователей с аномальными показателями, не позволило устранить статистически значимую разницу."
   ]
  },
  {
   "cell_type": "markdown",
   "metadata": {},
   "source": [
    "Проведем аналогичный расчет для среднего чека."
   ]
  },
  {
   "cell_type": "code",
   "execution_count": 48,
   "metadata": {},
   "outputs": [
    {
     "name": "stdout",
     "output_type": "stream",
     "text": [
      "0.762\n",
      "-0.022\n"
     ]
    }
   ],
   "source": [
    "print(\n",
    "    '{0:.3f}'.format(\n",
    "        stats.mannwhitneyu(\n",
    "            orders[\n",
    "                np.logical_and(\n",
    "                    orders['group'] == 'A',\n",
    "                    np.logical_not(orders['visitorId'].isin(abnormalUsers)),\n",
    "                )\n",
    "            ]['revenue'],\n",
    "            orders[\n",
    "                np.logical_and(\n",
    "                    orders['group'] == 'B',\n",
    "                    np.logical_not(orders['visitorId'].isin(abnormalUsers)),\n",
    "                )\n",
    "            ]['revenue'],\n",
    "        )[1]\n",
    "    )\n",
    ")\n",
    "\n",
    "print(\n",
    "    \"{0:.3f}\".format(\n",
    "        orders[\n",
    "            np.logical_and(\n",
    "                orders['group'] == 'B',\n",
    "                np.logical_not(orders['visitorId'].isin(abnormalUsers)),\n",
    "            )\n",
    "        ]['revenue'].mean()\n",
    "        / orders[\n",
    "            np.logical_and(\n",
    "                orders['group'] == 'A',\n",
    "                np.logical_not(orders['visitorId'].isin(abnormalUsers)),\n",
    "            )\n",
    "        ]['revenue'].mean()\n",
    "        - 1\n",
    "    )\n",
    ") "
   ]
  },
  {
   "cell_type": "markdown",
   "metadata": {},
   "source": [
    "Получили близкую величину p-value. Но после исключения аномальных данных средний чек для B оказался ниже, чем для A."
   ]
  },
  {
   "cell_type": "markdown",
   "metadata": {},
   "source": [
    "## Вывод\n",
    "<a id = 'conclusion'></a>"
   ]
  },
  {
   "cell_type": "markdown",
   "metadata": {},
   "source": [
    "* Между конверсиями в группах A и B существует статистически значимое различие. Фильтрация аномальных значений не помогла его устранить.\n",
    "\n",
    "* Статистически значимое различие по среднему чеку между группами отсутствует. Как по «сырым» данным, так и по данным после фильтрации аномалий.\n",
    "\n",
    "* Для группы B наблюдается более высокая конверсия, в то же время как средний чек меньше, чем в группе А. Такое положение обнаружилось после исключения аномальных пользователей с высоким количеством заказов, а также заказов с очень высокой стоимостью. Эти аномалии были причиной высокого значения кумулятивной величины среднего чека для группы B. \n",
    "\n",
    "* Конверсия B на графике имеет тенденцию к росту, а A к снижению, в то время как разность в средних чеках стабилизировалась и составляет 2 %. По предоставленным данным отчетливо видно, что результаты группы B лучше, чем A. Тест необходимо остановить и принять результаты."
   ]
  },
  {
   "cell_type": "code",
   "execution_count": null,
   "metadata": {},
   "outputs": [],
   "source": []
  }
 ],
 "metadata": {
  "ExecuteTimeLog": [
   {
    "duration": 3,
    "start_time": "2022-04-28T04:49:02.776Z"
   },
   {
    "duration": 2,
    "start_time": "2022-04-28T04:49:28.184Z"
   },
   {
    "duration": 411,
    "start_time": "2022-04-28T04:51:14.052Z"
   },
   {
    "duration": 12,
    "start_time": "2022-04-28T04:51:41.648Z"
   },
   {
    "duration": 17,
    "start_time": "2022-04-28T04:52:13.932Z"
   },
   {
    "duration": 26,
    "start_time": "2022-04-28T04:52:40.100Z"
   },
   {
    "duration": 3,
    "start_time": "2022-04-28T04:59:00.965Z"
   },
   {
    "duration": 61,
    "start_time": "2022-04-28T04:59:12.566Z"
   },
   {
    "duration": 7,
    "start_time": "2022-04-28T04:59:26.604Z"
   },
   {
    "duration": 4,
    "start_time": "2022-04-28T04:59:38.768Z"
   },
   {
    "duration": 406,
    "start_time": "2022-04-28T04:59:57.820Z"
   },
   {
    "duration": 28,
    "start_time": "2022-04-28T04:59:58.228Z"
   },
   {
    "duration": 3,
    "start_time": "2022-04-28T04:59:58.257Z"
   },
   {
    "duration": 10,
    "start_time": "2022-04-28T04:59:58.262Z"
   },
   {
    "duration": 1841,
    "start_time": "2022-04-28T04:59:58.274Z"
   },
   {
    "duration": 6,
    "start_time": "2022-04-28T05:01:08.007Z"
   },
   {
    "duration": 6,
    "start_time": "2022-04-28T05:01:52.743Z"
   },
   {
    "duration": 12,
    "start_time": "2022-04-28T05:03:52.328Z"
   },
   {
    "duration": 19,
    "start_time": "2022-04-28T05:04:07.712Z"
   },
   {
    "duration": 3,
    "start_time": "2022-04-28T05:04:38.188Z"
   },
   {
    "duration": 9,
    "start_time": "2022-04-28T05:04:43.732Z"
   },
   {
    "duration": 4,
    "start_time": "2022-04-28T05:04:47.283Z"
   },
   {
    "duration": 3,
    "start_time": "2022-04-28T05:06:31.256Z"
   },
   {
    "duration": 4,
    "start_time": "2022-04-28T05:06:38.648Z"
   },
   {
    "duration": 4,
    "start_time": "2022-04-28T05:07:50.376Z"
   },
   {
    "duration": 1930,
    "start_time": "2022-04-28T05:08:16.896Z"
   },
   {
    "duration": 5,
    "start_time": "2022-04-28T05:08:29.960Z"
   },
   {
    "duration": 25,
    "start_time": "2022-04-28T05:10:00.716Z"
   },
   {
    "duration": 555,
    "start_time": "2022-04-28T05:10:04.274Z"
   },
   {
    "duration": 3,
    "start_time": "2022-04-28T05:10:08.520Z"
   },
   {
    "duration": 30,
    "start_time": "2022-04-28T05:10:30.052Z"
   },
   {
    "duration": 5,
    "start_time": "2022-04-28T05:10:44.256Z"
   },
   {
    "duration": 6,
    "start_time": "2022-04-28T05:10:44.584Z"
   },
   {
    "duration": 3,
    "start_time": "2022-04-28T05:12:21.688Z"
   },
   {
    "duration": 5,
    "start_time": "2022-04-28T05:12:22.056Z"
   },
   {
    "duration": 3,
    "start_time": "2022-04-28T05:12:28.088Z"
   },
   {
    "duration": 2,
    "start_time": "2022-04-28T05:12:35.440Z"
   },
   {
    "duration": 3,
    "start_time": "2022-04-28T05:12:45.648Z"
   },
   {
    "duration": 5,
    "start_time": "2022-04-28T05:12:48.272Z"
   },
   {
    "duration": 3,
    "start_time": "2022-04-28T05:12:51.688Z"
   },
   {
    "duration": 4,
    "start_time": "2022-04-28T05:12:52.152Z"
   },
   {
    "duration": 3,
    "start_time": "2022-04-28T05:13:00.952Z"
   },
   {
    "duration": 5,
    "start_time": "2022-04-28T05:13:01.416Z"
   },
   {
    "duration": 2,
    "start_time": "2022-04-28T05:13:06.792Z"
   },
   {
    "duration": 5,
    "start_time": "2022-04-28T05:13:07.368Z"
   },
   {
    "duration": 3,
    "start_time": "2022-04-28T05:13:11.127Z"
   },
   {
    "duration": 5,
    "start_time": "2022-04-28T05:13:11.384Z"
   },
   {
    "duration": 4,
    "start_time": "2022-04-28T05:13:24.976Z"
   },
   {
    "duration": 4,
    "start_time": "2022-04-28T05:13:28.560Z"
   },
   {
    "duration": 2,
    "start_time": "2022-04-28T05:40:35.337Z"
   },
   {
    "duration": 165,
    "start_time": "2022-04-28T05:45:09.725Z"
   },
   {
    "duration": 40,
    "start_time": "2022-04-28T05:46:08.077Z"
   },
   {
    "duration": 70,
    "start_time": "2022-04-28T05:46:58.731Z"
   },
   {
    "duration": 10,
    "start_time": "2022-04-28T05:48:18.869Z"
   },
   {
    "duration": 6,
    "start_time": "2022-04-28T05:48:22.417Z"
   },
   {
    "duration": 10,
    "start_time": "2022-04-28T05:49:36.573Z"
   },
   {
    "duration": 10,
    "start_time": "2022-04-28T05:52:15.421Z"
   },
   {
    "duration": 7,
    "start_time": "2022-04-28T05:52:20.558Z"
   },
   {
    "duration": 8,
    "start_time": "2022-04-28T05:52:24.401Z"
   },
   {
    "duration": 6,
    "start_time": "2022-04-28T05:52:28.553Z"
   },
   {
    "duration": 120,
    "start_time": "2022-04-28T05:53:15.881Z"
   },
   {
    "duration": 12,
    "start_time": "2022-04-28T05:53:53.773Z"
   },
   {
    "duration": 7,
    "start_time": "2022-04-28T05:55:59.032Z"
   },
   {
    "duration": 8,
    "start_time": "2022-04-28T05:56:39.117Z"
   },
   {
    "duration": 19,
    "start_time": "2022-04-28T05:56:52.424Z"
   },
   {
    "duration": 362,
    "start_time": "2022-04-28T06:00:03.705Z"
   },
   {
    "duration": 30,
    "start_time": "2022-04-28T06:00:04.069Z"
   },
   {
    "duration": 3,
    "start_time": "2022-04-28T06:00:04.101Z"
   },
   {
    "duration": 23,
    "start_time": "2022-04-28T06:00:04.106Z"
   },
   {
    "duration": 5,
    "start_time": "2022-04-28T06:00:04.148Z"
   },
   {
    "duration": 54,
    "start_time": "2022-04-28T06:00:04.155Z"
   },
   {
    "duration": 7,
    "start_time": "2022-04-28T06:00:04.210Z"
   },
   {
    "duration": 30,
    "start_time": "2022-04-28T06:00:04.219Z"
   },
   {
    "duration": 3,
    "start_time": "2022-04-28T06:04:57.559Z"
   },
   {
    "duration": 12,
    "start_time": "2022-04-28T06:15:28.484Z"
   },
   {
    "duration": 47,
    "start_time": "2022-04-28T06:15:36.399Z"
   },
   {
    "duration": 24,
    "start_time": "2022-04-28T06:16:48.027Z"
   },
   {
    "duration": 17,
    "start_time": "2022-04-28T06:18:16.869Z"
   },
   {
    "duration": 40,
    "start_time": "2022-04-28T06:19:08.317Z"
   },
   {
    "duration": 112,
    "start_time": "2022-04-28T06:20:21.091Z"
   },
   {
    "duration": 17,
    "start_time": "2022-04-28T06:20:28.592Z"
   },
   {
    "duration": 14,
    "start_time": "2022-04-28T06:20:37.115Z"
   },
   {
    "duration": 31,
    "start_time": "2022-04-28T06:20:58.351Z"
   },
   {
    "duration": 8,
    "start_time": "2022-04-28T06:21:37.265Z"
   },
   {
    "duration": 10,
    "start_time": "2022-04-28T06:21:43.139Z"
   },
   {
    "duration": 140,
    "start_time": "2022-04-28T06:22:41.746Z"
   },
   {
    "duration": 1512,
    "start_time": "2022-04-28T06:22:53.183Z"
   },
   {
    "duration": 168,
    "start_time": "2022-04-28T06:24:02.726Z"
   },
   {
    "duration": 18,
    "start_time": "2022-04-28T06:24:13.167Z"
   },
   {
    "duration": 47,
    "start_time": "2022-04-28T06:24:20.779Z"
   },
   {
    "duration": 21,
    "start_time": "2022-04-28T07:53:50.512Z"
   },
   {
    "duration": 515,
    "start_time": "2022-04-28T07:54:03.146Z"
   },
   {
    "duration": 28,
    "start_time": "2022-04-28T07:54:03.667Z"
   },
   {
    "duration": 4,
    "start_time": "2022-04-28T07:54:03.696Z"
   },
   {
    "duration": 22,
    "start_time": "2022-04-28T07:54:03.702Z"
   },
   {
    "duration": 26,
    "start_time": "2022-04-28T07:54:03.726Z"
   },
   {
    "duration": 77,
    "start_time": "2022-04-28T07:54:03.755Z"
   },
   {
    "duration": 7,
    "start_time": "2022-04-28T07:54:03.834Z"
   },
   {
    "duration": 21,
    "start_time": "2022-04-28T07:54:03.844Z"
   },
   {
    "duration": 14,
    "start_time": "2022-04-28T07:54:03.867Z"
   },
   {
    "duration": 103,
    "start_time": "2022-04-28T07:54:03.883Z"
   },
   {
    "duration": 1,
    "start_time": "2022-04-28T07:54:03.987Z"
   },
   {
    "duration": 194,
    "start_time": "2022-04-28T07:54:48.383Z"
   },
   {
    "duration": 10,
    "start_time": "2022-04-28T07:54:50.075Z"
   },
   {
    "duration": 13,
    "start_time": "2022-04-28T08:03:44.447Z"
   },
   {
    "duration": 19,
    "start_time": "2022-04-28T08:17:34.954Z"
   },
   {
    "duration": 106,
    "start_time": "2022-04-28T08:18:04.506Z"
   },
   {
    "duration": 11,
    "start_time": "2022-04-28T08:18:11.003Z"
   },
   {
    "duration": 10,
    "start_time": "2022-04-28T08:18:26.310Z"
   },
   {
    "duration": 9,
    "start_time": "2022-04-28T08:18:39.786Z"
   },
   {
    "duration": 10,
    "start_time": "2022-04-28T08:19:04.930Z"
   },
   {
    "duration": 126,
    "start_time": "2022-04-28T08:19:19.422Z"
   },
   {
    "duration": 9,
    "start_time": "2022-04-28T08:19:20.658Z"
   },
   {
    "duration": 13,
    "start_time": "2022-04-28T08:20:50.567Z"
   },
   {
    "duration": 6,
    "start_time": "2022-04-28T08:20:56.623Z"
   },
   {
    "duration": 13,
    "start_time": "2022-04-28T08:21:03.202Z"
   },
   {
    "duration": 3,
    "start_time": "2022-04-28T08:22:24.407Z"
   },
   {
    "duration": 3,
    "start_time": "2022-04-28T08:22:36.154Z"
   },
   {
    "duration": 8,
    "start_time": "2022-04-28T08:22:54.763Z"
   },
   {
    "duration": 249,
    "start_time": "2022-04-28T08:23:12.755Z"
   },
   {
    "duration": 173,
    "start_time": "2022-04-28T08:23:22.105Z"
   },
   {
    "duration": 17,
    "start_time": "2022-04-28T08:23:36.766Z"
   },
   {
    "duration": 485,
    "start_time": "2022-04-28T08:25:02.535Z"
   },
   {
    "duration": 227,
    "start_time": "2022-04-28T08:25:50.067Z"
   },
   {
    "duration": 114,
    "start_time": "2022-04-28T08:30:53.363Z"
   },
   {
    "duration": 2431,
    "start_time": "2022-04-28T08:32:09.291Z"
   },
   {
    "duration": 627,
    "start_time": "2022-04-28T08:33:30.664Z"
   },
   {
    "duration": 26,
    "start_time": "2022-04-28T08:33:31.293Z"
   },
   {
    "duration": 3,
    "start_time": "2022-04-28T08:33:31.320Z"
   },
   {
    "duration": 33,
    "start_time": "2022-04-28T08:33:31.325Z"
   },
   {
    "duration": 5,
    "start_time": "2022-04-28T08:33:31.360Z"
   },
   {
    "duration": 62,
    "start_time": "2022-04-28T08:33:31.366Z"
   },
   {
    "duration": 6,
    "start_time": "2022-04-28T08:33:31.429Z"
   },
   {
    "duration": 21,
    "start_time": "2022-04-28T08:33:31.437Z"
   },
   {
    "duration": 12,
    "start_time": "2022-04-28T08:33:31.460Z"
   },
   {
    "duration": 172,
    "start_time": "2022-04-28T08:33:31.475Z"
   },
   {
    "duration": 123,
    "start_time": "2022-04-28T08:33:31.649Z"
   },
   {
    "duration": 12,
    "start_time": "2022-04-28T08:33:31.773Z"
   },
   {
    "duration": 242,
    "start_time": "2022-04-28T08:33:31.786Z"
   },
   {
    "duration": 130,
    "start_time": "2022-04-28T08:33:32.029Z"
   },
   {
    "duration": 2554,
    "start_time": "2022-04-28T08:39:11.661Z"
   },
   {
    "duration": 283,
    "start_time": "2022-04-28T08:39:50.642Z"
   },
   {
    "duration": 166,
    "start_time": "2022-04-28T08:41:21.641Z"
   },
   {
    "duration": 236,
    "start_time": "2022-04-28T08:42:01.969Z"
   },
   {
    "duration": 230,
    "start_time": "2022-04-28T08:44:21.601Z"
   },
   {
    "duration": 141,
    "start_time": "2022-04-28T08:44:29.459Z"
   },
   {
    "duration": 162,
    "start_time": "2022-04-28T08:44:34.549Z"
   },
   {
    "duration": 165,
    "start_time": "2022-04-28T08:44:40.366Z"
   },
   {
    "duration": 183,
    "start_time": "2022-04-28T08:44:46.366Z"
   },
   {
    "duration": 1168,
    "start_time": "2022-04-28T08:47:19.210Z"
   },
   {
    "duration": 285,
    "start_time": "2022-04-28T08:50:31.806Z"
   },
   {
    "duration": 301,
    "start_time": "2022-04-28T08:51:06.126Z"
   },
   {
    "duration": 257,
    "start_time": "2022-04-28T08:52:08.755Z"
   },
   {
    "duration": 3,
    "start_time": "2022-04-28T09:00:40.958Z"
   },
   {
    "duration": 8,
    "start_time": "2022-04-28T09:04:27.070Z"
   },
   {
    "duration": 8,
    "start_time": "2022-04-28T09:05:16.574Z"
   },
   {
    "duration": 119,
    "start_time": "2022-04-28T09:05:23.930Z"
   },
   {
    "duration": 2152,
    "start_time": "2022-04-28T09:05:56.902Z"
   },
   {
    "duration": 113,
    "start_time": "2022-04-28T09:06:24.471Z"
   },
   {
    "duration": 642,
    "start_time": "2022-04-28T09:06:49.210Z"
   },
   {
    "duration": 31,
    "start_time": "2022-04-28T09:06:49.854Z"
   },
   {
    "duration": 3,
    "start_time": "2022-04-28T09:06:49.887Z"
   },
   {
    "duration": 22,
    "start_time": "2022-04-28T09:06:49.892Z"
   },
   {
    "duration": 5,
    "start_time": "2022-04-28T09:06:49.916Z"
   },
   {
    "duration": 56,
    "start_time": "2022-04-28T09:06:49.923Z"
   },
   {
    "duration": 8,
    "start_time": "2022-04-28T09:06:49.981Z"
   },
   {
    "duration": 31,
    "start_time": "2022-04-28T09:06:49.991Z"
   },
   {
    "duration": 30,
    "start_time": "2022-04-28T09:06:50.024Z"
   },
   {
    "duration": 168,
    "start_time": "2022-04-28T09:06:50.057Z"
   },
   {
    "duration": 122,
    "start_time": "2022-04-28T09:06:50.226Z"
   },
   {
    "duration": 12,
    "start_time": "2022-04-28T09:06:50.349Z"
   },
   {
    "duration": 234,
    "start_time": "2022-04-28T09:06:50.363Z"
   },
   {
    "duration": 129,
    "start_time": "2022-04-28T09:06:50.599Z"
   },
   {
    "duration": 275,
    "start_time": "2022-04-28T09:06:50.729Z"
   },
   {
    "duration": 211,
    "start_time": "2022-04-28T09:06:51.006Z"
   },
   {
    "duration": 312,
    "start_time": "2022-04-28T09:06:51.218Z"
   },
   {
    "duration": 131,
    "start_time": "2022-04-28T09:06:51.532Z"
   },
   {
    "duration": 5,
    "start_time": "2022-04-28T09:09:33.482Z"
   },
   {
    "duration": 7,
    "start_time": "2022-04-28T09:09:53.082Z"
   },
   {
    "duration": 96,
    "start_time": "2022-04-28T09:10:38.582Z"
   },
   {
    "duration": 4,
    "start_time": "2022-04-28T09:12:39.702Z"
   },
   {
    "duration": 125,
    "start_time": "2022-04-28T09:14:29.934Z"
   },
   {
    "duration": 172,
    "start_time": "2022-04-28T09:15:26.037Z"
   },
   {
    "duration": 5,
    "start_time": "2022-04-28T09:17:04.382Z"
   },
   {
    "duration": 126,
    "start_time": "2022-04-28T09:17:34.758Z"
   },
   {
    "duration": 2,
    "start_time": "2022-04-28T09:24:12.998Z"
   },
   {
    "duration": 188,
    "start_time": "2022-04-28T09:25:28.490Z"
   },
   {
    "duration": 1867,
    "start_time": "2022-04-28T09:28:42.546Z"
   },
   {
    "duration": 2003,
    "start_time": "2022-04-28T09:28:55.497Z"
   },
   {
    "duration": 132,
    "start_time": "2022-04-28T09:29:14.693Z"
   },
   {
    "duration": 10,
    "start_time": "2022-04-28T09:29:14.969Z"
   },
   {
    "duration": 11,
    "start_time": "2022-04-28T09:32:37.765Z"
   },
   {
    "duration": 16,
    "start_time": "2022-04-28T09:33:34.266Z"
   },
   {
    "duration": 11,
    "start_time": "2022-04-28T09:34:08.214Z"
   },
   {
    "duration": 21,
    "start_time": "2022-04-28T09:35:37.025Z"
   },
   {
    "duration": 5,
    "start_time": "2022-04-28T09:35:57.301Z"
   },
   {
    "duration": 23,
    "start_time": "2022-04-28T09:38:15.453Z"
   },
   {
    "duration": 496,
    "start_time": "2022-04-28T09:38:48.829Z"
   },
   {
    "duration": 646,
    "start_time": "2022-04-28T09:38:53.754Z"
   },
   {
    "duration": 11,
    "start_time": "2022-04-28T09:51:10.399Z"
   },
   {
    "duration": 211,
    "start_time": "2022-04-28T09:52:07.942Z"
   },
   {
    "duration": 135,
    "start_time": "2022-04-28T09:54:28.238Z"
   },
   {
    "duration": 2193,
    "start_time": "2022-04-28T09:56:32.498Z"
   },
   {
    "duration": 136,
    "start_time": "2022-04-28T09:57:02.635Z"
   },
   {
    "duration": 10,
    "start_time": "2022-04-28T09:57:07.207Z"
   },
   {
    "duration": 117,
    "start_time": "2022-04-28T09:57:45.461Z"
   },
   {
    "duration": 2133,
    "start_time": "2022-04-28T10:00:53.878Z"
   },
   {
    "duration": 15,
    "start_time": "2022-04-28T10:01:08.702Z"
   },
   {
    "duration": 347,
    "start_time": "2022-04-28T10:01:22.242Z"
   },
   {
    "duration": 15,
    "start_time": "2022-04-28T10:06:22.678Z"
   },
   {
    "duration": 110,
    "start_time": "2022-04-28T10:19:42.644Z"
   },
   {
    "duration": 1131,
    "start_time": "2022-04-28T10:20:06.247Z"
   },
   {
    "duration": 30,
    "start_time": "2022-04-28T10:20:07.380Z"
   },
   {
    "duration": 3,
    "start_time": "2022-04-28T10:20:07.411Z"
   },
   {
    "duration": 31,
    "start_time": "2022-04-28T10:20:07.416Z"
   },
   {
    "duration": 5,
    "start_time": "2022-04-28T10:20:07.449Z"
   },
   {
    "duration": 58,
    "start_time": "2022-04-28T10:20:07.455Z"
   },
   {
    "duration": 7,
    "start_time": "2022-04-28T10:20:07.515Z"
   },
   {
    "duration": 31,
    "start_time": "2022-04-28T10:20:07.524Z"
   },
   {
    "duration": 12,
    "start_time": "2022-04-28T10:20:07.557Z"
   },
   {
    "duration": 181,
    "start_time": "2022-04-28T10:20:07.574Z"
   },
   {
    "duration": 127,
    "start_time": "2022-04-28T10:20:07.756Z"
   },
   {
    "duration": 13,
    "start_time": "2022-04-28T10:20:07.885Z"
   },
   {
    "duration": 243,
    "start_time": "2022-04-28T10:20:07.899Z"
   },
   {
    "duration": 129,
    "start_time": "2022-04-28T10:20:08.147Z"
   },
   {
    "duration": 252,
    "start_time": "2022-04-28T10:20:08.278Z"
   },
   {
    "duration": 156,
    "start_time": "2022-04-28T10:20:08.532Z"
   },
   {
    "duration": 250,
    "start_time": "2022-04-28T10:20:08.689Z"
   },
   {
    "duration": 5,
    "start_time": "2022-04-28T10:20:08.947Z"
   },
   {
    "duration": 109,
    "start_time": "2022-04-28T10:20:08.954Z"
   },
   {
    "duration": 4,
    "start_time": "2022-04-28T10:20:09.065Z"
   },
   {
    "duration": 130,
    "start_time": "2022-04-28T10:20:09.070Z"
   },
   {
    "duration": 4,
    "start_time": "2022-04-28T10:20:09.202Z"
   },
   {
    "duration": 141,
    "start_time": "2022-04-28T10:20:09.208Z"
   },
   {
    "duration": 358,
    "start_time": "2022-04-28T10:20:09.351Z"
   },
   {
    "duration": 11,
    "start_time": "2022-04-28T10:20:09.711Z"
   },
   {
    "duration": 28,
    "start_time": "2022-04-28T10:20:09.724Z"
   },
   {
    "duration": 21,
    "start_time": "2022-04-28T10:20:09.755Z"
   },
   {
    "duration": 355,
    "start_time": "2022-04-28T10:20:09.779Z"
   },
   {
    "duration": 19,
    "start_time": "2022-04-28T10:20:10.137Z"
   },
   {
    "duration": 42,
    "start_time": "2022-04-30T11:27:32.661Z"
   },
   {
    "duration": 1236,
    "start_time": "2022-04-30T11:27:44.902Z"
   },
   {
    "duration": 30,
    "start_time": "2022-04-30T11:27:46.140Z"
   },
   {
    "duration": 3,
    "start_time": "2022-04-30T11:27:46.172Z"
   },
   {
    "duration": 25,
    "start_time": "2022-04-30T11:27:46.177Z"
   },
   {
    "duration": 4,
    "start_time": "2022-04-30T11:27:46.203Z"
   },
   {
    "duration": 72,
    "start_time": "2022-04-30T11:27:46.208Z"
   },
   {
    "duration": 6,
    "start_time": "2022-04-30T11:27:46.281Z"
   },
   {
    "duration": 16,
    "start_time": "2022-04-30T11:27:46.288Z"
   },
   {
    "duration": 86,
    "start_time": "2022-04-30T11:27:46.306Z"
   },
   {
    "duration": 0,
    "start_time": "2022-04-30T11:27:46.400Z"
   },
   {
    "duration": 0,
    "start_time": "2022-04-30T11:27:46.401Z"
   },
   {
    "duration": 0,
    "start_time": "2022-04-30T11:27:46.402Z"
   },
   {
    "duration": 0,
    "start_time": "2022-04-30T11:27:46.403Z"
   },
   {
    "duration": 0,
    "start_time": "2022-04-30T11:27:46.404Z"
   },
   {
    "duration": 0,
    "start_time": "2022-04-30T11:27:46.404Z"
   },
   {
    "duration": 0,
    "start_time": "2022-04-30T11:27:46.405Z"
   },
   {
    "duration": 0,
    "start_time": "2022-04-30T11:27:46.406Z"
   },
   {
    "duration": 0,
    "start_time": "2022-04-30T11:27:46.407Z"
   },
   {
    "duration": 0,
    "start_time": "2022-04-30T11:27:46.408Z"
   },
   {
    "duration": 0,
    "start_time": "2022-04-30T11:27:46.409Z"
   },
   {
    "duration": 0,
    "start_time": "2022-04-30T11:27:46.409Z"
   },
   {
    "duration": 0,
    "start_time": "2022-04-30T11:27:46.410Z"
   },
   {
    "duration": 0,
    "start_time": "2022-04-30T11:27:46.411Z"
   },
   {
    "duration": 0,
    "start_time": "2022-04-30T11:27:46.411Z"
   },
   {
    "duration": 0,
    "start_time": "2022-04-30T11:27:46.412Z"
   },
   {
    "duration": 0,
    "start_time": "2022-04-30T11:27:46.413Z"
   },
   {
    "duration": 0,
    "start_time": "2022-04-30T11:27:46.414Z"
   },
   {
    "duration": 0,
    "start_time": "2022-04-30T11:27:46.415Z"
   },
   {
    "duration": 0,
    "start_time": "2022-04-30T11:27:46.416Z"
   },
   {
    "duration": 0,
    "start_time": "2022-04-30T11:27:46.417Z"
   },
   {
    "duration": 27,
    "start_time": "2022-04-30T11:28:07.558Z"
   },
   {
    "duration": 688,
    "start_time": "2022-04-30T11:28:23.370Z"
   },
   {
    "duration": 675,
    "start_time": "2022-04-30T11:28:29.350Z"
   },
   {
    "duration": 4,
    "start_time": "2022-04-30T11:28:37.926Z"
   },
   {
    "duration": 235,
    "start_time": "2022-04-30T11:30:57.211Z"
   },
   {
    "duration": 200,
    "start_time": "2022-04-30T11:31:42.890Z"
   },
   {
    "duration": 11,
    "start_time": "2022-04-30T11:36:16.975Z"
   },
   {
    "duration": 13,
    "start_time": "2022-04-30T11:38:42.615Z"
   },
   {
    "duration": 2,
    "start_time": "2022-04-30T11:43:02.439Z"
   },
   {
    "duration": 1328,
    "start_time": "2022-04-30T11:43:45.183Z"
   },
   {
    "duration": 3,
    "start_time": "2022-04-30T11:45:00.997Z"
   },
   {
    "duration": 838,
    "start_time": "2022-04-30T11:45:07.407Z"
   },
   {
    "duration": 842,
    "start_time": "2022-04-30T11:45:14.151Z"
   },
   {
    "duration": 3,
    "start_time": "2022-04-30T11:46:58.287Z"
   },
   {
    "duration": 3,
    "start_time": "2022-04-30T11:47:04.815Z"
   },
   {
    "duration": 2,
    "start_time": "2022-04-30T11:47:43.471Z"
   },
   {
    "duration": 723,
    "start_time": "2022-04-30T11:47:43.878Z"
   },
   {
    "duration": 1088,
    "start_time": "2022-04-30T11:48:24.195Z"
   },
   {
    "duration": 1150,
    "start_time": "2022-04-30T11:49:24.975Z"
   },
   {
    "duration": 700,
    "start_time": "2022-04-30T11:49:38.954Z"
   },
   {
    "duration": 3,
    "start_time": "2022-04-30T11:49:52.279Z"
   },
   {
    "duration": 5,
    "start_time": "2022-04-30T11:52:57.014Z"
   },
   {
    "duration": 4,
    "start_time": "2022-04-30T11:52:57.183Z"
   },
   {
    "duration": 18,
    "start_time": "2022-04-30T11:53:44.262Z"
   },
   {
    "duration": 192,
    "start_time": "2022-04-30T11:58:43.519Z"
   },
   {
    "duration": 24,
    "start_time": "2022-04-30T11:58:59.179Z"
   },
   {
    "duration": 25,
    "start_time": "2022-04-30T11:59:07.434Z"
   },
   {
    "duration": 6,
    "start_time": "2022-04-30T11:59:16.814Z"
   },
   {
    "duration": 28,
    "start_time": "2022-04-30T11:59:18.791Z"
   },
   {
    "duration": 7,
    "start_time": "2022-04-30T11:59:51.859Z"
   },
   {
    "duration": 5,
    "start_time": "2022-04-30T11:59:58.075Z"
   },
   {
    "duration": 11,
    "start_time": "2022-04-30T12:00:02.419Z"
   },
   {
    "duration": 187,
    "start_time": "2022-04-30T12:00:28.915Z"
   },
   {
    "duration": 1022,
    "start_time": "2022-04-30T12:02:48.111Z"
   },
   {
    "duration": 30,
    "start_time": "2022-04-30T12:02:49.134Z"
   },
   {
    "duration": 3,
    "start_time": "2022-04-30T12:02:49.166Z"
   },
   {
    "duration": 36,
    "start_time": "2022-04-30T12:02:49.171Z"
   },
   {
    "duration": 4,
    "start_time": "2022-04-30T12:02:49.208Z"
   },
   {
    "duration": 74,
    "start_time": "2022-04-30T12:02:49.213Z"
   },
   {
    "duration": 5,
    "start_time": "2022-04-30T12:02:49.288Z"
   },
   {
    "duration": 17,
    "start_time": "2022-04-30T12:02:49.295Z"
   },
   {
    "duration": 5,
    "start_time": "2022-04-30T12:02:49.314Z"
   },
   {
    "duration": 6,
    "start_time": "2022-04-30T12:02:49.322Z"
   },
   {
    "duration": 10,
    "start_time": "2022-04-30T12:02:49.329Z"
   },
   {
    "duration": 6,
    "start_time": "2022-04-30T12:02:49.340Z"
   },
   {
    "duration": 12,
    "start_time": "2022-04-30T12:02:49.347Z"
   },
   {
    "duration": 11,
    "start_time": "2022-04-30T12:02:49.361Z"
   },
   {
    "duration": 175,
    "start_time": "2022-04-30T12:02:49.373Z"
   },
   {
    "duration": 116,
    "start_time": "2022-04-30T12:02:49.549Z"
   },
   {
    "duration": 10,
    "start_time": "2022-04-30T12:02:49.667Z"
   },
   {
    "duration": 221,
    "start_time": "2022-04-30T12:02:49.679Z"
   },
   {
    "duration": 120,
    "start_time": "2022-04-30T12:02:49.901Z"
   },
   {
    "duration": 295,
    "start_time": "2022-04-30T12:02:50.023Z"
   },
   {
    "duration": 286,
    "start_time": "2022-04-30T12:02:50.320Z"
   },
   {
    "duration": 330,
    "start_time": "2022-04-30T12:02:50.608Z"
   },
   {
    "duration": 6,
    "start_time": "2022-04-30T12:02:50.939Z"
   },
   {
    "duration": 257,
    "start_time": "2022-04-30T12:02:50.946Z"
   },
   {
    "duration": 4,
    "start_time": "2022-04-30T12:02:51.204Z"
   },
   {
    "duration": 202,
    "start_time": "2022-04-30T12:02:51.209Z"
   },
   {
    "duration": 3,
    "start_time": "2022-04-30T12:02:51.413Z"
   },
   {
    "duration": 203,
    "start_time": "2022-04-30T12:02:51.419Z"
   },
   {
    "duration": 410,
    "start_time": "2022-04-30T12:02:51.624Z"
   },
   {
    "duration": 9,
    "start_time": "2022-04-30T12:02:52.036Z"
   },
   {
    "duration": 8,
    "start_time": "2022-04-30T12:02:52.046Z"
   },
   {
    "duration": 16,
    "start_time": "2022-04-30T12:02:52.056Z"
   },
   {
    "duration": 335,
    "start_time": "2022-04-30T12:02:52.073Z"
   },
   {
    "duration": 11,
    "start_time": "2022-04-30T12:02:52.410Z"
   },
   {
    "duration": 201,
    "start_time": "2022-04-30T12:04:45.355Z"
   },
   {
    "duration": 193,
    "start_time": "2022-04-30T12:05:36.530Z"
   },
   {
    "duration": 130,
    "start_time": "2022-04-30T12:06:04.463Z"
   },
   {
    "duration": 138,
    "start_time": "2022-04-30T12:07:39.667Z"
   },
   {
    "duration": 127,
    "start_time": "2022-04-30T12:08:08.612Z"
   },
   {
    "duration": 129,
    "start_time": "2022-04-30T12:09:00.039Z"
   },
   {
    "duration": 1126,
    "start_time": "2022-04-30T12:10:35.781Z"
   },
   {
    "duration": 39,
    "start_time": "2022-04-30T12:10:36.908Z"
   },
   {
    "duration": 3,
    "start_time": "2022-04-30T12:10:36.948Z"
   },
   {
    "duration": 21,
    "start_time": "2022-04-30T12:10:36.953Z"
   },
   {
    "duration": 4,
    "start_time": "2022-04-30T12:10:36.975Z"
   },
   {
    "duration": 71,
    "start_time": "2022-04-30T12:10:36.980Z"
   },
   {
    "duration": 6,
    "start_time": "2022-04-30T12:10:37.052Z"
   },
   {
    "duration": 16,
    "start_time": "2022-04-30T12:10:37.059Z"
   },
   {
    "duration": 5,
    "start_time": "2022-04-30T12:10:37.076Z"
   },
   {
    "duration": 7,
    "start_time": "2022-04-30T12:10:37.083Z"
   },
   {
    "duration": 9,
    "start_time": "2022-04-30T12:10:37.091Z"
   },
   {
    "duration": 4,
    "start_time": "2022-04-30T12:10:37.101Z"
   },
   {
    "duration": 11,
    "start_time": "2022-04-30T12:10:37.106Z"
   },
   {
    "duration": 8,
    "start_time": "2022-04-30T12:10:37.119Z"
   },
   {
    "duration": 158,
    "start_time": "2022-04-30T12:10:37.129Z"
   },
   {
    "duration": 117,
    "start_time": "2022-04-30T12:10:37.289Z"
   },
   {
    "duration": 12,
    "start_time": "2022-04-30T12:10:37.408Z"
   },
   {
    "duration": 296,
    "start_time": "2022-04-30T12:10:37.421Z"
   },
   {
    "duration": 0,
    "start_time": "2022-04-30T12:10:37.719Z"
   },
   {
    "duration": 0,
    "start_time": "2022-04-30T12:10:37.720Z"
   },
   {
    "duration": 0,
    "start_time": "2022-04-30T12:10:37.722Z"
   },
   {
    "duration": 0,
    "start_time": "2022-04-30T12:10:37.723Z"
   },
   {
    "duration": 0,
    "start_time": "2022-04-30T12:10:37.725Z"
   },
   {
    "duration": 0,
    "start_time": "2022-04-30T12:10:37.726Z"
   },
   {
    "duration": 0,
    "start_time": "2022-04-30T12:10:37.727Z"
   },
   {
    "duration": 1,
    "start_time": "2022-04-30T12:10:37.728Z"
   },
   {
    "duration": 0,
    "start_time": "2022-04-30T12:10:37.730Z"
   },
   {
    "duration": 0,
    "start_time": "2022-04-30T12:10:37.731Z"
   },
   {
    "duration": 0,
    "start_time": "2022-04-30T12:10:37.732Z"
   },
   {
    "duration": 0,
    "start_time": "2022-04-30T12:10:37.734Z"
   },
   {
    "duration": 0,
    "start_time": "2022-04-30T12:10:37.735Z"
   },
   {
    "duration": 0,
    "start_time": "2022-04-30T12:10:37.737Z"
   },
   {
    "duration": 0,
    "start_time": "2022-04-30T12:10:37.738Z"
   },
   {
    "duration": 0,
    "start_time": "2022-04-30T12:10:37.739Z"
   },
   {
    "duration": 147,
    "start_time": "2022-04-30T12:11:12.305Z"
   },
   {
    "duration": 134,
    "start_time": "2022-04-30T12:11:33.449Z"
   },
   {
    "duration": 146,
    "start_time": "2022-04-30T12:12:16.169Z"
   },
   {
    "duration": 154,
    "start_time": "2022-04-30T12:12:34.737Z"
   },
   {
    "duration": 141,
    "start_time": "2022-04-30T12:13:49.521Z"
   },
   {
    "duration": 137,
    "start_time": "2022-04-30T12:14:06.365Z"
   },
   {
    "duration": 150,
    "start_time": "2022-04-30T12:15:36.367Z"
   },
   {
    "duration": 159,
    "start_time": "2022-04-30T12:15:44.314Z"
   },
   {
    "duration": 368,
    "start_time": "2022-04-30T12:15:50.845Z"
   },
   {
    "duration": 241,
    "start_time": "2022-04-30T12:15:56.574Z"
   },
   {
    "duration": 206,
    "start_time": "2022-04-30T12:16:02.211Z"
   },
   {
    "duration": 177,
    "start_time": "2022-04-30T12:16:05.761Z"
   },
   {
    "duration": 152,
    "start_time": "2022-04-30T12:16:13.782Z"
   },
   {
    "duration": 143,
    "start_time": "2022-04-30T12:16:20.109Z"
   },
   {
    "duration": 145,
    "start_time": "2022-04-30T12:16:25.206Z"
   },
   {
    "duration": 134,
    "start_time": "2022-04-30T12:16:31.226Z"
   },
   {
    "duration": 133,
    "start_time": "2022-04-30T12:16:38.878Z"
   },
   {
    "duration": 145,
    "start_time": "2022-04-30T12:16:45.698Z"
   },
   {
    "duration": 172,
    "start_time": "2022-04-30T12:17:03.397Z"
   },
   {
    "duration": 1108,
    "start_time": "2022-04-30T12:17:40.100Z"
   },
   {
    "duration": 39,
    "start_time": "2022-04-30T12:17:41.210Z"
   },
   {
    "duration": 3,
    "start_time": "2022-04-30T12:17:41.250Z"
   },
   {
    "duration": 20,
    "start_time": "2022-04-30T12:17:41.254Z"
   },
   {
    "duration": 4,
    "start_time": "2022-04-30T12:17:41.275Z"
   },
   {
    "duration": 75,
    "start_time": "2022-04-30T12:17:41.280Z"
   },
   {
    "duration": 5,
    "start_time": "2022-04-30T12:17:41.356Z"
   },
   {
    "duration": 17,
    "start_time": "2022-04-30T12:17:41.362Z"
   },
   {
    "duration": 5,
    "start_time": "2022-04-30T12:17:41.380Z"
   },
   {
    "duration": 6,
    "start_time": "2022-04-30T12:17:41.387Z"
   },
   {
    "duration": 8,
    "start_time": "2022-04-30T12:17:41.394Z"
   },
   {
    "duration": 5,
    "start_time": "2022-04-30T12:17:41.403Z"
   },
   {
    "duration": 12,
    "start_time": "2022-04-30T12:17:41.409Z"
   },
   {
    "duration": 12,
    "start_time": "2022-04-30T12:17:41.422Z"
   },
   {
    "duration": 164,
    "start_time": "2022-04-30T12:17:41.436Z"
   },
   {
    "duration": 116,
    "start_time": "2022-04-30T12:17:41.601Z"
   },
   {
    "duration": 10,
    "start_time": "2022-04-30T12:17:41.718Z"
   },
   {
    "duration": 229,
    "start_time": "2022-04-30T12:17:41.729Z"
   },
   {
    "duration": 195,
    "start_time": "2022-04-30T12:17:41.960Z"
   },
   {
    "duration": 301,
    "start_time": "2022-04-30T12:17:42.156Z"
   },
   {
    "duration": 193,
    "start_time": "2022-04-30T12:17:42.459Z"
   },
   {
    "duration": 306,
    "start_time": "2022-04-30T12:17:42.654Z"
   },
   {
    "duration": 6,
    "start_time": "2022-04-30T12:17:42.962Z"
   },
   {
    "duration": 168,
    "start_time": "2022-04-30T12:17:42.969Z"
   },
   {
    "duration": 4,
    "start_time": "2022-04-30T12:17:43.138Z"
   },
   {
    "duration": 171,
    "start_time": "2022-04-30T12:17:43.144Z"
   },
   {
    "duration": 3,
    "start_time": "2022-04-30T12:17:43.317Z"
   },
   {
    "duration": 125,
    "start_time": "2022-04-30T12:17:43.323Z"
   },
   {
    "duration": 321,
    "start_time": "2022-04-30T12:17:43.450Z"
   },
   {
    "duration": 9,
    "start_time": "2022-04-30T12:17:43.772Z"
   },
   {
    "duration": 19,
    "start_time": "2022-04-30T12:17:43.782Z"
   },
   {
    "duration": 16,
    "start_time": "2022-04-30T12:17:43.802Z"
   },
   {
    "duration": 494,
    "start_time": "2022-04-30T12:17:43.820Z"
   },
   {
    "duration": 13,
    "start_time": "2022-04-30T12:17:44.315Z"
   },
   {
    "duration": 219,
    "start_time": "2022-04-30T12:17:56.320Z"
   },
   {
    "duration": 273,
    "start_time": "2022-04-30T12:18:06.124Z"
   },
   {
    "duration": 1543,
    "start_time": "2022-04-30T12:18:12.767Z"
   },
   {
    "duration": 29,
    "start_time": "2022-04-30T12:18:14.312Z"
   },
   {
    "duration": 3,
    "start_time": "2022-04-30T12:18:14.342Z"
   },
   {
    "duration": 66,
    "start_time": "2022-04-30T12:18:14.347Z"
   },
   {
    "duration": 4,
    "start_time": "2022-04-30T12:18:14.414Z"
   },
   {
    "duration": 101,
    "start_time": "2022-04-30T12:18:14.420Z"
   },
   {
    "duration": 6,
    "start_time": "2022-04-30T12:18:14.523Z"
   },
   {
    "duration": 71,
    "start_time": "2022-04-30T12:18:14.530Z"
   },
   {
    "duration": 6,
    "start_time": "2022-04-30T12:18:14.603Z"
   },
   {
    "duration": 8,
    "start_time": "2022-04-30T12:18:14.611Z"
   },
   {
    "duration": 9,
    "start_time": "2022-04-30T12:18:14.620Z"
   },
   {
    "duration": 4,
    "start_time": "2022-04-30T12:18:14.630Z"
   },
   {
    "duration": 12,
    "start_time": "2022-04-30T12:18:14.635Z"
   },
   {
    "duration": 60,
    "start_time": "2022-04-30T12:18:14.648Z"
   },
   {
    "duration": 320,
    "start_time": "2022-04-30T12:18:14.710Z"
   },
   {
    "duration": 276,
    "start_time": "2022-04-30T12:18:15.032Z"
   },
   {
    "duration": 10,
    "start_time": "2022-04-30T12:18:15.309Z"
   },
   {
    "duration": 481,
    "start_time": "2022-04-30T12:18:15.321Z"
   },
   {
    "duration": 438,
    "start_time": "2022-04-30T12:18:15.804Z"
   },
   {
    "duration": 399,
    "start_time": "2022-04-30T12:18:16.244Z"
   },
   {
    "duration": 358,
    "start_time": "2022-04-30T12:18:16.644Z"
   },
   {
    "duration": 403,
    "start_time": "2022-04-30T12:18:17.003Z"
   },
   {
    "duration": 6,
    "start_time": "2022-04-30T12:18:17.407Z"
   },
   {
    "duration": 227,
    "start_time": "2022-04-30T12:18:17.415Z"
   },
   {
    "duration": 58,
    "start_time": "2022-04-30T12:18:17.644Z"
   },
   {
    "duration": 228,
    "start_time": "2022-04-30T12:18:17.704Z"
   },
   {
    "duration": 4,
    "start_time": "2022-04-30T12:18:17.933Z"
   },
   {
    "duration": 261,
    "start_time": "2022-04-30T12:18:17.940Z"
   },
   {
    "duration": 617,
    "start_time": "2022-04-30T12:18:18.203Z"
   },
   {
    "duration": 9,
    "start_time": "2022-04-30T12:18:18.821Z"
   },
   {
    "duration": 11,
    "start_time": "2022-04-30T12:18:18.831Z"
   },
   {
    "duration": 71,
    "start_time": "2022-04-30T12:18:18.843Z"
   },
   {
    "duration": 613,
    "start_time": "2022-04-30T12:18:18.916Z"
   },
   {
    "duration": 12,
    "start_time": "2022-04-30T12:18:19.531Z"
   },
   {
    "duration": 1173,
    "start_time": "2022-04-30T12:18:35.555Z"
   },
   {
    "duration": 37,
    "start_time": "2022-04-30T12:18:36.732Z"
   },
   {
    "duration": 3,
    "start_time": "2022-04-30T12:18:36.770Z"
   },
   {
    "duration": 21,
    "start_time": "2022-04-30T12:18:36.774Z"
   },
   {
    "duration": 3,
    "start_time": "2022-04-30T12:18:36.800Z"
   },
   {
    "duration": 75,
    "start_time": "2022-04-30T12:18:36.804Z"
   },
   {
    "duration": 6,
    "start_time": "2022-04-30T12:18:36.880Z"
   },
   {
    "duration": 18,
    "start_time": "2022-04-30T12:18:36.887Z"
   },
   {
    "duration": 6,
    "start_time": "2022-04-30T12:18:36.906Z"
   },
   {
    "duration": 8,
    "start_time": "2022-04-30T12:18:36.914Z"
   },
   {
    "duration": 11,
    "start_time": "2022-04-30T12:18:36.923Z"
   },
   {
    "duration": 5,
    "start_time": "2022-04-30T12:18:36.935Z"
   },
   {
    "duration": 11,
    "start_time": "2022-04-30T12:18:36.941Z"
   },
   {
    "duration": 9,
    "start_time": "2022-04-30T12:18:36.953Z"
   },
   {
    "duration": 159,
    "start_time": "2022-04-30T12:18:36.963Z"
   },
   {
    "duration": 123,
    "start_time": "2022-04-30T12:18:37.124Z"
   },
   {
    "duration": 10,
    "start_time": "2022-04-30T12:18:37.249Z"
   },
   {
    "duration": 285,
    "start_time": "2022-04-30T12:18:37.260Z"
   },
   {
    "duration": 356,
    "start_time": "2022-04-30T12:18:37.547Z"
   },
   {
    "duration": 418,
    "start_time": "2022-04-30T12:18:37.904Z"
   },
   {
    "duration": 319,
    "start_time": "2022-04-30T12:18:38.323Z"
   },
   {
    "duration": 458,
    "start_time": "2022-04-30T12:18:38.644Z"
   },
   {
    "duration": 5,
    "start_time": "2022-04-30T12:18:39.104Z"
   },
   {
    "duration": 150,
    "start_time": "2022-04-30T12:18:39.111Z"
   },
   {
    "duration": 4,
    "start_time": "2022-04-30T12:18:39.263Z"
   },
   {
    "duration": 151,
    "start_time": "2022-04-30T12:18:39.268Z"
   },
   {
    "duration": 3,
    "start_time": "2022-04-30T12:18:39.421Z"
   },
   {
    "duration": 124,
    "start_time": "2022-04-30T12:18:39.427Z"
   },
   {
    "duration": 341,
    "start_time": "2022-04-30T12:18:39.552Z"
   },
   {
    "duration": 9,
    "start_time": "2022-04-30T12:18:39.900Z"
   },
   {
    "duration": 11,
    "start_time": "2022-04-30T12:18:39.911Z"
   },
   {
    "duration": 20,
    "start_time": "2022-04-30T12:18:39.924Z"
   },
   {
    "duration": 332,
    "start_time": "2022-04-30T12:18:39.945Z"
   },
   {
    "duration": 21,
    "start_time": "2022-04-30T12:18:40.279Z"
   },
   {
    "duration": 199,
    "start_time": "2022-04-30T12:18:54.403Z"
   },
   {
    "duration": 275,
    "start_time": "2022-04-30T12:19:07.354Z"
   },
   {
    "duration": 183,
    "start_time": "2022-04-30T12:19:16.399Z"
   },
   {
    "duration": 168,
    "start_time": "2022-04-30T12:19:23.359Z"
   },
   {
    "duration": 168,
    "start_time": "2022-04-30T12:19:31.403Z"
   },
   {
    "duration": 1241,
    "start_time": "2022-04-30T12:19:37.881Z"
   },
   {
    "duration": 31,
    "start_time": "2022-04-30T12:19:39.124Z"
   },
   {
    "duration": 4,
    "start_time": "2022-04-30T12:19:39.156Z"
   },
   {
    "duration": 21,
    "start_time": "2022-04-30T12:19:39.162Z"
   },
   {
    "duration": 4,
    "start_time": "2022-04-30T12:19:39.184Z"
   },
   {
    "duration": 80,
    "start_time": "2022-04-30T12:19:39.189Z"
   },
   {
    "duration": 6,
    "start_time": "2022-04-30T12:19:39.270Z"
   },
   {
    "duration": 18,
    "start_time": "2022-04-30T12:19:39.278Z"
   },
   {
    "duration": 5,
    "start_time": "2022-04-30T12:19:39.297Z"
   },
   {
    "duration": 6,
    "start_time": "2022-04-30T12:19:39.304Z"
   },
   {
    "duration": 8,
    "start_time": "2022-04-30T12:19:39.311Z"
   },
   {
    "duration": 5,
    "start_time": "2022-04-30T12:19:39.320Z"
   },
   {
    "duration": 12,
    "start_time": "2022-04-30T12:19:39.326Z"
   },
   {
    "duration": 9,
    "start_time": "2022-04-30T12:19:39.340Z"
   },
   {
    "duration": 169,
    "start_time": "2022-04-30T12:19:39.350Z"
   },
   {
    "duration": 115,
    "start_time": "2022-04-30T12:19:39.521Z"
   },
   {
    "duration": 10,
    "start_time": "2022-04-30T12:19:39.638Z"
   },
   {
    "duration": 451,
    "start_time": "2022-04-30T12:19:39.650Z"
   },
   {
    "duration": 227,
    "start_time": "2022-04-30T12:19:40.103Z"
   },
   {
    "duration": 389,
    "start_time": "2022-04-30T12:19:40.331Z"
   },
   {
    "duration": 300,
    "start_time": "2022-04-30T12:19:40.721Z"
   },
   {
    "duration": 399,
    "start_time": "2022-04-30T12:19:41.022Z"
   },
   {
    "duration": 6,
    "start_time": "2022-04-30T12:19:41.422Z"
   },
   {
    "duration": 158,
    "start_time": "2022-04-30T12:19:41.429Z"
   },
   {
    "duration": 13,
    "start_time": "2022-04-30T12:19:41.589Z"
   },
   {
    "duration": 121,
    "start_time": "2022-04-30T12:19:41.603Z"
   },
   {
    "duration": 4,
    "start_time": "2022-04-30T12:19:41.725Z"
   },
   {
    "duration": 123,
    "start_time": "2022-04-30T12:19:41.732Z"
   },
   {
    "duration": 362,
    "start_time": "2022-04-30T12:19:41.857Z"
   },
   {
    "duration": 9,
    "start_time": "2022-04-30T12:19:42.221Z"
   },
   {
    "duration": 8,
    "start_time": "2022-04-30T12:19:42.232Z"
   },
   {
    "duration": 23,
    "start_time": "2022-04-30T12:19:42.241Z"
   },
   {
    "duration": 348,
    "start_time": "2022-04-30T12:19:42.266Z"
   },
   {
    "duration": 12,
    "start_time": "2022-04-30T12:19:42.616Z"
   },
   {
    "duration": 208,
    "start_time": "2022-04-30T12:19:57.116Z"
   },
   {
    "duration": 1157,
    "start_time": "2022-04-30T12:20:05.063Z"
   },
   {
    "duration": 29,
    "start_time": "2022-04-30T12:20:06.221Z"
   },
   {
    "duration": 2,
    "start_time": "2022-04-30T12:20:06.252Z"
   },
   {
    "duration": 19,
    "start_time": "2022-04-30T12:20:06.256Z"
   },
   {
    "duration": 3,
    "start_time": "2022-04-30T12:20:06.277Z"
   },
   {
    "duration": 72,
    "start_time": "2022-04-30T12:20:06.281Z"
   },
   {
    "duration": 5,
    "start_time": "2022-04-30T12:20:06.354Z"
   },
   {
    "duration": 18,
    "start_time": "2022-04-30T12:20:06.361Z"
   },
   {
    "duration": 5,
    "start_time": "2022-04-30T12:20:06.381Z"
   },
   {
    "duration": 6,
    "start_time": "2022-04-30T12:20:06.388Z"
   },
   {
    "duration": 9,
    "start_time": "2022-04-30T12:20:06.395Z"
   },
   {
    "duration": 6,
    "start_time": "2022-04-30T12:20:06.405Z"
   },
   {
    "duration": 14,
    "start_time": "2022-04-30T12:20:06.412Z"
   },
   {
    "duration": 10,
    "start_time": "2022-04-30T12:20:06.427Z"
   },
   {
    "duration": 285,
    "start_time": "2022-04-30T12:20:06.439Z"
   },
   {
    "duration": 212,
    "start_time": "2022-04-30T12:20:06.726Z"
   },
   {
    "duration": 62,
    "start_time": "2022-04-30T12:20:06.939Z"
   },
   {
    "duration": 500,
    "start_time": "2022-04-30T12:20:07.002Z"
   },
   {
    "duration": 304,
    "start_time": "2022-04-30T12:20:07.503Z"
   },
   {
    "duration": 330,
    "start_time": "2022-04-30T12:20:07.809Z"
   },
   {
    "duration": 175,
    "start_time": "2022-04-30T12:20:08.141Z"
   },
   {
    "duration": 295,
    "start_time": "2022-04-30T12:20:08.318Z"
   },
   {
    "duration": 6,
    "start_time": "2022-04-30T12:20:08.615Z"
   },
   {
    "duration": 141,
    "start_time": "2022-04-30T12:20:08.622Z"
   },
   {
    "duration": 4,
    "start_time": "2022-04-30T12:20:08.765Z"
   },
   {
    "duration": 133,
    "start_time": "2022-04-30T12:20:08.771Z"
   },
   {
    "duration": 4,
    "start_time": "2022-04-30T12:20:08.906Z"
   },
   {
    "duration": 121,
    "start_time": "2022-04-30T12:20:08.913Z"
   },
   {
    "duration": 343,
    "start_time": "2022-04-30T12:20:09.036Z"
   },
   {
    "duration": 9,
    "start_time": "2022-04-30T12:20:09.380Z"
   },
   {
    "duration": 8,
    "start_time": "2022-04-30T12:20:09.399Z"
   },
   {
    "duration": 22,
    "start_time": "2022-04-30T12:20:09.409Z"
   },
   {
    "duration": 353,
    "start_time": "2022-04-30T12:20:09.432Z"
   },
   {
    "duration": 17,
    "start_time": "2022-04-30T12:20:09.786Z"
   },
   {
    "duration": 186,
    "start_time": "2022-04-30T12:20:11.403Z"
   },
   {
    "duration": 191,
    "start_time": "2022-04-30T12:23:08.722Z"
   },
   {
    "duration": 192,
    "start_time": "2022-04-30T12:24:08.014Z"
   },
   {
    "duration": 186,
    "start_time": "2022-04-30T13:33:54.648Z"
   },
   {
    "duration": 52,
    "start_time": "2022-05-03T11:25:40.234Z"
   },
   {
    "duration": 1665,
    "start_time": "2022-05-03T11:25:50.258Z"
   },
   {
    "duration": 99,
    "start_time": "2022-05-03T11:25:51.926Z"
   },
   {
    "duration": 4,
    "start_time": "2022-05-03T11:25:52.027Z"
   },
   {
    "duration": 90,
    "start_time": "2022-05-03T11:25:52.034Z"
   },
   {
    "duration": 6,
    "start_time": "2022-05-03T11:25:52.126Z"
   },
   {
    "duration": 124,
    "start_time": "2022-05-03T11:25:52.134Z"
   },
   {
    "duration": 63,
    "start_time": "2022-05-03T11:25:52.260Z"
   },
   {
    "duration": 47,
    "start_time": "2022-05-03T11:25:52.326Z"
   },
   {
    "duration": 54,
    "start_time": "2022-05-03T11:25:52.376Z"
   },
   {
    "duration": 7,
    "start_time": "2022-05-03T11:25:52.434Z"
   },
   {
    "duration": 10,
    "start_time": "2022-05-03T11:25:52.444Z"
   },
   {
    "duration": 7,
    "start_time": "2022-05-03T11:25:52.456Z"
   },
   {
    "duration": 72,
    "start_time": "2022-05-03T11:25:52.465Z"
   },
   {
    "duration": 14,
    "start_time": "2022-05-03T11:25:52.540Z"
   },
   {
    "duration": 605,
    "start_time": "2022-05-03T11:25:52.556Z"
   },
   {
    "duration": 403,
    "start_time": "2022-05-03T11:25:53.163Z"
   },
   {
    "duration": 72,
    "start_time": "2022-05-03T11:25:53.568Z"
   },
   {
    "duration": 341,
    "start_time": "2022-05-03T11:25:53.643Z"
   },
   {
    "duration": 276,
    "start_time": "2022-05-03T11:25:53.986Z"
   },
   {
    "duration": 361,
    "start_time": "2022-05-03T11:25:54.264Z"
   },
   {
    "duration": 217,
    "start_time": "2022-05-03T11:25:54.626Z"
   },
   {
    "duration": 417,
    "start_time": "2022-05-03T11:25:54.845Z"
   },
   {
    "duration": 9,
    "start_time": "2022-05-03T11:25:55.264Z"
   },
   {
    "duration": 178,
    "start_time": "2022-05-03T11:25:55.277Z"
   },
   {
    "duration": 5,
    "start_time": "2022-05-03T11:25:55.456Z"
   },
   {
    "duration": 211,
    "start_time": "2022-05-03T11:25:55.463Z"
   },
   {
    "duration": 4,
    "start_time": "2022-05-03T11:25:55.676Z"
   },
   {
    "duration": 291,
    "start_time": "2022-05-03T11:25:55.685Z"
   },
   {
    "duration": 669,
    "start_time": "2022-05-03T11:25:55.978Z"
   },
   {
    "duration": 13,
    "start_time": "2022-05-03T11:25:56.648Z"
   },
   {
    "duration": 9,
    "start_time": "2022-05-03T11:25:56.663Z"
   },
   {
    "duration": 20,
    "start_time": "2022-05-03T11:25:56.674Z"
   },
   {
    "duration": 376,
    "start_time": "2022-05-03T11:25:56.696Z"
   },
   {
    "duration": 14,
    "start_time": "2022-05-03T11:25:57.074Z"
   },
   {
    "duration": 7,
    "start_time": "2022-05-03T12:17:55.099Z"
   },
   {
    "duration": 6,
    "start_time": "2022-05-03T12:59:50.200Z"
   },
   {
    "duration": 69,
    "start_time": "2022-05-08T11:05:42.115Z"
   },
   {
    "duration": 47,
    "start_time": "2022-05-08T11:06:05.547Z"
   },
   {
    "duration": 1254,
    "start_time": "2022-05-08T11:06:15.833Z"
   },
   {
    "duration": 29,
    "start_time": "2022-05-08T11:06:17.089Z"
   },
   {
    "duration": 3,
    "start_time": "2022-05-08T11:06:17.119Z"
   },
   {
    "duration": 24,
    "start_time": "2022-05-08T11:06:17.124Z"
   },
   {
    "duration": 6,
    "start_time": "2022-05-08T11:06:17.149Z"
   },
   {
    "duration": 60,
    "start_time": "2022-05-08T11:06:17.156Z"
   },
   {
    "duration": 7,
    "start_time": "2022-05-08T11:06:17.218Z"
   },
   {
    "duration": 20,
    "start_time": "2022-05-08T11:06:17.226Z"
   },
   {
    "duration": 5,
    "start_time": "2022-05-08T11:06:17.247Z"
   },
   {
    "duration": 5,
    "start_time": "2022-05-08T11:06:17.256Z"
   },
   {
    "duration": 9,
    "start_time": "2022-05-08T11:06:17.262Z"
   },
   {
    "duration": 5,
    "start_time": "2022-05-08T11:06:17.307Z"
   },
   {
    "duration": 13,
    "start_time": "2022-05-08T11:06:17.314Z"
   },
   {
    "duration": 10,
    "start_time": "2022-05-08T11:06:17.329Z"
   },
   {
    "duration": 1190,
    "start_time": "2022-05-08T11:06:17.341Z"
   },
   {
    "duration": 0,
    "start_time": "2022-05-08T11:06:18.533Z"
   },
   {
    "duration": 0,
    "start_time": "2022-05-08T11:06:18.534Z"
   },
   {
    "duration": 0,
    "start_time": "2022-05-08T11:06:18.536Z"
   },
   {
    "duration": 0,
    "start_time": "2022-05-08T11:06:18.536Z"
   },
   {
    "duration": 0,
    "start_time": "2022-05-08T11:06:18.538Z"
   },
   {
    "duration": 0,
    "start_time": "2022-05-08T11:06:18.539Z"
   },
   {
    "duration": 0,
    "start_time": "2022-05-08T11:06:18.540Z"
   },
   {
    "duration": 0,
    "start_time": "2022-05-08T11:06:18.541Z"
   },
   {
    "duration": 0,
    "start_time": "2022-05-08T11:06:18.542Z"
   },
   {
    "duration": 0,
    "start_time": "2022-05-08T11:06:18.543Z"
   },
   {
    "duration": 0,
    "start_time": "2022-05-08T11:06:18.545Z"
   },
   {
    "duration": 0,
    "start_time": "2022-05-08T11:06:18.546Z"
   },
   {
    "duration": 0,
    "start_time": "2022-05-08T11:06:18.547Z"
   },
   {
    "duration": 0,
    "start_time": "2022-05-08T11:06:18.549Z"
   },
   {
    "duration": 0,
    "start_time": "2022-05-08T11:06:18.550Z"
   },
   {
    "duration": 0,
    "start_time": "2022-05-08T11:06:18.551Z"
   },
   {
    "duration": 0,
    "start_time": "2022-05-08T11:06:18.552Z"
   },
   {
    "duration": 0,
    "start_time": "2022-05-08T11:06:18.553Z"
   },
   {
    "duration": 0,
    "start_time": "2022-05-08T11:06:18.554Z"
   },
   {
    "duration": 0,
    "start_time": "2022-05-08T11:06:18.555Z"
   },
   {
    "duration": 0,
    "start_time": "2022-05-08T11:06:18.557Z"
   },
   {
    "duration": 1018,
    "start_time": "2022-05-08T11:08:35.135Z"
   },
   {
    "duration": 26,
    "start_time": "2022-05-08T11:08:36.155Z"
   },
   {
    "duration": 3,
    "start_time": "2022-05-08T11:08:36.182Z"
   },
   {
    "duration": 34,
    "start_time": "2022-05-08T11:08:36.187Z"
   },
   {
    "duration": 4,
    "start_time": "2022-05-08T11:08:36.223Z"
   },
   {
    "duration": 61,
    "start_time": "2022-05-08T11:08:36.229Z"
   },
   {
    "duration": 6,
    "start_time": "2022-05-08T11:08:36.291Z"
   },
   {
    "duration": 21,
    "start_time": "2022-05-08T11:08:36.299Z"
   },
   {
    "duration": 5,
    "start_time": "2022-05-08T11:08:36.322Z"
   },
   {
    "duration": 4,
    "start_time": "2022-05-08T11:08:36.330Z"
   },
   {
    "duration": 8,
    "start_time": "2022-05-08T11:08:36.336Z"
   },
   {
    "duration": 5,
    "start_time": "2022-05-08T11:08:36.346Z"
   },
   {
    "duration": 16,
    "start_time": "2022-05-08T11:08:36.352Z"
   },
   {
    "duration": 38,
    "start_time": "2022-05-08T11:08:36.370Z"
   },
   {
    "duration": 909,
    "start_time": "2022-05-08T11:08:36.409Z"
   },
   {
    "duration": 0,
    "start_time": "2022-05-08T11:08:37.320Z"
   },
   {
    "duration": 0,
    "start_time": "2022-05-08T11:08:37.321Z"
   },
   {
    "duration": 0,
    "start_time": "2022-05-08T11:08:37.322Z"
   },
   {
    "duration": 0,
    "start_time": "2022-05-08T11:08:37.323Z"
   },
   {
    "duration": 0,
    "start_time": "2022-05-08T11:08:37.324Z"
   },
   {
    "duration": 0,
    "start_time": "2022-05-08T11:08:37.325Z"
   },
   {
    "duration": 0,
    "start_time": "2022-05-08T11:08:37.326Z"
   },
   {
    "duration": 0,
    "start_time": "2022-05-08T11:08:37.327Z"
   },
   {
    "duration": 0,
    "start_time": "2022-05-08T11:08:37.328Z"
   },
   {
    "duration": 0,
    "start_time": "2022-05-08T11:08:37.329Z"
   },
   {
    "duration": 0,
    "start_time": "2022-05-08T11:08:37.330Z"
   },
   {
    "duration": 0,
    "start_time": "2022-05-08T11:08:37.331Z"
   },
   {
    "duration": 0,
    "start_time": "2022-05-08T11:08:37.332Z"
   },
   {
    "duration": 0,
    "start_time": "2022-05-08T11:08:37.333Z"
   },
   {
    "duration": 0,
    "start_time": "2022-05-08T11:08:37.334Z"
   },
   {
    "duration": 0,
    "start_time": "2022-05-08T11:08:37.335Z"
   },
   {
    "duration": 0,
    "start_time": "2022-05-08T11:08:37.336Z"
   },
   {
    "duration": 0,
    "start_time": "2022-05-08T11:08:37.337Z"
   },
   {
    "duration": 0,
    "start_time": "2022-05-08T11:08:37.338Z"
   },
   {
    "duration": 0,
    "start_time": "2022-05-08T11:08:37.339Z"
   },
   {
    "duration": 0,
    "start_time": "2022-05-08T11:08:37.340Z"
   },
   {
    "duration": 1456,
    "start_time": "2022-05-26T12:12:27.598Z"
   },
   {
    "duration": 93,
    "start_time": "2022-05-26T12:12:29.057Z"
   },
   {
    "duration": 4,
    "start_time": "2022-05-26T12:12:29.152Z"
   },
   {
    "duration": 28,
    "start_time": "2022-05-26T12:12:29.159Z"
   },
   {
    "duration": 5,
    "start_time": "2022-05-26T12:12:29.191Z"
   },
   {
    "duration": 202,
    "start_time": "2022-05-26T12:12:29.198Z"
   },
   {
    "duration": 6,
    "start_time": "2022-05-26T12:12:29.404Z"
   },
   {
    "duration": 27,
    "start_time": "2022-05-26T12:12:29.411Z"
   },
   {
    "duration": 6,
    "start_time": "2022-05-26T12:12:29.439Z"
   },
   {
    "duration": 8,
    "start_time": "2022-05-26T12:12:29.447Z"
   },
   {
    "duration": 40,
    "start_time": "2022-05-26T12:12:29.457Z"
   },
   {
    "duration": 20,
    "start_time": "2022-05-26T12:12:29.500Z"
   },
   {
    "duration": 20,
    "start_time": "2022-05-26T12:12:29.522Z"
   },
   {
    "duration": 12,
    "start_time": "2022-05-26T12:12:29.547Z"
   },
   {
    "duration": 154,
    "start_time": "2022-05-26T12:12:29.561Z"
   },
   {
    "duration": 0,
    "start_time": "2022-05-26T12:12:29.716Z"
   },
   {
    "duration": 0,
    "start_time": "2022-05-26T12:12:29.718Z"
   },
   {
    "duration": 0,
    "start_time": "2022-05-26T12:12:29.719Z"
   },
   {
    "duration": 0,
    "start_time": "2022-05-26T12:12:29.720Z"
   },
   {
    "duration": 0,
    "start_time": "2022-05-26T12:12:29.721Z"
   },
   {
    "duration": 0,
    "start_time": "2022-05-26T12:12:29.722Z"
   },
   {
    "duration": 0,
    "start_time": "2022-05-26T12:12:29.723Z"
   },
   {
    "duration": 0,
    "start_time": "2022-05-26T12:12:29.724Z"
   },
   {
    "duration": 0,
    "start_time": "2022-05-26T12:12:29.725Z"
   },
   {
    "duration": 0,
    "start_time": "2022-05-26T12:12:29.726Z"
   },
   {
    "duration": 0,
    "start_time": "2022-05-26T12:12:29.728Z"
   },
   {
    "duration": 0,
    "start_time": "2022-05-26T12:12:29.728Z"
   },
   {
    "duration": 0,
    "start_time": "2022-05-26T12:12:29.730Z"
   },
   {
    "duration": 0,
    "start_time": "2022-05-26T12:12:29.731Z"
   },
   {
    "duration": 0,
    "start_time": "2022-05-26T12:12:29.732Z"
   },
   {
    "duration": 0,
    "start_time": "2022-05-26T12:12:29.734Z"
   },
   {
    "duration": 0,
    "start_time": "2022-05-26T12:12:29.735Z"
   },
   {
    "duration": 0,
    "start_time": "2022-05-26T12:12:29.736Z"
   },
   {
    "duration": 0,
    "start_time": "2022-05-26T12:12:29.737Z"
   },
   {
    "duration": 0,
    "start_time": "2022-05-26T12:12:29.738Z"
   },
   {
    "duration": 0,
    "start_time": "2022-05-26T12:12:29.739Z"
   },
   {
    "duration": 11,
    "start_time": "2022-05-26T12:56:48.504Z"
   },
   {
    "duration": 1104,
    "start_time": "2022-05-26T13:06:49.995Z"
   },
   {
    "duration": 48,
    "start_time": "2022-05-26T13:06:51.101Z"
   },
   {
    "duration": 4,
    "start_time": "2022-05-26T13:06:51.151Z"
   },
   {
    "duration": 33,
    "start_time": "2022-05-26T13:06:51.157Z"
   },
   {
    "duration": 10,
    "start_time": "2022-05-26T13:06:51.193Z"
   },
   {
    "duration": 96,
    "start_time": "2022-05-26T13:06:51.204Z"
   },
   {
    "duration": 8,
    "start_time": "2022-05-26T13:06:51.302Z"
   },
   {
    "duration": 24,
    "start_time": "2022-05-26T13:06:51.312Z"
   },
   {
    "duration": 6,
    "start_time": "2022-05-26T13:06:51.337Z"
   },
   {
    "duration": 8,
    "start_time": "2022-05-26T13:06:51.344Z"
   },
   {
    "duration": 9,
    "start_time": "2022-05-26T13:06:51.354Z"
   },
   {
    "duration": 40,
    "start_time": "2022-05-26T13:06:51.365Z"
   },
   {
    "duration": 14,
    "start_time": "2022-05-26T13:06:51.407Z"
   },
   {
    "duration": 14,
    "start_time": "2022-05-26T13:06:51.426Z"
   },
   {
    "duration": 160,
    "start_time": "2022-05-26T13:06:51.442Z"
   },
   {
    "duration": 0,
    "start_time": "2022-05-26T13:06:51.604Z"
   },
   {
    "duration": 0,
    "start_time": "2022-05-26T13:06:51.605Z"
   },
   {
    "duration": 0,
    "start_time": "2022-05-26T13:06:51.606Z"
   },
   {
    "duration": 0,
    "start_time": "2022-05-26T13:06:51.607Z"
   },
   {
    "duration": 0,
    "start_time": "2022-05-26T13:06:51.608Z"
   },
   {
    "duration": 0,
    "start_time": "2022-05-26T13:06:51.609Z"
   },
   {
    "duration": 0,
    "start_time": "2022-05-26T13:06:51.610Z"
   },
   {
    "duration": 0,
    "start_time": "2022-05-26T13:06:51.611Z"
   },
   {
    "duration": 0,
    "start_time": "2022-05-26T13:06:51.611Z"
   },
   {
    "duration": 0,
    "start_time": "2022-05-26T13:06:51.612Z"
   },
   {
    "duration": 0,
    "start_time": "2022-05-26T13:06:51.613Z"
   },
   {
    "duration": 0,
    "start_time": "2022-05-26T13:06:51.614Z"
   },
   {
    "duration": 0,
    "start_time": "2022-05-26T13:06:51.615Z"
   },
   {
    "duration": 0,
    "start_time": "2022-05-26T13:06:51.616Z"
   },
   {
    "duration": 0,
    "start_time": "2022-05-26T13:06:51.619Z"
   },
   {
    "duration": 0,
    "start_time": "2022-05-26T13:06:51.620Z"
   },
   {
    "duration": 0,
    "start_time": "2022-05-26T13:06:51.621Z"
   },
   {
    "duration": 0,
    "start_time": "2022-05-26T13:06:51.622Z"
   },
   {
    "duration": 0,
    "start_time": "2022-05-26T13:06:51.623Z"
   },
   {
    "duration": 0,
    "start_time": "2022-05-26T13:06:51.624Z"
   },
   {
    "duration": 0,
    "start_time": "2022-05-26T13:06:51.625Z"
   },
   {
    "duration": 32,
    "start_time": "2022-05-26T13:11:49.530Z"
   },
   {
    "duration": 179,
    "start_time": "2022-05-26T13:13:29.109Z"
   },
   {
    "duration": 1162,
    "start_time": "2022-05-26T13:13:55.562Z"
   },
   {
    "duration": 46,
    "start_time": "2022-05-26T13:13:56.727Z"
   },
   {
    "duration": 3,
    "start_time": "2022-05-26T13:13:56.775Z"
   },
   {
    "duration": 54,
    "start_time": "2022-05-26T13:13:56.780Z"
   },
   {
    "duration": 16,
    "start_time": "2022-05-26T13:13:56.836Z"
   },
   {
    "duration": 85,
    "start_time": "2022-05-26T13:13:56.854Z"
   },
   {
    "duration": 8,
    "start_time": "2022-05-26T13:13:56.941Z"
   },
   {
    "duration": 49,
    "start_time": "2022-05-26T13:13:56.951Z"
   },
   {
    "duration": 26,
    "start_time": "2022-05-26T13:13:57.002Z"
   },
   {
    "duration": 24,
    "start_time": "2022-05-26T13:13:57.031Z"
   },
   {
    "duration": 26,
    "start_time": "2022-05-26T13:13:57.056Z"
   },
   {
    "duration": 21,
    "start_time": "2022-05-26T13:13:57.084Z"
   },
   {
    "duration": 39,
    "start_time": "2022-05-26T13:13:57.106Z"
   },
   {
    "duration": 17,
    "start_time": "2022-05-26T13:13:57.147Z"
   },
   {
    "duration": 210,
    "start_time": "2022-05-26T13:13:57.166Z"
   },
   {
    "duration": 188,
    "start_time": "2022-05-26T13:13:57.379Z"
   },
   {
    "duration": 161,
    "start_time": "2022-05-26T13:13:57.569Z"
   },
   {
    "duration": 14,
    "start_time": "2022-05-26T13:13:57.732Z"
   },
   {
    "duration": 414,
    "start_time": "2022-05-26T13:13:57.748Z"
   },
   {
    "duration": 281,
    "start_time": "2022-05-26T13:13:58.164Z"
   },
   {
    "duration": 330,
    "start_time": "2022-05-26T13:13:58.447Z"
   },
   {
    "duration": 219,
    "start_time": "2022-05-26T13:13:58.779Z"
   },
   {
    "duration": 324,
    "start_time": "2022-05-26T13:13:59.000Z"
   },
   {
    "duration": 6,
    "start_time": "2022-05-26T13:13:59.326Z"
   },
   {
    "duration": 179,
    "start_time": "2022-05-26T13:13:59.334Z"
   },
   {
    "duration": 4,
    "start_time": "2022-05-26T13:13:59.515Z"
   },
   {
    "duration": 197,
    "start_time": "2022-05-26T13:13:59.521Z"
   },
   {
    "duration": 5,
    "start_time": "2022-05-26T13:13:59.722Z"
   },
   {
    "duration": 173,
    "start_time": "2022-05-26T13:13:59.729Z"
   },
   {
    "duration": 520,
    "start_time": "2022-05-26T13:13:59.903Z"
   },
   {
    "duration": 11,
    "start_time": "2022-05-26T13:14:00.425Z"
   },
   {
    "duration": 29,
    "start_time": "2022-05-26T13:14:00.438Z"
   },
   {
    "duration": 99,
    "start_time": "2022-05-26T13:14:00.469Z"
   },
   {
    "duration": 52,
    "start_time": "2022-05-26T13:14:00.571Z"
   },
   {
    "duration": 559,
    "start_time": "2022-05-26T13:14:00.625Z"
   },
   {
    "duration": 14,
    "start_time": "2022-05-26T13:14:01.186Z"
   },
   {
    "duration": 1148,
    "start_time": "2022-07-18T09:40:58.833Z"
   },
   {
    "duration": 81,
    "start_time": "2022-07-18T09:40:59.983Z"
   },
   {
    "duration": 3,
    "start_time": "2022-07-18T09:41:00.066Z"
   },
   {
    "duration": 26,
    "start_time": "2022-07-18T09:41:00.071Z"
   },
   {
    "duration": 4,
    "start_time": "2022-07-18T09:41:00.099Z"
   },
   {
    "duration": 187,
    "start_time": "2022-07-18T09:41:00.105Z"
   },
   {
    "duration": 7,
    "start_time": "2022-07-18T09:41:00.294Z"
   },
   {
    "duration": 43,
    "start_time": "2022-07-18T09:41:00.303Z"
   },
   {
    "duration": 17,
    "start_time": "2022-07-18T09:41:00.348Z"
   },
   {
    "duration": 38,
    "start_time": "2022-07-18T09:41:00.369Z"
   },
   {
    "duration": 34,
    "start_time": "2022-07-18T09:41:00.409Z"
   },
   {
    "duration": 25,
    "start_time": "2022-07-18T09:41:00.444Z"
   },
   {
    "duration": 48,
    "start_time": "2022-07-18T09:41:00.471Z"
   },
   {
    "duration": 25,
    "start_time": "2022-07-18T09:41:00.522Z"
   },
   {
    "duration": 211,
    "start_time": "2022-07-18T09:41:00.549Z"
   },
   {
    "duration": 192,
    "start_time": "2022-07-18T09:41:00.761Z"
   },
   {
    "duration": 144,
    "start_time": "2022-07-18T09:41:00.955Z"
   },
   {
    "duration": 19,
    "start_time": "2022-07-18T09:41:01.109Z"
   },
   {
    "duration": 300,
    "start_time": "2022-07-18T09:41:01.129Z"
   },
   {
    "duration": 240,
    "start_time": "2022-07-18T09:41:01.431Z"
   },
   {
    "duration": 361,
    "start_time": "2022-07-18T09:41:01.673Z"
   },
   {
    "duration": 208,
    "start_time": "2022-07-18T09:41:02.036Z"
   },
   {
    "duration": 308,
    "start_time": "2022-07-18T09:41:02.246Z"
   },
   {
    "duration": 6,
    "start_time": "2022-07-18T09:41:02.555Z"
   },
   {
    "duration": 177,
    "start_time": "2022-07-18T09:41:02.563Z"
   },
   {
    "duration": 4,
    "start_time": "2022-07-18T09:41:02.742Z"
   },
   {
    "duration": 176,
    "start_time": "2022-07-18T09:41:02.748Z"
   },
   {
    "duration": 4,
    "start_time": "2022-07-18T09:41:02.928Z"
   },
   {
    "duration": 167,
    "start_time": "2022-07-18T09:41:02.933Z"
   },
   {
    "duration": 397,
    "start_time": "2022-07-18T09:41:03.102Z"
   },
   {
    "duration": 26,
    "start_time": "2022-07-18T09:41:03.501Z"
   },
   {
    "duration": 9,
    "start_time": "2022-07-18T09:41:03.529Z"
   },
   {
    "duration": 48,
    "start_time": "2022-07-18T09:41:03.539Z"
   },
   {
    "duration": 6,
    "start_time": "2022-07-18T09:41:03.589Z"
   },
   {
    "duration": 382,
    "start_time": "2022-07-18T09:41:03.597Z"
   },
   {
    "duration": 14,
    "start_time": "2022-07-18T09:41:03.981Z"
   },
   {
    "duration": 5,
    "start_time": "2022-07-18T09:41:37.577Z"
   },
   {
    "duration": 6,
    "start_time": "2022-07-18T09:42:06.475Z"
   },
   {
    "duration": 9,
    "start_time": "2022-07-18T09:47:28.121Z"
   }
  ],
  "kernelspec": {
   "display_name": "Python 3 (ipykernel)",
   "language": "python",
   "name": "python3"
  },
  "language_info": {
   "codemirror_mode": {
    "name": "ipython",
    "version": 3
   },
   "file_extension": ".py",
   "mimetype": "text/x-python",
   "name": "python",
   "nbconvert_exporter": "python",
   "pygments_lexer": "ipython3",
   "version": "3.8.10"
  },
  "toc": {
   "base_numbering": 1,
   "nav_menu": {},
   "number_sections": true,
   "sideBar": true,
   "skip_h1_title": true,
   "title_cell": "Table of Contents",
   "title_sidebar": "Contents",
   "toc_cell": false,
   "toc_position": {
    "height": "calc(100% - 180px)",
    "left": "10px",
    "top": "150px",
    "width": "358.391px"
   },
   "toc_section_display": true,
   "toc_window_display": true
  }
 },
 "nbformat": 4,
 "nbformat_minor": 2
}
